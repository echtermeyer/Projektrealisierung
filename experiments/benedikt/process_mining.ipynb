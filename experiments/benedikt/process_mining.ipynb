{
 "cells": [
  {
   "cell_type": "markdown",
   "metadata": {},
   "source": [
    "# **Data Exploration for Process Mining**"
   ]
  },
  {
   "cell_type": "code",
   "execution_count": null,
   "metadata": {},
   "outputs": [],
   "source": [
    "import os\n",
    "import sys\n",
    "import warnings\n",
    "\n",
    "import matplotlib.pyplot as plt\n",
    "import numpy as np\n",
    "import pandas as pd\n",
    "\n",
    "# setting some options:\n",
    "# pd.set_option(\"display.max_rows\", None)\n",
    "pd.set_option(\"display.max_columns\", None)\n",
    "# pd.set_option(\"display.max_colwidth\", None)\n",
    "warnings.filterwarnings(\"ignore\", category=pd.errors.SettingWithCopyWarning)\n",
    "\n",
    "cwd = os.getcwd()\n",
    "root_dir = os.path.dirname(os.path.dirname(cwd))\n",
    "sys.path.append(root_dir)\n",
    "sys.path.append(root_dir)\n",
    "\n",
    "from src.loader import TripLoader\n",
    "\n",
    "trip_loader = TripLoader()\n",
    "trips_data_ABCD = trip_loader.trips_ABCD\n",
    "trips_data_MNOP = trip_loader.trips_MNOP\n",
    "trips_data_ZYXW = trip_loader.trips_ZYXW"
   ]
  },
  {
   "cell_type": "code",
   "execution_count": null,
   "metadata": {},
   "outputs": [],
   "source": [
    "# new flight id\n",
    "\n",
    "trips_data = trips_data_ABCD\n",
    "trips_data[\"flight_id\"] = (\n",
    "    trips_data[\"airline_code\"].astype(str)\n",
    "    + \"_\"\n",
    "    + trips_data[\"flight_number\"].astype(str)\n",
    "    + \"_\"\n",
    "    + trips_data[\"flight_date\"].astype(str)\n",
    "    + \"_\"\n",
    "    + trips_data[\"departure_airport\"].astype(str)\n",
    ")\n",
    "overview = [\n",
    "    \"id\",\n",
    "    \"creation_time\",\n",
    "    \"action_name\",\n",
    "    \"flight_id\",\n",
    "    \"airline_code\",\n",
    "    \"flight_number\",\n",
    "    \"flight_date\",\n",
    "    \"departure_airport\",\n",
    "]\n",
    "trips_data[overview].head(3)"
   ]
  },
  {
   "cell_type": "code",
   "execution_count": null,
   "metadata": {},
   "outputs": [],
   "source": [
    "trips_data[overview].sort_values(by=\"flight_id\")"
   ]
  },
  {
   "cell_type": "code",
   "execution_count": null,
   "metadata": {},
   "outputs": [],
   "source": [
    "trips_data.columns"
   ]
  },
  {
   "cell_type": "code",
   "execution_count": null,
   "metadata": {},
   "outputs": [],
   "source": [
    "trips_data[\"action_name\"].unique()"
   ]
  },
  {
   "cell_type": "code",
   "execution_count": null,
   "metadata": {},
   "outputs": [],
   "source": [
    "trips_data[\n",
    "    (trips_data[\"flight_id\"] == \"AB_1070_15_BOM\")\n",
    "    & (trips_data[\"header_category\"] == \"received\")\n",
    "][overview]"
   ]
  },
  {
   "cell_type": "markdown",
   "metadata": {},
   "source": [
    "**creation_time exploration**<br>\n",
    "Es scheint, dass alle bzw. sehr viele Einträge eines Fluges die gleiche `creation_time` haben. Dies würde ein Process Mining erschweren bzw. unmöglich machen, da durch den Zeitstempel die Zusammenhänge und Reihenfolgen erkannt werden können. Im Folgenden wird diese Beobachtung genauer untersucht."
   ]
  },
  {
   "cell_type": "markdown",
   "metadata": {},
   "source": [
    "Zum gruppieren der Flüge wird die oben erstellte `flight_id` genutzt, welche aus `code, number, date und departure airport` besteht.\n",
    "Da Einträge zudem doppelt sind sollten die Flüge nach der  `header_category` saved oder received gefiltert werden."
   ]
  },
  {
   "cell_type": "markdown",
   "metadata": {},
   "source": [
    "Der aktuelle Zeitstempel enthält keine Millisekunden, diese werden aus `header_line` extrahiert und der Zeitstempel geupdated."
   ]
  },
  {
   "cell_type": "code",
   "execution_count": null,
   "metadata": {},
   "outputs": [],
   "source": [
    "import pandas as pd\n",
    "\n",
    "\n",
    "def explore_times(trips_data, filter_option=\"received\", aggregation_method=\"header_id\"):\n",
    "    \"\"\"\n",
    "    Aggregates flight data based on the specified filter option and aggregation method.\n",
    "\n",
    "    Parameters:\n",
    "    trips_data (pd.DataFrame): The DataFrame containing flight data.\n",
    "    filter_option (str): The filter for 'header_category', either 'received' or 'saved'. Default is 'received'.\n",
    "    aggregation_method (str): The aggregation method, either 'header_id' or 'flight_id'. Default is 'header_id'.\n",
    "\n",
    "    Returns:\n",
    "    pd.DataFrame: The aggregated result.\n",
    "    \"\"\"\n",
    "    # Filter the DataFrame by 'header_category'\n",
    "    filtered_data = trips_data[trips_data[\"header_category\"] == filter_option]\n",
    "\n",
    "    # Convert 'creation_time' to datetime\n",
    "    filtered_data[\"creation_time\"] = pd.to_datetime(filtered_data[\"creation_time\"])\n",
    "\n",
    "    # Extract milliseconds from 'header_line'\n",
    "    filtered_data[\"milliseconds\"] = filtered_data[\"header_line\"].apply(\n",
    "        lambda x: int(x.split(\",\")[1].split()[0])\n",
    "    )\n",
    "\n",
    "    # Include milliseconds in 'creation_time'\n",
    "    filtered_data[\"creation_time\"] = filtered_data.apply(\n",
    "        lambda row: row[\"creation_time\"]\n",
    "        + pd.Timedelta(milliseconds=row[\"milliseconds\"]),\n",
    "        axis=1,\n",
    "    )\n",
    "\n",
    "    # Set the group_column based on the aggregation_method\n",
    "    group_column = \"flight_id\" if aggregation_method == \"flight_id\" else \"header_id\"\n",
    "\n",
    "    # Group by the chosen column and aggregate\n",
    "    result = (\n",
    "        filtered_data.groupby(group_column)\n",
    "        .agg(\n",
    "            num_entries=(group_column, \"size\"),\n",
    "            all_time_same=(\"creation_time\", lambda x: x.nunique() == 1),\n",
    "            num_unique_time=(\"creation_time\", \"nunique\"),\n",
    "            creation_times=(\"creation_time\", lambda x: list(x)),\n",
    "        )\n",
    "        .reset_index()\n",
    "    )\n",
    "\n",
    "    # Calculate the number of duplicates in creation_times\n",
    "    result[\"num_duplicates\"] = result[\"creation_times\"].apply(\n",
    "        lambda x: len(x) - len(set(x))\n",
    "    )\n",
    "\n",
    "    # Reorder columns for better readability\n",
    "    result = result[\n",
    "        [\n",
    "            group_column,\n",
    "            \"num_entries\",\n",
    "            \"all_time_same\",\n",
    "            \"num_unique_time\",\n",
    "            \"creation_times\",\n",
    "            \"num_duplicates\",\n",
    "        ]\n",
    "    ]\n",
    "\n",
    "    # Rename group_column to 'aggregation_id' for consistency\n",
    "    result = result.rename(columns={group_column: \"aggregation_id\"})\n",
    "\n",
    "    return result"
   ]
  },
  {
   "cell_type": "code",
   "execution_count": null,
   "metadata": {},
   "outputs": [],
   "source": [
    "result = explore_times(\n",
    "    trips_data, filter_option=\"received\", aggregation_method=\"flight_id\"\n",
    ")\n",
    "result"
   ]
  },
  {
   "cell_type": "code",
   "execution_count": null,
   "metadata": {},
   "outputs": [],
   "source": [
    "false_count = (result[\"all_time_same\"] == False).sum()\n",
    "print(\n",
    "    f\"Anzahl der Flüge ohne ausschließlich gleiche Zeitstempeln: {false_count} von {result.shape[0]} ({false_count/result.shape[0]*100:.2f}%)\"\n",
    ")"
   ]
  },
  {
   "cell_type": "markdown",
   "metadata": {},
   "source": [
    "**Betrachtung wie die Zeiten der Aktivitäten verteilt sind**"
   ]
  },
  {
   "cell_type": "code",
   "execution_count": null,
   "metadata": {},
   "outputs": [],
   "source": [
    "# Flug AB_1070_15_BOM\n",
    "times = result[result[\"aggregation_id\"] == \"AB_1070_15_BOM\"][\"creation_times\"].iloc[0]\n",
    "times"
   ]
  },
  {
   "cell_type": "code",
   "execution_count": null,
   "metadata": {},
   "outputs": [],
   "source": [
    "# Calculate the time difference between the max and min timestamps in seconds\n",
    "result[\"time_difference_seconds\"] = result[\"creation_times\"].apply(\n",
    "    lambda x: (max(x) - min(x)).total_seconds()\n",
    ")\n",
    "\n",
    "# Data for the plot\n",
    "data = result[\"time_difference_seconds\"]\n",
    "\n",
    "# Create a figure and a set of subplots\n",
    "fig, axs = plt.subplots(1, 2, figsize=(12, 5), gridspec_kw={\"width_ratios\": [3, 1]})\n",
    "\n",
    "# Histogram on the first subplot\n",
    "axs[0].hist(data, bins=150, color=\"blue\", edgecolor=\"black\")\n",
    "axs[0].set_title(\"Distribution of Time Differences (Seconds)\")\n",
    "axs[0].set_xlabel(\"Time Difference (seconds)\")\n",
    "axs[0].set_ylabel(\"Frequency\")\n",
    "axs[0].set_xlim(\n",
    "    left=0, right=max(data) + 100\n",
    ")  # Adjust the upper limit based on your data\n",
    "\n",
    "# Boxplot on the second subplot\n",
    "axs[1].boxplot(data, vert=True)  # 'vert=True' makes the boxplot vertical\n",
    "axs[1].set_title(\"Box Plot of Time Differences\")\n",
    "axs[1].set_ylabel(\"Time Difference (seconds)\")\n",
    "\n",
    "# Adjust layout to prevent overlapping\n",
    "plt.tight_layout()\n",
    "\n",
    "# Show the plots\n",
    "plt.show()"
   ]
  },
  {
   "cell_type": "code",
   "execution_count": null,
   "metadata": {},
   "outputs": [],
   "source": [
    "result[\"time_difference_seconds\"] = result[\"creation_times\"].apply(\n",
    "    lambda x: (max(x) - min(x)).total_seconds()\n",
    ")\n",
    "print(result[\"time_difference_seconds\"].describe())"
   ]
  },
  {
   "cell_type": "code",
   "execution_count": null,
   "metadata": {},
   "outputs": [],
   "source": [
    "print(147182.993662 / 60 / 60)\n",
    "print(589499.025000 / 60 / 60)"
   ]
  },
  {
   "cell_type": "code",
   "execution_count": null,
   "metadata": {},
   "outputs": [],
   "source": [
    "# Define the range for filtering\n",
    "lower_bound = 1\n",
    "upper_bound = 60 * 60\n",
    "\n",
    "# Filter the data based on the specified range\n",
    "filtered_data = result[\n",
    "    result[\"time_difference_seconds\"].between(lower_bound, upper_bound)\n",
    "][\"time_difference_seconds\"]\n",
    "\n",
    "# Create a figure and a set of subplots\n",
    "fig, axs = plt.subplots(1, 2, figsize=(12, 5), gridspec_kw={\"width_ratios\": [3, 1]})\n",
    "\n",
    "# Histogram on the first subplot for filtered data\n",
    "axs[0].hist(filtered_data, bins=50, color=\"green\", edgecolor=\"black\")\n",
    "axs[0].set_title(\n",
    "    f\"Distribution of Time Differences (Seconds) \\nRange: {lower_bound}-{upper_bound} seconds\"\n",
    ")\n",
    "axs[0].set_xlabel(\"Time Difference (seconds)\")\n",
    "axs[0].set_ylabel(\"Frequency\")\n",
    "axs[0].set_xlim(left=lower_bound, right=upper_bound)\n",
    "\n",
    "# Boxplot on the second subplot for filtered data\n",
    "axs[1].boxplot(filtered_data, vert=True)  # 'vert=True' makes the boxplot vertical\n",
    "axs[1].set_title(\"Box Plot of Time Differences\")\n",
    "axs[1].set_ylabel(\"Time Difference (seconds)\")\n",
    "\n",
    "# Adjust layout to prevent overlapping\n",
    "plt.tight_layout()\n",
    "\n",
    "# Show the plots\n",
    "plt.show()"
   ]
  },
  {
   "cell_type": "code",
   "execution_count": null,
   "metadata": {},
   "outputs": [],
   "source": [
    "filtered_data = result[\n",
    "    result[\"time_difference_seconds\"].between(lower_bound, upper_bound)\n",
    "][\"time_difference_seconds\"]\n",
    "filtered_data.describe()"
   ]
  },
  {
   "cell_type": "code",
   "execution_count": null,
   "metadata": {},
   "outputs": [],
   "source": [
    "# Define the range for filtering\n",
    "lower_bound = 77650\n",
    "upper_bound = 77750  # 60*60\n",
    "\n",
    "# Filter the data based on the specified range\n",
    "filtered_data = result[\n",
    "    result[\"time_difference_seconds\"].between(lower_bound, upper_bound)\n",
    "][\"time_difference_seconds\"]\n",
    "\n",
    "# Create a figure and a set of subplots\n",
    "fig, axs = plt.subplots(1, 2, figsize=(12, 5), gridspec_kw={\"width_ratios\": [3, 1]})\n",
    "\n",
    "# Histogram on the first subplot for filtered data\n",
    "axs[0].hist(filtered_data, bins=50, color=\"green\", edgecolor=\"black\")\n",
    "axs[0].set_title(\n",
    "    f\"Distribution of Time Differences (Seconds) \\nRange: {lower_bound}-{upper_bound} seconds\"\n",
    ")\n",
    "axs[0].set_xlabel(\"Time Difference (seconds)\")\n",
    "axs[0].set_ylabel(\"Frequency\")\n",
    "axs[0].set_xlim(left=lower_bound, right=upper_bound)\n",
    "\n",
    "# Boxplot on the second subplot for filtered data\n",
    "axs[1].boxplot(filtered_data, vert=True)  # 'vert=True' makes the boxplot vertical\n",
    "axs[1].set_title(\"Box Plot of Time Differences\")\n",
    "axs[1].set_ylabel(\"Time Difference (seconds)\")\n",
    "\n",
    "# Adjust layout to prevent overlapping\n",
    "plt.tight_layout()\n",
    "\n",
    "# Show the plots\n",
    "plt.show()"
   ]
  },
  {
   "cell_type": "code",
   "execution_count": null,
   "metadata": {},
   "outputs": [],
   "source": [
    "filtered_data = result[\n",
    "    result[\"time_difference_seconds\"].between(lower_bound, upper_bound)\n",
    "][\"time_difference_seconds\"]\n",
    "filtered_data.describe()"
   ]
  },
  {
   "cell_type": "code",
   "execution_count": null,
   "metadata": {},
   "outputs": [],
   "source": [
    "print(77697.196005 / 60 / 60)"
   ]
  },
  {
   "cell_type": "markdown",
   "metadata": {},
   "source": [
    "Betrachtung Flug mit maximal vergangener Zeit:"
   ]
  },
  {
   "cell_type": "code",
   "execution_count": null,
   "metadata": {},
   "outputs": [],
   "source": [
    "# Find the row with the maximum time difference\n",
    "max_diff_row = result[\n",
    "    result[\"time_difference_seconds\"] == result[\"time_difference_seconds\"].max()\n",
    "]\n",
    "max_diff_row"
   ]
  },
  {
   "cell_type": "code",
   "execution_count": null,
   "metadata": {},
   "outputs": [],
   "source": [
    "filtered_data = trips_data[\n",
    "    (trips_data[\"flight_id\"] == \"AB_2128_7_DEL\")\n",
    "    & (trips_data[\"header_category\"] == \"received\")\n",
    "]\n",
    "filtered_data[overview]"
   ]
  },
  {
   "cell_type": "code",
   "execution_count": null,
   "metadata": {},
   "outputs": [],
   "source": [
    "filtered_data[\"action_name\"].value_counts()"
   ]
  },
  {
   "cell_type": "markdown",
   "metadata": {},
   "source": [
    "Betrachtung Flug mit minimal vergangener Zeit:"
   ]
  },
  {
   "cell_type": "code",
   "execution_count": null,
   "metadata": {},
   "outputs": [],
   "source": [
    "# Find the row with the minimum time difference\n",
    "min_diff_row = result[\n",
    "    result[\"time_difference_seconds\"] == result[\"time_difference_seconds\"].min()\n",
    "]\n",
    "min_diff_row.sort_values(by=\"num_entries\", ascending=False).head(3)"
   ]
  },
  {
   "cell_type": "code",
   "execution_count": null,
   "metadata": {},
   "outputs": [],
   "source": [
    "trips_data[\n",
    "    (trips_data[\"flight_id\"] == \"AB_1070_17_BOM\")\n",
    "    & (trips_data[\"header_category\"] == \"received\")\n",
    "][overview]"
   ]
  },
  {
   "cell_type": "markdown",
   "metadata": {},
   "source": [
    "Betrachtung der Flüge die unterschiedliche Zeitstempel haben:"
   ]
  },
  {
   "cell_type": "code",
   "execution_count": null,
   "metadata": {},
   "outputs": [],
   "source": [
    "false_entries = result[result[\"all_time_same\"] == False]\n",
    "false_aggregation_ids = result[result[\"all_time_same\"] == False][\"aggregation_id\"]\n",
    "false_entries[\"portion_unique_times\"] = (\n",
    "    false_entries[\"num_unique_time\"] / false_entries[\"num_entries\"]\n",
    ")\n",
    "false_entries = false_entries[\n",
    "    [\n",
    "        \"aggregation_id\",\n",
    "        \"num_entries\",\n",
    "        \"all_time_same\",\n",
    "        \"num_unique_time\",\n",
    "        \"portion_unique_times\",\n",
    "        \"creation_times\",\n",
    "        \"num_duplicates\",\n",
    "    ]\n",
    "]\n",
    "\n",
    "false_entries.head()"
   ]
  },
  {
   "cell_type": "code",
   "execution_count": null,
   "metadata": {},
   "outputs": [],
   "source": [
    "average_portion = false_entries[\"portion_unique_times\"].mean()\n",
    "print(\"Durchschnittlicher Anteil der unique_times:\", average_portion)"
   ]
  },
  {
   "cell_type": "markdown",
   "metadata": {},
   "source": [
    "**Betrachtung der Anzahl an Aktivitäten die für einen Flug durchgeführt wurden**"
   ]
  },
  {
   "cell_type": "code",
   "execution_count": null,
   "metadata": {},
   "outputs": [],
   "source": [
    "print(result[\"num_entries\"].describe())"
   ]
  },
  {
   "cell_type": "code",
   "execution_count": null,
   "metadata": {},
   "outputs": [],
   "source": [
    "# Assuming result['num_entries'] is your data array\n",
    "data = result[\"num_entries\"]\n",
    "\n",
    "# Create a figure and a set of subplots\n",
    "fig, axs = plt.subplots(\n",
    "    1, 2, figsize=(12, 5), gridspec_kw={\"width_ratios\": [3, 1]}\n",
    ")  # 1 row, 2 columns, figure size of 12x5 inches\n",
    "\n",
    "# Histogram on the first subplot\n",
    "axs[0].hist(data, bins=150, color=\"blue\", edgecolor=\"black\")\n",
    "axs[0].set_title(\"Distribution of num_entries\")\n",
    "axs[0].set_xlabel(\"Number of Entries\")\n",
    "axs[0].set_ylabel(\"Frequency\")\n",
    "axs[0].set_xlim(left=0, right=450)\n",
    "\n",
    "# Boxplot on the second subplot\n",
    "axs[1].boxplot(data, vert=True)  # 'vert=True' makes the boxplot vertical\n",
    "axs[1].set_title(\"Box Plot of num_entries\")\n",
    "axs[1].set_ylabel(\"Number of Entries\")\n",
    "\n",
    "# Adjust layout to prevent overlapping\n",
    "plt.tight_layout()\n",
    "\n",
    "# Show the plots\n",
    "plt.show()"
   ]
  },
  {
   "cell_type": "code",
   "execution_count": null,
   "metadata": {},
   "outputs": [],
   "source": [
    "filtered_trips_data = trips_data[trips_data[\"flight_id\"].isin(false_aggregation_ids)]\n",
    "action_name_counts = filtered_trips_data[overview][\"action_name\"].value_counts()\n",
    "action_name_counts"
   ]
  },
  {
   "cell_type": "code",
   "execution_count": null,
   "metadata": {},
   "outputs": [],
   "source": [
    "# Plot the value counts\n",
    "plt.figure(figsize=(10, 6))\n",
    "action_name_counts.plot(kind=\"bar\")\n",
    "plt.title(\"Action Name Value Counts\")\n",
    "plt.xlabel(\"Action Name\")\n",
    "plt.ylabel(\"Count\")\n",
    "plt.xticks(rotation=90)\n",
    "plt.show()"
   ]
  },
  {
   "cell_type": "markdown",
   "metadata": {},
   "source": [
    "Es scheint teils Flüge zu geben die **sehr viele** Aktivitäten haben (>200)."
   ]
  },
  {
   "cell_type": "markdown",
   "metadata": {},
   "source": [
    "**Learnings:**\n",
    "- 93.24% der Flüge haben Aktivtäten mit unterschiedlichen Zeitstempeln\n",
    "- Zeitunterschiede zwischen den Aktivitäten reichen von 0s bis 163h\n",
    "- Verteilung der Zeitunterschiede sehr breit mit teils starken Spikes\n",
    "- Anzahl der Aktivitäten pro Flug variiert mit für die meinsten Flüge zwischen 0 und 50 sowie 250 und 400\n",
    "\n"
   ]
  },
  {
   "cell_type": "markdown",
   "metadata": {},
   "source": [
    "**Process Mining**\n",
    "Folgende Informationen werden benötigt:\n",
    "- Case ID --> `flight_id`\n",
    "- Activity --> `action_name` \n",
    "- Timestamp --> `creation_time` mit milisekunden\n",
    "\n",
    "Optional\n",
    "- Resource\n",
    "- Activity Duration\n",
    "- ?\n"
   ]
  },
  {
   "cell_type": "markdown",
   "metadata": {},
   "source": [
    "**Testdaten extrahieren für Mining**"
   ]
  },
  {
   "cell_type": "code",
   "execution_count": null,
   "metadata": {},
   "outputs": [],
   "source": [
    "trip_loader = TripLoader()\n",
    "trips_data_ABCD = trip_loader.trips_ABCD\n",
    "# trips_data_MNOP = trip_loader.trips_MNOP\n",
    "# trips_data_ZYXW = trip_loader.trips_ZYXW\n",
    "trips_data = trips_data_ABCD\n",
    "\n",
    "# new flight id\n",
    "trips_data = trips_data_ABCD\n",
    "trips_data[\"flight_id\"] = (\n",
    "    trips_data[\"airline_code\"].astype(str)\n",
    "    + \"_\"\n",
    "    + trips_data[\"flight_number\"].astype(str)\n",
    "    + \"_\"\n",
    "    + trips_data[\"flight_date\"].astype(str)\n",
    "    + \"_\"\n",
    "    + trips_data[\"departure_airport\"].astype(str)\n",
    ")\n",
    "\n",
    "trips_data[\"creation_time\"] = pd.to_datetime(trips_data[\"creation_time\"])\n",
    "\n",
    "# Extracting milliseconds from 'header_line'\n",
    "trips_data[\"milliseconds\"] = trips_data[\"header_line\"].apply(\n",
    "    lambda x: int(x.split(\",\")[1].split()[0])\n",
    ")\n",
    "\n",
    "# Include milliseconds in 'creation_time'\n",
    "trips_data[\"creation_time\"] = trips_data.apply(\n",
    "    lambda row: row[\"creation_time\"] + pd.Timedelta(milliseconds=row[\"milliseconds\"]),\n",
    "    axis=1,\n",
    ")\n",
    "\n",
    "mining_columns = [\"id\", \"flight_id\", \"action_name\", \"creation_time\"]\n",
    "\n",
    "mining_data = trips_data[mining_columns]\n",
    "mining_data"
   ]
  },
  {
   "cell_type": "code",
   "execution_count": null,
   "metadata": {},
   "outputs": [],
   "source": [
    "mining_data.to_csv(\"data/24-06-09_trips_abcd_mining_01.csv\", index=False)"
   ]
  }
 ],
 "metadata": {
  "kernelspec": {
   "display_name": ".venv",
   "language": "python",
   "name": "python3"
  },
  "language_info": {
   "codemirror_mode": {
    "name": "ipython",
    "version": 3
   },
   "file_extension": ".py",
   "mimetype": "text/x-python",
   "name": "python",
   "nbconvert_exporter": "python",
   "pygments_lexer": "ipython3",
   "version": "3.10.14"
  }
 },
 "nbformat": 4,
 "nbformat_minor": 2
}
