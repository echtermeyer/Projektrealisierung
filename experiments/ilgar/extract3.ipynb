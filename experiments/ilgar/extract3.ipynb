{
 "cells": [
  {
   "cell_type": "code",
   "execution_count": null,
   "metadata": {},
   "outputs": [],
   "source": [
    "# Required for importing modules from parent directory\n",
    "import os\n",
    "import sys\n",
    "\n",
    "current_dir = os.path.dirname(os.path.abspath(\"__file__\"))\n",
    "parent_dir = os.path.dirname(current_dir)\n",
    "print(parent_dir)\n",
    "sys.path.append(parent_dir)"
   ]
  },
  {
   "cell_type": "code",
   "execution_count": null,
   "metadata": {},
   "outputs": [],
   "source": [
    "import pandas as pd\n",
    "\n",
    "from src.loader import TripLoader\n",
    "from src.utils import *\n",
    "\n",
    "pd.set_option(\"display.max_rows\", None)\n",
    "pd.set_option(\"display.max_columns\", None)\n",
    "pd.set_option(\"display.max_colwidth\", None)"
   ]
  },
  {
   "cell_type": "code",
   "execution_count": null,
   "metadata": {},
   "outputs": [],
   "source": [
    "df_air = pd.read_csv(\"../src/data/extracted/abcd_UpdateFlightAction_saved.csv\")"
   ]
  },
  {
   "cell_type": "code",
   "execution_count": null,
   "metadata": {},
   "outputs": [],
   "source": [
    "df_air2 = pd.read_csv(\"../src/data/extracted/mnop_UpdateFlightAction_saved.csv\")\n",
    "df_air3 = pd.read_csv(\"../src/data/extracted/zyxw_UpdateFlightAction_saved.csv\")"
   ]
  },
  {
   "cell_type": "code",
   "execution_count": null,
   "metadata": {},
   "outputs": [],
   "source": [
    "df_air.head()"
   ]
  },
  {
   "cell_type": "code",
   "execution_count": null,
   "metadata": {},
   "outputs": [],
   "source": [
    "df_air[\"legs\"] = df_air[\"legs\"].apply(eval)"
   ]
  },
  {
   "cell_type": "code",
   "execution_count": null,
   "metadata": {},
   "outputs": [],
   "source": [
    "filtered_df = df_air[df_air[\"legs\"].apply(len) == 2]"
   ]
  },
  {
   "cell_type": "code",
   "execution_count": null,
   "metadata": {},
   "outputs": [],
   "source": [
    "filtered_df.head()"
   ]
  },
  {
   "cell_type": "code",
   "execution_count": null,
   "metadata": {},
   "outputs": [],
   "source": [
    "len(filtered_df)"
   ]
  },
  {
   "cell_type": "code",
   "execution_count": null,
   "metadata": {},
   "outputs": [],
   "source": [
    "df_air2[\"legs\"] = df_air2[\"legs\"].apply(eval)\n",
    "df_air3[\"legs\"] = df_air3[\"legs\"].apply(eval)"
   ]
  },
  {
   "cell_type": "code",
   "execution_count": null,
   "metadata": {},
   "outputs": [],
   "source": [
    "filtered_df2 = df_air2[df_air2[\"legs\"].apply(len) == 2]\n",
    "filtered_df3 = df_air3[df_air3[\"legs\"].apply(len) == 2]"
   ]
  },
  {
   "cell_type": "code",
   "execution_count": null,
   "metadata": {},
   "outputs": [],
   "source": [
    "len(filtered_df2), len(filtered_df3)"
   ]
  },
  {
   "cell_type": "code",
   "execution_count": null,
   "metadata": {},
   "outputs": [],
   "source": [
    "df_all = pd.concat([filtered_df, filtered_df2, filtered_df3])"
   ]
  },
  {
   "cell_type": "code",
   "execution_count": null,
   "metadata": {},
   "outputs": [],
   "source": [
    "df_all.info()"
   ]
  },
  {
   "cell_type": "code",
   "execution_count": null,
   "metadata": {},
   "outputs": [],
   "source": [
    "# extract airport codes from legs\n",
    "# df_all['origin'] = df_all['legs'].apply(lambda x: x[0]['origin'])"
   ]
  },
  {
   "cell_type": "code",
   "execution_count": null,
   "metadata": {},
   "outputs": [],
   "source": [
    "def extract_airports(legs):\n",
    "    dep_airports = [leg[\"DEP\"] for leg in legs]\n",
    "    dest_airports = [leg[\"DEST\"] for leg in legs]\n",
    "    return dep_airports, dest_airports\n",
    "\n",
    "\n",
    "# Apply the function to create new columns for departure and destination airports\n",
    "df_all[\"first\"], df_all[\"second\"] = zip(*df_all[\"legs\"].apply(extract_airports))\n",
    "\n",
    "# Display the updated DataFrame\n",
    "df_all.head()"
   ]
  },
  {
   "cell_type": "code",
   "execution_count": null,
   "metadata": {},
   "outputs": [],
   "source": [
    "new_data = []\n",
    "\n",
    "for index, row in df_all.iterrows():\n",
    "    flight_id = row[\"flight_id\"]\n",
    "    id = row[\"id\"]\n",
    "    Airline = row[\"Airline\"]\n",
    "    first_leg = row[\"first\"]\n",
    "    second_leg = row[\"second\"]\n",
    "\n",
    "    # Create entries for the first leg\n",
    "    new_data.append(\n",
    "        [\n",
    "            flight_id,\n",
    "            id,\n",
    "            Airline,\n",
    "            \"DEP\",\n",
    "            first_leg[0],\n",
    "            f\"{first_leg[0]}_{first_leg[1]}\",\n",
    "            f\"{first_leg[0]}_{second_leg[1]}\",\n",
    "        ]\n",
    "    )\n",
    "    new_data.append(\n",
    "        [\n",
    "            flight_id,\n",
    "            id,\n",
    "            Airline,\n",
    "            \"ARR\",\n",
    "            first_leg[1],\n",
    "            f\"{first_leg[0]}_{first_leg[1]}\",\n",
    "            f\"{first_leg[0]}_{second_leg[1]}\",\n",
    "        ]\n",
    "    )\n",
    "\n",
    "    # Create entries for the second leg\n",
    "    new_data.append(\n",
    "        [\n",
    "            flight_id,\n",
    "            id,\n",
    "            Airline,\n",
    "            \"DEP\",\n",
    "            second_leg[0],\n",
    "            f\"{second_leg[0]}_{second_leg[1]}\",\n",
    "            f\"{first_leg[0]}_{second_leg[1]}\",\n",
    "        ]\n",
    "    )\n",
    "    new_data.append(\n",
    "        [\n",
    "            flight_id,\n",
    "            id,\n",
    "            Airline,\n",
    "            \"ARR\",\n",
    "            second_leg[1],\n",
    "            f\"{second_leg[0]}_{second_leg[1]}\",\n",
    "            f\"{first_leg[0]}_{second_leg[1]}\",\n",
    "        ]\n",
    "    )\n",
    "\n",
    "# Convert the new data into a DataFrame\n",
    "columns = [\"flight_id\", \"id\", \"Airline\", \"Type\", \"Airport\", \"route\", \"long_flight\"]\n",
    "new_df = pd.DataFrame(new_data, columns=columns)"
   ]
  },
  {
   "cell_type": "code",
   "execution_count": null,
   "metadata": {},
   "outputs": [],
   "source": [
    "new_df.head()"
   ]
  },
  {
   "cell_type": "code",
   "execution_count": null,
   "metadata": {},
   "outputs": [],
   "source": [
    "arr_airports = pd.read_csv(\"arr_airports.csv\")"
   ]
  },
  {
   "cell_type": "code",
   "execution_count": null,
   "metadata": {},
   "outputs": [],
   "source": [
    "arr_airports.head()"
   ]
  },
  {
   "cell_type": "code",
   "execution_count": null,
   "metadata": {},
   "outputs": [],
   "source": [
    "# Merge the new DataFrame with the arr_airports DataFrame with different val names\n",
    "df_fin = new_df.merge(\n",
    "    arr_airports, left_on=\"Airport\", right_on=\"arr_Airport\", how=\"left\"\n",
    ")"
   ]
  },
  {
   "cell_type": "code",
   "execution_count": null,
   "metadata": {},
   "outputs": [],
   "source": [
    "df_fin"
   ]
  },
  {
   "cell_type": "code",
   "execution_count": null,
   "metadata": {},
   "outputs": [],
   "source": [
    "# export to excel\n",
    "df_fin.to_excel(\"df_zwischenflug_long.xlsx\", index=False)"
   ]
  },
  {
   "cell_type": "markdown",
   "metadata": {},
   "source": [
    "### DF für weiterführende Diagramme"
   ]
  },
  {
   "cell_type": "markdown",
   "metadata": {},
   "source": [
    "Zwischenflüge Lande Flughafen"
   ]
  },
  {
   "cell_type": "code",
   "execution_count": null,
   "metadata": {},
   "outputs": [],
   "source": [
    "# take only index with odd index\n",
    "df_dia = new_df[new_df.index % 4 == 1]"
   ]
  },
  {
   "cell_type": "code",
   "execution_count": null,
   "metadata": {},
   "outputs": [],
   "source": [
    "df_dia.head()"
   ]
  },
  {
   "cell_type": "code",
   "execution_count": null,
   "metadata": {},
   "outputs": [],
   "source": [
    "# group by airport and add airline\n",
    "df_grouped_dia = df_dia.groupby(\"Airport\").agg({\"id\": \"count\"}).reset_index()"
   ]
  },
  {
   "cell_type": "code",
   "execution_count": null,
   "metadata": {},
   "outputs": [],
   "source": [
    "# merge with arr_airports\n",
    "df_dia_fin = df_grouped_dia.merge(\n",
    "    arr_airports, left_on=\"Airport\", right_on=\"arr_Airport\", how=\"left\"\n",
    ")"
   ]
  },
  {
   "cell_type": "code",
   "execution_count": null,
   "metadata": {},
   "outputs": [],
   "source": [
    "df_dia_fin.head()"
   ]
  },
  {
   "cell_type": "code",
   "execution_count": null,
   "metadata": {},
   "outputs": [],
   "source": [
    "df_dia_fin[\"id\"].sum()"
   ]
  },
  {
   "cell_type": "code",
   "execution_count": null,
   "metadata": {},
   "outputs": [],
   "source": [
    "# export to excel\n",
    "df_dia_fin.to_excel(\"zwischenlandungen.xlsx\", index=False)"
   ]
  },
  {
   "cell_type": "code",
   "execution_count": null,
   "metadata": {},
   "outputs": [],
   "source": [
    "# group by airline\n",
    "df_grouped_airline = df_dia.groupby(\"Airline\").agg({\"id\": \"count\"}).reset_index()"
   ]
  },
  {
   "cell_type": "code",
   "execution_count": null,
   "metadata": {},
   "outputs": [],
   "source": [
    "df_grouped_airline"
   ]
  },
  {
   "cell_type": "code",
   "execution_count": null,
   "metadata": {},
   "outputs": [],
   "source": [
    "# export to excel\n",
    "df_grouped_airline.to_excel(\"airline_zwischenlandungen.xlsx\", index=False)"
   ]
  },
  {
   "cell_type": "code",
   "execution_count": null,
   "metadata": {},
   "outputs": [],
   "source": []
  }
 ],
 "metadata": {
  "kernelspec": {
   "display_name": ".venv",
   "language": "python",
   "name": "python3"
  },
  "language_info": {
   "codemirror_mode": {
    "name": "ipython",
    "version": 3
   },
   "file_extension": ".py",
   "mimetype": "text/x-python",
   "name": "python",
   "nbconvert_exporter": "python",
   "pygments_lexer": "ipython3",
   "version": "3.11.6"
  }
 },
 "nbformat": 4,
 "nbformat_minor": 2
}
