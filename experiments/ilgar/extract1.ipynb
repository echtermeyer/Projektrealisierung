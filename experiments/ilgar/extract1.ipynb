{
 "cells": [
  {
   "cell_type": "code",
   "execution_count": null,
   "metadata": {},
   "outputs": [],
   "source": [
    "# Required for importing modules from parent directory\n",
    "import os\n",
    "import sys\n",
    "\n",
    "current_dir = os.path.dirname(os.path.abspath(\"__file__\"))\n",
    "parent_dir = os.path.dirname(current_dir)\n",
    "print(parent_dir)\n",
    "sys.path.append(parent_dir)"
   ]
  },
  {
   "cell_type": "code",
   "execution_count": null,
   "metadata": {},
   "outputs": [],
   "source": [
    "import pandas as pd\n",
    "\n",
    "from src.loader import TripLoader\n",
    "from src.utils import *\n",
    "\n",
    "pd.set_option(\"display.max_rows\", None)\n",
    "pd.set_option(\"display.max_columns\", None)\n",
    "pd.set_option(\"display.max_colwidth\", None)"
   ]
  },
  {
   "cell_type": "code",
   "execution_count": null,
   "metadata": {},
   "outputs": [],
   "source": [
    "import re\n",
    "\n",
    "\n",
    "def extract_UpdateFlightAction(entry_string: str, header_category: str):\n",
    "    if header_category == \"received\":\n",
    "        leg_keys = COLUMNS_UpdateFlightAction_RECEIVED\n",
    "    elif header_category == \"saved\":\n",
    "        leg_keys = COLUMNS_UpdateFlightAction_SAVED\n",
    "\n",
    "    entry_string = entry_string.replace(\"\\r\", \"\")\n",
    "    lines = entry_string.split(\"\\n\")\n",
    "    print(lines)\n",
    "\n",
    "    extracted_dict = {}\n",
    "    for line in lines[0:1]:\n",
    "        for key in COLUMNS_UpdateFlightAction_METADATA:\n",
    "            pattern = f\"{key}: (.*?)(?=\\s+\\w+:|$)\"\n",
    "            match = re.search(pattern, line)\n",
    "            if match:\n",
    "                extracted_dict[key] = match.group(1).strip()\n",
    "\n",
    "    legs = []\n",
    "    legs_start_index = lines.index(\"Legs:\") + 2\n",
    "    for line in lines[legs_start_index:]:\n",
    "        if line.strip() == \"\":\n",
    "            continue\n",
    "\n",
    "        values = re.findall(r\"\\d{4}-\\d{2}-\\d{2}T\\d{2}:\\d{2}:\\d{2}|\\S+\", line)\n",
    "        leg_data = dict(zip(leg_keys, values))\n",
    "        legs.append(leg_data)\n",
    "\n",
    "    extracted_dict[\"legs\"] = legs\n",
    "    return extracted_dict"
   ]
  },
  {
   "cell_type": "code",
   "execution_count": null,
   "metadata": {},
   "outputs": [],
   "source": [
    "trip_loader = TripLoader()\n",
    "trips_data = trip_loader.trips_ABCD"
   ]
  },
  {
   "cell_type": "code",
   "execution_count": null,
   "metadata": {},
   "outputs": [],
   "source": [
    "filtered = trips_data[trips_data[\"action_name\"] == \"UpdateFlightAction\"]\n",
    "for idx, row in filtered.iterrows():\n",
    "    entry_string = row[\"entry_details\"]\n",
    "    print(row[\"entry_details\"])\n",
    "    extracted_dict = extract_UpdateFlightAction(entry_string, \"received\")\n",
    "    print(extracted_dict)\n",
    "    break"
   ]
  },
  {
   "cell_type": "code",
   "execution_count": null,
   "metadata": {},
   "outputs": [],
   "source": [
    "trips_data2 = trip_loader.trips_MNOP"
   ]
  },
  {
   "cell_type": "code",
   "execution_count": null,
   "metadata": {},
   "outputs": [],
   "source": [
    "trips_data3 = trip_loader.trips_ZYXW"
   ]
  },
  {
   "cell_type": "code",
   "execution_count": null,
   "metadata": {},
   "outputs": [],
   "source": []
  },
  {
   "cell_type": "code",
   "execution_count": null,
   "metadata": {},
   "outputs": [],
   "source": []
  },
  {
   "cell_type": "code",
   "execution_count": null,
   "metadata": {},
   "outputs": [],
   "source": []
  },
  {
   "cell_type": "code",
   "execution_count": null,
   "metadata": {},
   "outputs": [],
   "source": [
    "# combine all trips data\n",
    "trips_data_all = pd.concat([trips_data, trips_data2, trips_data3])"
   ]
  },
  {
   "cell_type": "code",
   "execution_count": null,
   "metadata": {},
   "outputs": [],
   "source": [
    "trips_data_all.head()"
   ]
  },
  {
   "cell_type": "code",
   "execution_count": null,
   "metadata": {},
   "outputs": [],
   "source": [
    "trips_data_all.info()"
   ]
  },
  {
   "cell_type": "code",
   "execution_count": null,
   "metadata": {},
   "outputs": [],
   "source": [
    "# number of unique values of departure airport\n",
    "trips_data_all[\"departure_airport\"].nunique()"
   ]
  },
  {
   "cell_type": "code",
   "execution_count": null,
   "metadata": {},
   "outputs": [],
   "source": [
    "trips_data_all[\"flight_id\"].nunique()  # 18415 unique flight ids"
   ]
  },
  {
   "cell_type": "code",
   "execution_count": null,
   "metadata": {},
   "outputs": [],
   "source": [
    "trips_data2[trips_data2[\"departureAirport\"] == \"ORY\"]  # results are true"
   ]
  },
  {
   "cell_type": "code",
   "execution_count": null,
   "metadata": {},
   "outputs": [],
   "source": [
    "# df1 = trips_data[[\"flight_id\", \"id\", \"creation_time\", \"airline_code\", \"flight_number\", \"flight_date\", \"departure_airport\", \"user_name\", \"action_name\", \"header_line\", \"entry_details\", \"header_category\", \"header_id\", \"scheduleState\", \"departureAirport\", \"departureTime\", \"arrivalAirport\", \"arrivalTime\"]]\n",
    "# df2 = trips_data2[[\"flight_id\", \"id\", \"creation_time\", \"airline_code\", \"flight_number\", \"flight_date\", \"departure_airport\", \"user_name\", \"action_name\", \"header_line\", \"entry_details\", \"header_category\", \"header_id\", \"scheduleState\", \"departureAirport\", \"departureTime\", \"arrivalAirport\", \"arrivalTime\"]]\n",
    "# df3 = trips_data3[[\"flight_id\", \"id\", \"creation_time\", \"airline_code\", \"flight_number\", \"flight_date\", \"departure_airport\", \"user_name\", \"action_name\", \"header_line\", \"entry_details\", \"header_category\", \"header_id\", \"scheduleState\", \"departureAirport\", \"departureTime\", \"arrivalAirport\", \"arrivalTime\"]]"
   ]
  },
  {
   "cell_type": "code",
   "execution_count": null,
   "metadata": {},
   "outputs": [],
   "source": [
    "# check if there are flights from the same airline with the same airline code in all data"
   ]
  },
  {
   "cell_type": "code",
   "execution_count": null,
   "metadata": {},
   "outputs": [],
   "source": [
    "# groupby with flight id and put in a count column plus the value of departure airport\n",
    "grouped = (\n",
    "    trips_data_all.groupby(\"flight_id\")\n",
    "    .agg({\"departure_airport\": \"first\", \"id\": \"count\", \"airline_code\": \"first\"})\n",
    "    .reset_index()\n",
    ")\n",
    "grouped.info()"
   ]
  },
  {
   "cell_type": "code",
   "execution_count": null,
   "metadata": {},
   "outputs": [],
   "source": [
    "grouped.head()"
   ]
  },
  {
   "cell_type": "code",
   "execution_count": null,
   "metadata": {},
   "outputs": [],
   "source": []
  },
  {
   "cell_type": "code",
   "execution_count": null,
   "metadata": {},
   "outputs": [],
   "source": [
    "# grouped2 = trips_data2.groupby(\"flight_id\").agg({\"departure_airport\": \"first\", \"id\": \"count\"}).reset_index()\n",
    "# grouped3 = trips_data3.groupby(\"flight_id\").agg({\"departure_airport\": \"first\", \"id\": \"count\"}).reset_index()"
   ]
  },
  {
   "cell_type": "code",
   "execution_count": null,
   "metadata": {},
   "outputs": [],
   "source": [
    "# df1 = grouped.groupby(\"departure_airport\").size().reset_index(name=\"count\").sort_values(\"count\", ascending=False)\n",
    "# df2 = grouped2.groupby(\"departure_airport\").size().reset_index(name=\"count\").sort_values(\"count\", ascending=False)\n",
    "# df3 = grouped3.groupby(\"departure_airport\").size().reset_index(name=\"count\").sort_values(\"count\", ascending=False)\n",
    "\n",
    "# df2_1 = df2.iloc[:800000]\n",
    "# df2_2 = df2.iloc[800000:]"
   ]
  },
  {
   "cell_type": "code",
   "execution_count": null,
   "metadata": {},
   "outputs": [],
   "source": [
    "# group departure airport and take airline code and count\n",
    "df1 = (\n",
    "    grouped.groupby(\"departure_airport\")\n",
    "    .agg({\"airline_code\": \"first\", \"id\": \"count\"})\n",
    "    .reset_index()\n",
    ")\n",
    "\n",
    "# df1 = grouped.groupby(\"departure_airport\").size().reset_index(name=\"count\").sort_values(\"count\", ascending=False)"
   ]
  },
  {
   "cell_type": "code",
   "execution_count": null,
   "metadata": {},
   "outputs": [],
   "source": [
    "df1.info()"
   ]
  },
  {
   "cell_type": "code",
   "execution_count": null,
   "metadata": {},
   "outputs": [],
   "source": [
    "df1.head()"
   ]
  },
  {
   "cell_type": "code",
   "execution_count": null,
   "metadata": {},
   "outputs": [],
   "source": [
    "# sum of count df1\n",
    "df1[\"id\"].sum()  # sum is same as the number of unique flight ids, no loss of flights"
   ]
  },
  {
   "cell_type": "code",
   "execution_count": null,
   "metadata": {},
   "outputs": [],
   "source": [
    "# grouped.groupby(\"departure_airport\").size()"
   ]
  },
  {
   "cell_type": "code",
   "execution_count": null,
   "metadata": {},
   "outputs": [],
   "source": [
    "# # dew df with only groupby columns\n",
    "# trips_data.groupby(\"departure_airport\").size().reset_index()"
   ]
  },
  {
   "cell_type": "code",
   "execution_count": null,
   "metadata": {},
   "outputs": [],
   "source": [
    "# # sum of column 0\n",
    "# trips_data.groupby(\"departure_airport\").size().reset_index().sum()"
   ]
  },
  {
   "cell_type": "code",
   "execution_count": null,
   "metadata": {},
   "outputs": [],
   "source": [
    "# df1 = trips_data[[\"flight_id\", \"id\", \"creation_time\", \"airline_code\", \"flight_number\", \"flight_date\", \"departure_airport\", \"user_name\", \"action_name\", \"header_line\", \"entry_details\", \"header_category\", \"header_id\"]]\n",
    "# df2 = trips_data2[[\"flight_id\", \"id\", \"creation_time\", \"airline_code\", \"flight_number\", \"flight_date\", \"departure_airport\", \"user_name\", \"action_name\", \"header_line\", \"entry_details\", \"header_category\", \"header_id\"]]\n",
    "# df3 = trips_data3[[\"flight_id\", \"id\", \"creation_time\", \"airline_code\", \"flight_number\", \"flight_date\", \"departure_airport\", \"user_name\", \"action_name\", \"header_line\", \"entry_details\", \"header_category\", \"header_id\"]]\n",
    "\n",
    "\n",
    "# df1 = trips_data[[\"flight_id\", \"id\", \"creation_time\", \"airline_code\", \"flight_number\", \"flight_date\", \"departure_airport\", \"user_name\", \"action_name\", \"header_category\", \"header_id\"]]\n",
    "# df2 = trips_data2[[\"flight_id\", \"id\", \"creation_time\", \"airline_code\", \"flight_number\", \"flight_date\", \"departure_airport\", \"user_name\", \"action_name\", \"header_category\", \"header_id\"]]\n",
    "# df3 = trips_data3[[\"flight_id\", \"id\", \"creation_time\", \"airline_code\", \"flight_number\", \"flight_date\", \"departure_airport\", \"user_name\", \"action_name\", \"header_category\", \"header_id\"]]\n",
    "\n",
    "# # split df2 in 2 parts\n",
    "# df2_1 = df2.iloc[:800000]\n",
    "# df2_2 = df2.iloc[800000:]"
   ]
  },
  {
   "cell_type": "code",
   "execution_count": null,
   "metadata": {},
   "outputs": [],
   "source": [
    "airports = pd.read_csv(\"airports.csv\")"
   ]
  },
  {
   "cell_type": "code",
   "execution_count": null,
   "metadata": {},
   "outputs": [],
   "source": [
    "airports.head()"
   ]
  },
  {
   "cell_type": "code",
   "execution_count": null,
   "metadata": {},
   "outputs": [],
   "source": [
    "# join df1 and airports on airport code and departure_airport\n",
    "df1_airports = pd.merge(\n",
    "    df1, airports, left_on=\"departure_airport\", right_on=\"Airport Code\", how=\"left\"\n",
    ")"
   ]
  },
  {
   "cell_type": "code",
   "execution_count": null,
   "metadata": {},
   "outputs": [],
   "source": [
    "df1_airports.head()"
   ]
  },
  {
   "cell_type": "code",
   "execution_count": null,
   "metadata": {},
   "outputs": [],
   "source": [
    "# df2_1_airports = pd.merge(df2_1, airports, left_on=\"departure_airport\", right_on=\"Airport Code\", how=\"left\")\n",
    "# df2_2_airports = pd.merge(df2_2, airports, left_on=\"departure_airport\", right_on=\"Airport Code\", how=\"left\")\n",
    "# df3_airports = pd.merge(df3, airports, left_on=\"departure_airport\", right_on=\"Airport Code\", how=\"left\")"
   ]
  },
  {
   "cell_type": "code",
   "execution_count": null,
   "metadata": {},
   "outputs": [],
   "source": [
    "# df3_airports.head()"
   ]
  },
  {
   "cell_type": "code",
   "execution_count": null,
   "metadata": {},
   "outputs": [],
   "source": [
    "# df1airports[\"count\"].sum()"
   ]
  },
  {
   "cell_type": "code",
   "execution_count": null,
   "metadata": {},
   "outputs": [],
   "source": [
    "# df2[\"count\"].sum()"
   ]
  },
  {
   "cell_type": "code",
   "execution_count": null,
   "metadata": {},
   "outputs": [],
   "source": [
    "# df3[\"count\"].sum()"
   ]
  },
  {
   "cell_type": "code",
   "execution_count": null,
   "metadata": {},
   "outputs": [],
   "source": [
    "# export all to excel\n",
    "df1_airports.to_excel(\"df_all_airports.xlsx\", index=False)\n",
    "# df2_1_airports.to_excel(\"df2_1_airports.xlsx\", index=False)\n",
    "# df2_2_airports.to_excel(\"df2_2_airports.xlsx\", index=False)\n",
    "# df3_airports.to_excel(\"df3_airports.xlsx\", index=False)"
   ]
  },
  {
   "cell_type": "code",
   "execution_count": null,
   "metadata": {},
   "outputs": [],
   "source": [
    "# df1.to_csv('result1.csv', index=False)\n",
    "\n",
    "# df2_1.to_excel('result21.xlsx', index=False)\n",
    "# df2_2.to_excel('result22.xlsx', index=False)"
   ]
  },
  {
   "cell_type": "code",
   "execution_count": null,
   "metadata": {},
   "outputs": [],
   "source": [
    "# export to excel with pandas\n",
    "# df1.to_excel('result1.xlsx', index=False)"
   ]
  },
  {
   "cell_type": "code",
   "execution_count": null,
   "metadata": {},
   "outputs": [],
   "source": [
    "# df = pd.concat([df1, df2, df3])"
   ]
  },
  {
   "cell_type": "code",
   "execution_count": null,
   "metadata": {},
   "outputs": [],
   "source": [
    "df.info()"
   ]
  },
  {
   "cell_type": "code",
   "execution_count": null,
   "metadata": {},
   "outputs": [],
   "source": [
    "df.head()"
   ]
  },
  {
   "cell_type": "code",
   "execution_count": null,
   "metadata": {},
   "outputs": [],
   "source": [
    "# df.to_csv('result.csv', index=False)\n",
    "# df3.to_excel('result2.xlsx', index=False)"
   ]
  },
  {
   "cell_type": "code",
   "execution_count": null,
   "metadata": {},
   "outputs": [],
   "source": [
    "df2.head()"
   ]
  },
  {
   "cell_type": "code",
   "execution_count": null,
   "metadata": {},
   "outputs": [],
   "source": []
  }
 ],
 "metadata": {
  "kernelspec": {
   "display_name": ".venv",
   "language": "python",
   "name": "python3"
  },
  "language_info": {
   "codemirror_mode": {
    "name": "ipython",
    "version": 3
   },
   "file_extension": ".py",
   "mimetype": "text/x-python",
   "name": "python",
   "nbconvert_exporter": "python",
   "pygments_lexer": "ipython3",
   "version": "3.11.6"
  }
 },
 "nbformat": 4,
 "nbformat_minor": 2
}
