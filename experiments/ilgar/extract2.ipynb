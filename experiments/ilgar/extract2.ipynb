{
 "cells": [
  {
   "cell_type": "code",
   "execution_count": null,
   "metadata": {},
   "outputs": [],
   "source": [
    "# Required for importing modules from parent directory\n",
    "import os\n",
    "import sys\n",
    "\n",
    "current_dir = os.path.dirname(os.path.abspath(\"__file__\"))\n",
    "parent_dir = os.path.dirname(current_dir)\n",
    "print(parent_dir)\n",
    "sys.path.append(parent_dir)"
   ]
  },
  {
   "cell_type": "code",
   "execution_count": null,
   "metadata": {},
   "outputs": [],
   "source": [
    "import pandas as pd\n",
    "\n",
    "from src.loader import TripLoader\n",
    "from src.utils import *\n",
    "\n",
    "pd.set_option(\"display.max_rows\", None)\n",
    "pd.set_option(\"display.max_columns\", None)\n",
    "pd.set_option(\"display.max_colwidth\", None)"
   ]
  },
  {
   "cell_type": "code",
   "execution_count": null,
   "metadata": {},
   "outputs": [],
   "source": [
    "import re\n",
    "\n",
    "\n",
    "def extract_UpdateFlightAction(entry_string: str, header_category: str):\n",
    "    if header_category == \"received\":\n",
    "        leg_keys = COLUMNS_UpdateFlightAction_RECEIVED\n",
    "    elif header_category == \"saved\":\n",
    "        leg_keys = COLUMNS_UpdateFlightAction_SAVED\n",
    "\n",
    "    entry_string = entry_string.replace(\"\\r\", \"\")\n",
    "    lines = entry_string.split(\"\\n\")\n",
    "    print(lines)\n",
    "\n",
    "    extracted_dict = {}\n",
    "    for line in lines[0:1]:\n",
    "        for key in COLUMNS_UpdateFlightAction_METADATA:\n",
    "            pattern = f\"{key}: (.*?)(?=\\s+\\w+:|$)\"\n",
    "            match = re.search(pattern, line)\n",
    "            if match:\n",
    "                extracted_dict[key] = match.group(1).strip()\n",
    "\n",
    "    legs = []\n",
    "    legs_start_index = lines.index(\"Legs:\") + 2\n",
    "    for line in lines[legs_start_index:]:\n",
    "        if line.strip() == \"\":\n",
    "            continue\n",
    "\n",
    "        values = re.findall(r\"\\d{4}-\\d{2}-\\d{2}T\\d{2}:\\d{2}:\\d{2}|\\S+\", line)\n",
    "        leg_data = dict(zip(leg_keys, values))\n",
    "        legs.append(leg_data)\n",
    "\n",
    "    extracted_dict[\"legs\"] = legs\n",
    "    return extracted_dict"
   ]
  },
  {
   "cell_type": "code",
   "execution_count": null,
   "metadata": {},
   "outputs": [],
   "source": [
    "trip_loader = TripLoader()\n",
    "trips_data = trip_loader.trips_ABCD"
   ]
  },
  {
   "cell_type": "code",
   "execution_count": null,
   "metadata": {},
   "outputs": [],
   "source": [
    "filtered = trips_data[trips_data[\"action_name\"] == \"UpdateFlightAction\"]\n",
    "for idx, row in filtered.iterrows():\n",
    "    entry_string = row[\"entry_details\"]\n",
    "    print(row[\"entry_details\"])\n",
    "    extracted_dict = extract_UpdateFlightAction(entry_string, \"received\")\n",
    "    print(extracted_dict)\n",
    "    break"
   ]
  },
  {
   "cell_type": "code",
   "execution_count": null,
   "metadata": {},
   "outputs": [],
   "source": [
    "trips_data2 = trip_loader.trips_MNOP"
   ]
  },
  {
   "cell_type": "code",
   "execution_count": null,
   "metadata": {},
   "outputs": [],
   "source": [
    "trips_data3 = trip_loader.trips_ZYXW"
   ]
  },
  {
   "cell_type": "code",
   "execution_count": null,
   "metadata": {},
   "outputs": [],
   "source": [
    "df_air = pd.read_csv(\"../src/data/extracted/ABCD_AssignLCCAction.csv\")"
   ]
  },
  {
   "cell_type": "code",
   "execution_count": null,
   "metadata": {},
   "outputs": [],
   "source": [
    "df_air.head()"
   ]
  },
  {
   "cell_type": "code",
   "execution_count": null,
   "metadata": {},
   "outputs": [],
   "source": [
    "df_air.info()"
   ]
  },
  {
   "cell_type": "code",
   "execution_count": null,
   "metadata": {},
   "outputs": [],
   "source": [
    "df_air2 = pd.read_csv(\"../src/data/extracted/MNOP_AssignLCCAction.csv\")"
   ]
  },
  {
   "cell_type": "code",
   "execution_count": null,
   "metadata": {},
   "outputs": [],
   "source": [
    "df_air3 = pd.read_csv(\"../src/data/extracted/ZYXW_AssignLCCAction.csv\")"
   ]
  },
  {
   "cell_type": "code",
   "execution_count": null,
   "metadata": {},
   "outputs": [],
   "source": [
    "df_air_all = pd.concat([df_air, df_air2, df_air3])"
   ]
  },
  {
   "cell_type": "code",
   "execution_count": null,
   "metadata": {},
   "outputs": [],
   "source": [
    "df_air_all = df_air_all[[\"flight_id\", \"A/L\", \"Date\", \"DEP\", \"ARR\"]]"
   ]
  },
  {
   "cell_type": "code",
   "execution_count": null,
   "metadata": {},
   "outputs": [],
   "source": [
    "df_air_all.head()"
   ]
  },
  {
   "cell_type": "code",
   "execution_count": null,
   "metadata": {},
   "outputs": [],
   "source": [
    "# group by flight id and keep all first cols with agg\n",
    "grouped = (\n",
    "    df_air_all.groupby(\"flight_id\")\n",
    "    .agg({\"DEP\": \"first\", \"ARR\": \"first\", \"A/L\": \"first\"})\n",
    "    .reset_index()\n",
    ")\n",
    "grouped.info()"
   ]
  },
  {
   "cell_type": "code",
   "execution_count": null,
   "metadata": {},
   "outputs": [],
   "source": [
    "grouped.head()"
   ]
  },
  {
   "cell_type": "code",
   "execution_count": null,
   "metadata": {},
   "outputs": [],
   "source": [
    "airports = pd.read_csv(\"airports.csv\")"
   ]
  },
  {
   "cell_type": "code",
   "execution_count": null,
   "metadata": {},
   "outputs": [],
   "source": [
    "arr_airports = pd.read_csv(\"arr_airports.csv\")"
   ]
  },
  {
   "cell_type": "code",
   "execution_count": null,
   "metadata": {},
   "outputs": [],
   "source": [
    "df_all = pd.merge(grouped, airports, left_on=\"DEP\", right_on=\"Airport Code\", how=\"left\")"
   ]
  },
  {
   "cell_type": "code",
   "execution_count": null,
   "metadata": {},
   "outputs": [],
   "source": [
    "df_all = pd.merge(\n",
    "    df_all, arr_airports, left_on=\"ARR\", right_on=\"arr_Airport\", how=\"left\"\n",
    ")"
   ]
  },
  {
   "cell_type": "code",
   "execution_count": null,
   "metadata": {},
   "outputs": [],
   "source": [
    "df_all.head()"
   ]
  },
  {
   "cell_type": "code",
   "execution_count": null,
   "metadata": {},
   "outputs": [],
   "source": [
    "df = df_all"
   ]
  },
  {
   "cell_type": "markdown",
   "metadata": {},
   "source": [
    "### Erstellen des DFs für Anzahl der Routen"
   ]
  },
  {
   "cell_type": "code",
   "execution_count": null,
   "metadata": {},
   "outputs": [],
   "source": [
    "df[\"route\"] = df[\"DEP\"] + \"_\" + df[\"ARR\"]\n",
    "\n",
    "# Displaying the DataFrame\n",
    "df.head()"
   ]
  },
  {
   "cell_type": "code",
   "execution_count": null,
   "metadata": {},
   "outputs": [],
   "source": [
    "df.info()"
   ]
  },
  {
   "cell_type": "code",
   "execution_count": null,
   "metadata": {},
   "outputs": [],
   "source": [
    "route_counts = df.groupby(\"route\").size().reset_index(name=\"flight_count\")"
   ]
  },
  {
   "cell_type": "code",
   "execution_count": null,
   "metadata": {},
   "outputs": [],
   "source": [
    "route_counts.head()"
   ]
  },
  {
   "cell_type": "code",
   "execution_count": null,
   "metadata": {},
   "outputs": [],
   "source": [
    "route_counts.info()"
   ]
  },
  {
   "cell_type": "code",
   "execution_count": null,
   "metadata": {},
   "outputs": [],
   "source": [
    "# export to excel\n",
    "route_counts.to_excel(\"route_counts.xlsx\", index=False)"
   ]
  },
  {
   "cell_type": "markdown",
   "metadata": {},
   "source": [
    "### Erstellen des DFs für die Routen-Karte"
   ]
  },
  {
   "cell_type": "code",
   "execution_count": null,
   "metadata": {},
   "outputs": [],
   "source": [
    "df = df_all"
   ]
  },
  {
   "cell_type": "code",
   "execution_count": null,
   "metadata": {},
   "outputs": [],
   "source": [
    "import pandas as pd\n",
    "\n",
    "# Angenommen, dein DataFrame heißt df\n",
    "# Beispiel für das Laden des DataFrame, falls nötig\n",
    "# df = pd.read_csv('deine_datei.csv')\n",
    "\n",
    "# Zeige die ursprünglichen Spaltennamen an\n",
    "print(\"Ursprüngliche Spaltennamen im DataFrame:\", df.columns.tolist())\n",
    "\n",
    "# Entferne führende und nachfolgende Leerzeichen in den Spaltennamen\n",
    "df.columns = df.columns.str.strip()\n",
    "\n",
    "# Zeige die bereinigten Spaltennamen an\n",
    "print(\"Bereinigte Spaltennamen im DataFrame:\", df.columns.tolist())\n",
    "\n",
    "# Neue Struktur erstellen\n",
    "rows = []\n",
    "\n",
    "# Überprüfen, ob die Spalten existieren, bevor sie verwendet werden\n",
    "required_columns = [\n",
    "    \"flight_id\",\n",
    "    \"DEP\",\n",
    "    \"ARR\",\n",
    "    \"Airport Code\",\n",
    "    \"Latitude\",\n",
    "    \"Longitude\",\n",
    "    \"City\",\n",
    "    \"Country\",\n",
    "    \"arr_Airport\",\n",
    "    \"arr_City\",\n",
    "    \"arr_Country\",\n",
    "    \"arr_Latitude\",\n",
    "    \"arr_Longitude\",\n",
    "]\n",
    "\n",
    "missing_columns = [column for column in required_columns if column not in df.columns]\n",
    "if missing_columns:\n",
    "    print(f\"Fehlende Spalten im DataFrame: {missing_columns}\")\n",
    "else:\n",
    "    # Transformation durchführen\n",
    "    for idx, row in df.iterrows():\n",
    "        # Erstellen der Abflug-Zeile\n",
    "        dep_row = {\n",
    "            \"flight_id\": row[\"flight_id\"],\n",
    "            \"Type\": \"DEP\",\n",
    "            \"Airport\": row[\"DEP\"],\n",
    "            \"Code\": row[\"Airport Code\"],\n",
    "            \"Latitude\": row[\"Latitude\"],\n",
    "            \"Longitude\": row[\"Longitude\"],\n",
    "            \"City\": row[\"City\"],\n",
    "            \"Country\": row[\"Country\"],\n",
    "            \"route\": f\"{row['DEP']}_{row['ARR']}\",  # Hinzufügen der 'route'-Spalte\n",
    "        }\n",
    "        rows.append(dep_row)\n",
    "\n",
    "        # Erstellen der Ankunfts-Zeile\n",
    "        arr_row = {\n",
    "            \"flight_id\": row[\"flight_id\"],\n",
    "            \"Type\": \"ARR\",\n",
    "            \"Airport\": row[\"ARR\"],\n",
    "            \"Code\": row[\"arr_Airport\"],\n",
    "            \"Latitude\": row[\"arr_Latitude\"],\n",
    "            \"Longitude\": row[\"arr_Longitude\"],\n",
    "            \"City\": row[\"arr_City\"],\n",
    "            \"Country\": row[\"arr_Country\"],\n",
    "            \"route\": f\"{row['DEP']}_{row['ARR']}\",  # Hinzufügen der 'route'-Spalte\n",
    "        }\n",
    "        rows.append(arr_row)\n",
    "\n",
    "    # Neuer DataFrame aus den neuen Zeilen erstellen\n",
    "    transformed_df = pd.DataFrame(rows)\n",
    "\n",
    "    # Ausgabe anzeigen\n",
    "    print(transformed_df)\n",
    "\n",
    "    # Wenn du die DataFrame in eine CSV-Datei speichern möchtest:\n",
    "    # transformed_df.to_csv('transformed_flights.csv', index=False)"
   ]
  },
  {
   "cell_type": "code",
   "execution_count": null,
   "metadata": {},
   "outputs": [],
   "source": [
    "transformed_df.head()"
   ]
  },
  {
   "cell_type": "code",
   "execution_count": null,
   "metadata": {},
   "outputs": [],
   "source": [
    "# export to excel\n",
    "transformed_df.to_excel(\"df_dep_arr_rows.xlsx\", index=False)"
   ]
  },
  {
   "cell_type": "code",
   "execution_count": null,
   "metadata": {},
   "outputs": [],
   "source": []
  },
  {
   "cell_type": "code",
   "execution_count": null,
   "metadata": {},
   "outputs": [],
   "source": [
    "df_air_dep = df_air_all[[\"flight_id\", \"A/L\", \"Date\", \"DEP\"]]"
   ]
  },
  {
   "cell_type": "code",
   "execution_count": null,
   "metadata": {},
   "outputs": [],
   "source": [
    "df_air_arr = df_air_all[[\"flight_id\", \"A/L\", \"Date\", \"ARR\"]]"
   ]
  },
  {
   "cell_type": "code",
   "execution_count": null,
   "metadata": {},
   "outputs": [],
   "source": [
    "df_air_dep.head()"
   ]
  },
  {
   "cell_type": "code",
   "execution_count": null,
   "metadata": {},
   "outputs": [],
   "source": [
    "grouped = (\n",
    "    df_air_dep.groupby(\"flight_id\")\n",
    "    .agg({\"DEP\": \"first\", \"Date\": \"count\", \"A/L\": \"first\"})\n",
    "    .reset_index()\n",
    ")"
   ]
  },
  {
   "cell_type": "code",
   "execution_count": null,
   "metadata": {},
   "outputs": [],
   "source": [
    "grouped2 = (\n",
    "    df_air_arr.groupby(\"flight_id\")\n",
    "    .agg({\"ARR\": \"first\", \"Date\": \"count\", \"A/L\": \"first\"})\n",
    "    .reset_index()\n",
    ")"
   ]
  },
  {
   "cell_type": "code",
   "execution_count": null,
   "metadata": {},
   "outputs": [],
   "source": [
    "grouped.head()"
   ]
  },
  {
   "cell_type": "code",
   "execution_count": null,
   "metadata": {},
   "outputs": [],
   "source": [
    "grouped.info()"
   ]
  },
  {
   "cell_type": "code",
   "execution_count": null,
   "metadata": {},
   "outputs": [],
   "source": [
    "df_dep = grouped.groupby(\"DEP\").agg({\"A/L\": \"first\"}).reset_index()"
   ]
  },
  {
   "cell_type": "code",
   "execution_count": null,
   "metadata": {},
   "outputs": [],
   "source": [
    "df_arr = grouped2.groupby(\"ARR\").agg({\"A/L\": \"first\"}).reset_index()"
   ]
  },
  {
   "cell_type": "code",
   "execution_count": null,
   "metadata": {},
   "outputs": [],
   "source": [
    "df_dep.info()"
   ]
  },
  {
   "cell_type": "code",
   "execution_count": null,
   "metadata": {},
   "outputs": [],
   "source": [
    "df_dep.head()"
   ]
  },
  {
   "cell_type": "code",
   "execution_count": null,
   "metadata": {},
   "outputs": [],
   "source": [
    "df_arr.info()"
   ]
  },
  {
   "cell_type": "code",
   "execution_count": null,
   "metadata": {},
   "outputs": [],
   "source": [
    "df_arr.head()"
   ]
  },
  {
   "cell_type": "code",
   "execution_count": null,
   "metadata": {},
   "outputs": [],
   "source": [
    "# airports = pd.read_csv(\"airports.csv\")"
   ]
  },
  {
   "cell_type": "code",
   "execution_count": null,
   "metadata": {},
   "outputs": [],
   "source": [
    "airports.head()"
   ]
  },
  {
   "cell_type": "code",
   "execution_count": null,
   "metadata": {},
   "outputs": [],
   "source": [
    "# arr_airports = pd.read_csv(\"arr_airports.csv\")"
   ]
  },
  {
   "cell_type": "code",
   "execution_count": null,
   "metadata": {},
   "outputs": [],
   "source": [
    "arr_airports.head()"
   ]
  },
  {
   "cell_type": "code",
   "execution_count": null,
   "metadata": {},
   "outputs": [],
   "source": [
    "df_dep_export = pd.merge(\n",
    "    df_dep, airports, left_on=\"DEP\", right_on=\"Airport Code\", how=\"left\"\n",
    ")"
   ]
  },
  {
   "cell_type": "code",
   "execution_count": null,
   "metadata": {},
   "outputs": [],
   "source": [
    "# export\n",
    "df_dep_export.to_excel(\"df_dep_export.xlsx\", index=False)"
   ]
  },
  {
   "cell_type": "code",
   "execution_count": null,
   "metadata": {},
   "outputs": [],
   "source": [
    "df_arr_export = pd.merge(\n",
    "    df_arr, arr_airports, left_on=\"ARR\", right_on=\"Airport\", how=\"left\"\n",
    ")"
   ]
  },
  {
   "cell_type": "code",
   "execution_count": null,
   "metadata": {},
   "outputs": [],
   "source": [
    "# export\n",
    "df_arr_export.to_excel(\"df_arr_export.xlsx\", index=False)"
   ]
  },
  {
   "cell_type": "code",
   "execution_count": null,
   "metadata": {},
   "outputs": [],
   "source": [
    "# df_arr = pd.merge(df_dep, airports, left_on=\"ARR\", right_on=\"Airport Code\", how=\"left\")"
   ]
  },
  {
   "cell_type": "code",
   "execution_count": null,
   "metadata": {},
   "outputs": [],
   "source": [
    "# df_arr.head()"
   ]
  },
  {
   "cell_type": "code",
   "execution_count": null,
   "metadata": {},
   "outputs": [],
   "source": [
    "# df_arr_grouped_test = df_arr.groupby([\"ARR\"]).size().reset_index(name=\"count\")"
   ]
  },
  {
   "cell_type": "code",
   "execution_count": null,
   "metadata": {},
   "outputs": [],
   "source": [
    "# export to csv\n",
    "df_arr_grouped_test.to_csv(\"df_arr_grouped_test.csv\", index=False)"
   ]
  },
  {
   "cell_type": "code",
   "execution_count": null,
   "metadata": {},
   "outputs": [],
   "source": [
    "df_dep_grouped_test = df_dep.groupby([\"DEP\"]).size().reset_index(name=\"count\")"
   ]
  },
  {
   "cell_type": "code",
   "execution_count": null,
   "metadata": {},
   "outputs": [],
   "source": [
    "df_dep_grouped_test.info()"
   ]
  },
  {
   "cell_type": "code",
   "execution_count": null,
   "metadata": {},
   "outputs": [],
   "source": [
    "# group by ARR with latitudes and longitudes\n",
    "df_arr_grouped = (\n",
    "    df_arr.groupby([\"ARR\", \"Latitude\", \"Longitude\"]).size().reset_index(name=\"count\")\n",
    ")"
   ]
  },
  {
   "cell_type": "code",
   "execution_count": null,
   "metadata": {},
   "outputs": [],
   "source": [
    "df_arr_grouped.head()"
   ]
  },
  {
   "cell_type": "code",
   "execution_count": null,
   "metadata": {},
   "outputs": [],
   "source": []
  }
 ],
 "metadata": {
  "kernelspec": {
   "display_name": ".venv",
   "language": "python",
   "name": "python3"
  },
  "language_info": {
   "codemirror_mode": {
    "name": "ipython",
    "version": 3
   },
   "file_extension": ".py",
   "mimetype": "text/x-python",
   "name": "python",
   "nbconvert_exporter": "python",
   "pygments_lexer": "ipython3",
   "version": "3.11.6"
  }
 },
 "nbformat": 4,
 "nbformat_minor": 2
}
