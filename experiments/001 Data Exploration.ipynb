{
 "cells": [
  {
   "cell_type": "code",
   "execution_count": null,
   "metadata": {},
   "outputs": [],
   "source": [
    "# Required for importing modules from parent directory\n",
    "import os\n",
    "import sys\n",
    "\n",
    "current_dir = os.path.dirname(os.path.abspath(\"__file__\"))\n",
    "parent_dir = os.path.dirname(current_dir)\n",
    "print(parent_dir)\n",
    "sys.path.append(parent_dir)"
   ]
  },
  {
   "cell_type": "code",
   "execution_count": null,
   "metadata": {},
   "outputs": [],
   "source": [
    "import pandas as pd\n",
    "\n",
    "from src.loader import TripLoader\n",
    "\n",
    "pd.set_option(\"display.max_rows\", None)\n",
    "pd.set_option(\"display.max_columns\", None)\n",
    "pd.set_option(\"display.max_colwidth\", None)"
   ]
  },
  {
   "cell_type": "code",
   "execution_count": null,
   "metadata": {},
   "outputs": [],
   "source": [
    "trip_loader = TripLoader()\n",
    "trips_data = trip_loader.trips"
   ]
  },
  {
   "cell_type": "code",
   "execution_count": null,
   "metadata": {},
   "outputs": [],
   "source": [
    "for col in trips_data.columns:\n",
    "    if col not in [\"id\", \"creation_time\", \"header_line\", \"entry_details\"]:\n",
    "        print(\"#\" * 20)\n",
    "        print(col)\n",
    "        print(trips_data[col].unique())"
   ]
  },
  {
   "cell_type": "markdown",
   "metadata": {},
   "source": [
    "### Insights\n",
    "Das wichtige scheint meistens in `entry_details`zu stehen. Wird kategorisiert durch `action_name`:\n",
    "- `CalculateWeightAndTrimAction`: Am wichtigesten von allen. Enthält eine Übersicht der weights. Kann matched werden zu den timestamps. Leider abgeschnitten und nicht ersichtlich für mich wofür die einzelnen Variablen stehen. \n",
    "- `EstimateStorePaxDataAction`: \n",
    "- `StorePaxDataAction`: Verteilung der Passagiere auf die unterschiedlichen Platzkategorien. Verteilung zwischen `male/female/child`.\n",
    "- `AutoLoadBulkAction`: Keine Ahnung. Inhalte sind unterschiedlich. In letzter Zelle geschätze Gewichte, vermutlich aber wieder nur von den Passagieren. \n",
    "- `AssignLoadplanAction`: Gefühlt gleiche Tabelle wie bei `AutoLoadBulkAction`.\n",
    "- `UpdateFlightAction`: Daraus kann man vermutlich auslesen, ob der Flug verschoben wurde. Kann hilfreich sein, um es mit Verzögerungen im Ladeprozess zu verbinden.\n",
    "- `AssignLCCAction`: High-level Fluginformationen. Vermutlich eher irrelevant.\n",
    "- `StoreRegistrationAndConfigurationAc`: Weights sind hier enthalten. Gibt ein start_weight und ein total_weight. ID kommt ziemlich am Anfang vor, gibt einen Index (vielleicht die prozentuale Auslastung). Auch Abweichungen aufgenommen. Anzahl der Crew.\n",
    "- `TransferCargoAction`: Auch wieder weights am Anfang. Sogar vor `StoreRegistrationAndConfigurationAc`. Im Beispiel alles auf 0.\n",
    "- `CreateZFWMessageAction`: Hier wieder ein unscheinbares Weight enthalten mit 'ZFW' als Prefix. Wofür steht das? Gleiche Gewichtsangabe wie zuvor.\n",
    "- `CreateBaggageLoadItemsAction`: Hier ist wieder eine Gewichtsübersicht. Ich denke mal von Baggage und Passagieren. Schätzwerte.\n",
    "- `UpdateLoadTableAction`: Erneut eine Übersichtstabelle mit den gleichen Werten. Glaube die vorherigen Passagiere stehen doch für etwas anderes. Es gibt hierbei noch zusätzlich ein total_cargo (vielleicht dieses Taxi weight).\n",
    "- `UpdateFuelDataAction`: Hier ist aufgeführt wie viel Fuel das Flugzeug tankt. Nicht eindeutig wie trip_fuel, takeoff_fuel, taxi_fuel sich unterscheiden. Werden diese summiert? Hat hier auch mehr Informationen wie einen max_fuel_cap\n",
    "- `CreateLoadingInstructionAction`: Report mit Weights. Leider nur komplett abgeschnitten, kein Zugriff drauf!!\n",
    "- `CreateLoadsheetAction`: Gleiche wie oben. Wieder ein schönes Datasheet ohne Daten. \n",
    "\n",
    "Die Spalte `header_line` ist vermutlich sowas wie eine Betreffszeile in einer E-Mail. Es steht drinnen was grob gemacht wurde. Meines Erachtens ist nur die Kategorie wirklich wichtig, welche unterteilt werden kann in:\n",
    "- `Received`: Meistens irrelevant\n",
    "- `Sent`: Schöne Übersichten, relevant\n",
    "- `Saved`: Aktueller Fortschritt mit 0/1er Flags, maybe relevant"
   ]
  },
  {
   "cell_type": "code",
   "execution_count": null,
   "metadata": {},
   "outputs": [],
   "source": [
    "print(trips_data.loc[19, \"entry_details\"])"
   ]
  },
  {
   "cell_type": "code",
   "execution_count": null,
   "metadata": {},
   "outputs": [],
   "source": [
    "print(trips_data.loc[20, \"entry_details\"])"
   ]
  },
  {
   "cell_type": "code",
   "execution_count": null,
   "metadata": {},
   "outputs": [],
   "source": [
    "print(trips_data.loc[38, \"entry_details\"])"
   ]
  },
  {
   "cell_type": "code",
   "execution_count": null,
   "metadata": {},
   "outputs": [],
   "source": [
    "print(trips_data.loc[45, \"entry_details\"])"
   ]
  },
  {
   "cell_type": "code",
   "execution_count": null,
   "metadata": {},
   "outputs": [],
   "source": [
    "print(trips_data.loc[52, \"entry_details\"])"
   ]
  },
  {
   "cell_type": "code",
   "execution_count": null,
   "metadata": {},
   "outputs": [],
   "source": [
    "print(trips_data.loc[56, \"entry_details\"])"
   ]
  },
  {
   "cell_type": "code",
   "execution_count": null,
   "metadata": {},
   "outputs": [],
   "source": [
    "print(trips_data.loc[118, \"entry_details\"])"
   ]
  },
  {
   "cell_type": "code",
   "execution_count": null,
   "metadata": {},
   "outputs": [],
   "source": [
    "trips_data.head(100)"
   ]
  },
  {
   "cell_type": "code",
   "execution_count": null,
   "metadata": {},
   "outputs": [],
   "source": [
    "trips_data[trips_data[\"action_name\"] == \"CalculateWeightAndTrimAction\"].head(100)"
   ]
  },
  {
   "cell_type": "code",
   "execution_count": null,
   "metadata": {},
   "outputs": [],
   "source": []
  }
 ],
 "metadata": {
  "kernelspec": {
   "display_name": ".venv",
   "language": "python",
   "name": "python3"
  },
  "language_info": {
   "codemirror_mode": {
    "name": "ipython",
    "version": 3
   },
   "file_extension": ".py",
   "mimetype": "text/x-python",
   "name": "python",
   "nbconvert_exporter": "python",
   "pygments_lexer": "ipython3",
   "version": "3.10.11"
  }
 },
 "nbformat": 4,
 "nbformat_minor": 2
}
