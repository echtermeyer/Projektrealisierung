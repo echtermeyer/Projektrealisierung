{
 "cells": [
  {
   "cell_type": "code",
   "execution_count": null,
   "metadata": {},
   "outputs": [],
   "source": [
    "# Required for importing modules from parent directory\n",
    "import os\n",
    "import sys\n",
    "\n",
    "current_dir = os.path.dirname(os.path.abspath(\"__file__\"))\n",
    "parent_dir = os.path.dirname(current_dir)\n",
    "print(parent_dir)\n",
    "sys.path.append(parent_dir)"
   ]
  },
  {
   "cell_type": "code",
   "execution_count": null,
   "metadata": {},
   "outputs": [],
   "source": [
    "import re\n",
    "from pathlib import Path\n",
    "\n",
    "import matplotlib.pyplot as plt\n",
    "import pandas as pd\n",
    "\n",
    "from src.loader import TripLoader\n",
    "\n",
    "pd.set_option(\"display.max_rows\", None)\n",
    "pd.set_option(\"display.max_columns\", None)\n",
    "# pd.set_option(\"display.max_colwidth\", None)"
   ]
  },
  {
   "cell_type": "code",
   "execution_count": null,
   "metadata": {},
   "outputs": [],
   "source": [
    "trip_loader = TripLoader()\n",
    "trips_data = trip_loader.trips_ABCD"
   ]
  },
  {
   "cell_type": "code",
   "execution_count": null,
   "metadata": {},
   "outputs": [],
   "source": [
    "trips_data.head()"
   ]
  },
  {
   "cell_type": "code",
   "execution_count": null,
   "metadata": {},
   "outputs": [],
   "source": [
    "trips_data2 = trip_loader.trips_ABCD"
   ]
  },
  {
   "cell_type": "code",
   "execution_count": null,
   "metadata": {},
   "outputs": [],
   "source": [
    "trip_loader = TripLoader()\n",
    "trips_data2 = trip_loader.trips_MNOP\n",
    "trips_data3 = trip_loader.trips_ZYXW"
   ]
  },
  {
   "cell_type": "code",
   "execution_count": null,
   "metadata": {},
   "outputs": [],
   "source": [
    "df = trip_loader.trips_MNOP\n",
    "df.head(1)"
   ]
  },
  {
   "cell_type": "code",
   "execution_count": null,
   "metadata": {},
   "outputs": [],
   "source": [
    "df[df[\"header_id\"] == \"a277234c22fa2e5d\"]"
   ]
  },
  {
   "cell_type": "code",
   "execution_count": null,
   "metadata": {},
   "outputs": [],
   "source": [
    "action_counts = df.groupby(\"header_id\")[\"action_name\"].nunique().reset_index()\n",
    "action_counts.columns = [\"header_id\", \"unique_action_count\"]\n",
    "total_action_counts = (\n",
    "    df.groupby(\"header_id\").size().reset_index(name=\"total_action_count\")\n",
    ")\n",
    "\n",
    "fig, axes = plt.subplots(nrows=1, ncols=2, figsize=(15, 6))\n",
    "\n",
    "# Histogram of unique action counts for each header_id\n",
    "axes[0].hist(action_counts[\"unique_action_count\"], bins=30, alpha=0.75, color=\"blue\")\n",
    "axes[0].set_title(\"Histogram of Unique Action Counts by Header ID\")\n",
    "axes[0].set_xlabel(\"Unique Action Counts\")\n",
    "axes[0].set_ylabel(\"Frequency\")\n",
    "axes[0].grid(True)\n",
    "\n",
    "# Histogram of total action counts for each header_id\n",
    "axes[1].hist(\n",
    "    total_action_counts[\"total_action_count\"], bins=30, alpha=0.75, color=\"red\"\n",
    ")\n",
    "axes[1].set_title(\"Histogram of Total Action Counts by Header ID\")\n",
    "axes[1].set_xlabel(\"Total Action Counts\")\n",
    "axes[1].set_ylabel(\"Frequency\")\n",
    "axes[1].grid(True)\n",
    "\n",
    "# Adjust layout to prevent overlap\n",
    "plt.tight_layout()\n",
    "\n",
    "# Display the plots\n",
    "plt.show()"
   ]
  }
 ],
 "metadata": {
  "kernelspec": {
   "display_name": ".venv",
   "language": "python",
   "name": "python3"
  },
  "language_info": {
   "codemirror_mode": {
    "name": "ipython",
    "version": 3
   },
   "file_extension": ".py",
   "mimetype": "text/x-python",
   "name": "python",
   "nbconvert_exporter": "python",
   "pygments_lexer": "ipython3",
   "version": "3.10.11"
  }
 },
 "nbformat": 4,
 "nbformat_minor": 2
}
