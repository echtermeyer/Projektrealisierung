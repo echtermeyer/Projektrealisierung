{
 "cells": [
  {
   "cell_type": "code",
   "execution_count": 1,
   "metadata": {},
   "outputs": [
    {
     "name": "stdout",
     "output_type": "stream",
     "text": [
      "c:\\Users\\david\\Desktop\\Main\\03_Uni\\WWI21DSA\\02_Vorlesungen\\06_Projektrealisierung\\Projektrealisierung\n"
     ]
    }
   ],
   "source": [
    "# working dir\n",
    "import os\n",
    "import sys\n",
    "\n",
    "cwd = os.getcwd()\n",
    "root_dir = os.path.dirname(os.path.dirname(cwd))\n",
    "sys.path.append(root_dir)\n",
    "\n",
    "print(root_dir)"
   ]
  },
  {
   "cell_type": "code",
   "execution_count": 2,
   "metadata": {},
   "outputs": [],
   "source": [
    "# Imports and settings\n",
    "import pandas as pd\n",
    "import random\n",
    "\n",
    "random.seed(42)\n",
    "\n",
    "pd.set_option(\"display.max_rows\", None)\n",
    "pd.set_option(\"display.max_columns\", None)\n",
    "pd.set_option(\"display.max_colwidth\", None)"
   ]
  },
  {
   "cell_type": "code",
   "execution_count": 3,
   "metadata": {},
   "outputs": [],
   "source": [
    "import pandas as pd\n",
    "from IPython.display import display, HTML\n",
    "\n",
    "# Display Dataframe (with scrollbars)\n",
    "def ddf(df, max_height=500, max_width=1500):\n",
    "    \"\"\"\n",
    "    Display a pandas DataFrame with horizontal and vertical scrollbars in a Jupyter notebook.\n",
    "    \n",
    "    Parameters:\n",
    "    df (pd.DataFrame): The DataFrame to display.\n",
    "    max_height (int): The maximum height of the scrollable area in pixels.\n",
    "    max_width (int): The maximum width of the scrollable area in pixels.\n",
    "    \"\"\"\n",
    "    style = f\"\"\"\n",
    "    <style>\n",
    "    .scrollable-dataframe {{\n",
    "        max-height: {max_height}px;\n",
    "        max-width: {max_width}px;\n",
    "        overflow: auto;\n",
    "        display: inline-block;\n",
    "        position: relative;\n",
    "    }}\n",
    "    .scrollable-dataframe thead th {{\n",
    "        position: sticky;\n",
    "        top: 0;\n",
    "        background-color: white;\n",
    "        z-index: 1;\n",
    "    }}\n",
    "    </style>\n",
    "    \"\"\"\n",
    "    html = style + df.to_html(classes='scrollable-dataframe')\n",
    "    display(HTML(html))\n"
   ]
  },
  {
   "cell_type": "code",
   "execution_count": 4,
   "metadata": {},
   "outputs": [],
   "source": [
    "def split_creation_time(df):\n",
    "    df[\"creation_datetime\"] = df[\"creation_time\"]\n",
    "    df[\"creation_time\"] = pd.to_datetime(df[\"creation_time\"])\n",
    "    df[\"creation_date\"] = df[\"creation_time\"].dt.date\n",
    "    df[\"creation_time\"] = df[\"creation_time\"].dt.time\n",
    "    start_cols = [\"id\", \"creation_date\", \"creation_time\"]\n",
    "    df = df[start_cols + [col for col in df.columns if col not in start_cols]]\n",
    "    return df"
   ]
  },
  {
   "cell_type": "markdown",
   "metadata": {},
   "source": [
    "-------------"
   ]
  },
  {
   "cell_type": "code",
   "execution_count": 5,
   "metadata": {},
   "outputs": [
    {
     "name": "stderr",
     "output_type": "stream",
     "text": [
      "C:\\Users\\david\\AppData\\Local\\Temp\\ipykernel_15668\\2711301996.py:2: DtypeWarning: Columns (14,15,16,17,18,19,20,21,22,23,24,26,27,28) have mixed types. Specify dtype option on import or set low_memory=False.\n",
      "  pd.read_csv(\"../../src/data/ABCD_tripfiles_preprocessed.csv\"),\n",
      "C:\\Users\\david\\AppData\\Local\\Temp\\ipykernel_15668\\2711301996.py:3: DtypeWarning: Columns (14,15,16,17,18,19,20,21,22,23,24,25,27,28,29) have mixed types. Specify dtype option on import or set low_memory=False.\n",
      "  pd.read_csv(\"../../src/data/MNOP_tripfiles_preprocessed.csv\"),\n",
      "C:\\Users\\david\\AppData\\Local\\Temp\\ipykernel_15668\\2711301996.py:4: DtypeWarning: Columns (26,29,30) have mixed types. Specify dtype option on import or set low_memory=False.\n",
      "  pd.read_csv(\"../../src/data/ZYXW_tripfiles_preprocessed.csv\"),\n"
     ]
    }
   ],
   "source": [
    "meta = pd.concat([\n",
    "    pd.read_csv(\"../../src/data/ABCD_tripfiles_preprocessed.csv\"),\n",
    "    pd.read_csv(\"../../src/data/MNOP_tripfiles_preprocessed.csv\"),\n",
    "    pd.read_csv(\"../../src/data/ZYXW_tripfiles_preprocessed.csv\"),\n",
    "])\n",
    "meta = meta[[\"id\", \"creation_time\"]]\n",
    "meta = split_creation_time(meta)"
   ]
  },
  {
   "cell_type": "code",
   "execution_count": 6,
   "metadata": {},
   "outputs": [],
   "source": [
    "cwata = pd.concat([\n",
    "    pd.read_csv(\"../../src/data/extracted/abcd_CalculateWeightAndTrimAction.csv\"), \n",
    "    pd.read_csv(\"../../src/data/extracted/mnop_CalculateWeightAndTrimAction.csv\"), \n",
    "    pd.read_csv(\"../../src/data/extracted/zyxw_CalculateWeightAndTrimAction.csv\")\n",
    "    ])"
   ]
  },
  {
   "cell_type": "code",
   "execution_count": 7,
   "metadata": {},
   "outputs": [],
   "source": [
    "meta_cols = [\"flight_id\", \"id\", \"action_name\"]\n",
    "weight_cols = [\"ALAW\", \"ATOW\", \"ATXW\", \"AZFW\", \"TOTAL_TRAFFIC_LOAD\", \"DO_WI_weight\", \"PAX_WI_weight\", \"TOTAL_LOAD_WI\", \"START_WI_weight\"]\n",
    "cwata = cwata[meta_cols + weight_cols].dropna()\n",
    "\n",
    "entries_per_flight = cwata.groupby(\"flight_id\")[\"id\"].count().reset_index().sort_values(\"id\", ascending=False)\n",
    "top_ten_flights = entries_per_flight.head(10)[\"flight_id\"].tolist()"
   ]
  },
  {
   "cell_type": "code",
   "execution_count": 8,
   "metadata": {},
   "outputs": [],
   "source": [
    "ulta = pd.concat([\n",
    "    pd.read_csv(\"../../src/data/extracted/abcd_UpdateLoadTableAction_saved.csv\"), \n",
    "    pd.read_csv(\"../../src/data/extracted/mnop_UpdateLoadTableAction_saved.csv\"), \n",
    "    pd.read_csv(\"../../src/data/extracted/zyxw_UpdateLoadTableAction_saved.csv\")\n",
    "    ])\n",
    "\n",
    "ulta = ulta[[\"flight_id\", \"id\", \"ESTIMATED_Total_baggage\", \"ESTIMATED_Total_cargo\", \"ESTIMATED_Total_EIC\", \"ESTIMATED_Total_mail\"]]"
   ]
  },
  {
   "cell_type": "code",
   "execution_count": 9,
   "metadata": {},
   "outputs": [
    {
     "name": "stderr",
     "output_type": "stream",
     "text": [
      "C:\\Users\\david\\AppData\\Local\\Temp\\ipykernel_15668\\3735642031.py:10: FutureWarning: The behavior of DataFrame concatenation with empty or all-NA entries is deprecated. In a future version, this will no longer exclude empty or all-NA columns when determining the result dtypes. To retain the old behavior, exclude the relevant entries before the concat operation.\n",
      "  df = pd.concat([cwata, ulta]).sort_values([\"flight_id\", \"id\"])\n",
      "C:\\Users\\david\\AppData\\Local\\Temp\\ipykernel_15668\\3735642031.py:12: FutureWarning: DataFrame.fillna with 'method' is deprecated and will raise in a future version. Use obj.ffill() or obj.bfill() instead.\n",
      "  df = df.groupby(\"flight_id\").apply(lambda x: x.fillna(method=\"ffill\")).reset_index(drop=True)\n",
      "C:\\Users\\david\\AppData\\Local\\Temp\\ipykernel_15668\\3735642031.py:12: DeprecationWarning: DataFrameGroupBy.apply operated on the grouping columns. This behavior is deprecated, and in a future version of pandas the grouping columns will be excluded from the operation. Either pass `include_groups=False` to exclude the groupings or explicitly select the grouping columns after groupby to silence this warning.\n",
      "  df = df.groupby(\"flight_id\").apply(lambda x: x.fillna(method=\"ffill\")).reset_index(drop=True)\n"
     ]
    }
   ],
   "source": [
    "cwata[\"ESTIMATED_Total_baggage\"] = None\n",
    "cwata[\"ESTIMATED_Total_cargo\"] = None\n",
    "cwata[\"ESTIMATED_Total_mail\"] = None\n",
    "cwata[\"ESTIMATED_Total_EIC\"] = None\n",
    "\n",
    "ulta[\"action_name\"] = \"UpdateLoadTableAction\"\n",
    "for col in weight_cols:\n",
    "    ulta[col] = None\n",
    "\n",
    "df = pd.concat([cwata, ulta]).sort_values([\"flight_id\", \"id\"])\n",
    "df = pd.merge(df, meta, on=\"id\", how=\"left\")\n",
    "df = df.groupby(\"flight_id\").apply(lambda x: x.fillna(method=\"ffill\")).reset_index(drop=True)"
   ]
  },
  {
   "cell_type": "code",
   "execution_count": 10,
   "metadata": {},
   "outputs": [],
   "source": [
    "# drop NAs which were created as a result of the grouped fillna (first entries per group)\n",
    "df = df.dropna()\n",
    "\n",
    "# drop rows where at least one column has a 0\n",
    "mask = (df == 0).any(axis=1)\n",
    "df = df[~mask]"
   ]
  },
  {
   "cell_type": "code",
   "execution_count": 12,
   "metadata": {},
   "outputs": [],
   "source": [
    "df[\"fuel_airborn\"] = df[\"ATOW\"] - df[\"ALAW\"]\n",
    "df[\"fuel_taxi\"] = df[\"ATXW\"] - df[\"ATOW\"]\n",
    "df[\"fuel_weight\"] = df[\"ATXW\"] - df[\"AZFW\"]\n",
    "df[\"crew_and_equip\"] = df[\"DO_WI_weight\"] - df[\"START_WI_weight\"]\n",
    "\n",
    "df.rename(columns={\n",
    "    \"ESTIMATED_Total_EIC\": \"EIC\",\n",
    "    \"ESTIMATED_Total_mail\": \"mail\",\n",
    "    \"ESTIMATED_Total_cargo\": \"cargo\",\n",
    "    \"ESTIMATED_Total_baggage\": \"baggage\",\n",
    "    }, inplace=True)"
   ]
  },
  {
   "cell_type": "code",
   "execution_count": 38,
   "metadata": {},
   "outputs": [
    {
     "data": {
      "application/vnd.plotly.v1+json": {
       "config": {
        "plotlyServerURL": "https://plot.ly"
       },
       "data": [
        {
         "arrangement": "snap",
         "link": {
          "source": [
           0,
           1,
           2,
           3,
           4,
           5,
           6,
           7,
           8,
           9,
           10,
           11,
           12,
           12,
           14,
           14
          ],
          "target": [
           7,
           7,
           7,
           7,
           8,
           8,
           9,
           9,
           11,
           11,
           12,
           12,
           13,
           14,
           15,
           16
          ],
          "value": [
           [
            2
           ],
           [
            50
           ],
           [
            113
           ],
           [
            1057
           ],
           [
            414
           ],
           [
            44389
           ],
           [
            13275
           ],
           [
            1036
           ],
           [
            44803
           ],
           [
            14311
           ],
           [
            6800
           ],
           [
            59114
           ],
           [
            253
           ],
           [
            65661
           ],
           [
            2504
           ],
           [
            63157
           ]
          ]
         },
         "node": {
          "align": "center",
          "label": [
           "EIC",
           "mail",
           "cargo",
           "baggage",
           "crew_and_equip",
           "START_WI_weight",
           "PAX_WI_weight",
           "TOTAL_LOAD_WI",
           "DO_WI_weight",
           "TOTAL_TRAFFIC_LOAD",
           "fuel_weight",
           "AZFW",
           "ATXW",
           "fuel_taxi",
           "ATOW",
           "fuel_airborn",
           "ALAW"
          ],
          "line": {
           "color": "black",
           "width": 0.5
          },
          "pad": 15,
          "thickness": 20
         },
         "type": "sankey"
        }
       ],
       "layout": {
        "font": {
         "size": 10
        },
        "template": {
         "data": {
          "bar": [
           {
            "error_x": {
             "color": "#2a3f5f"
            },
            "error_y": {
             "color": "#2a3f5f"
            },
            "marker": {
             "line": {
              "color": "#E5ECF6",
              "width": 0.5
             },
             "pattern": {
              "fillmode": "overlay",
              "size": 10,
              "solidity": 0.2
             }
            },
            "type": "bar"
           }
          ],
          "barpolar": [
           {
            "marker": {
             "line": {
              "color": "#E5ECF6",
              "width": 0.5
             },
             "pattern": {
              "fillmode": "overlay",
              "size": 10,
              "solidity": 0.2
             }
            },
            "type": "barpolar"
           }
          ],
          "carpet": [
           {
            "aaxis": {
             "endlinecolor": "#2a3f5f",
             "gridcolor": "white",
             "linecolor": "white",
             "minorgridcolor": "white",
             "startlinecolor": "#2a3f5f"
            },
            "baxis": {
             "endlinecolor": "#2a3f5f",
             "gridcolor": "white",
             "linecolor": "white",
             "minorgridcolor": "white",
             "startlinecolor": "#2a3f5f"
            },
            "type": "carpet"
           }
          ],
          "choropleth": [
           {
            "colorbar": {
             "outlinewidth": 0,
             "ticks": ""
            },
            "type": "choropleth"
           }
          ],
          "contour": [
           {
            "colorbar": {
             "outlinewidth": 0,
             "ticks": ""
            },
            "colorscale": [
             [
              0,
              "#0d0887"
             ],
             [
              0.1111111111111111,
              "#46039f"
             ],
             [
              0.2222222222222222,
              "#7201a8"
             ],
             [
              0.3333333333333333,
              "#9c179e"
             ],
             [
              0.4444444444444444,
              "#bd3786"
             ],
             [
              0.5555555555555556,
              "#d8576b"
             ],
             [
              0.6666666666666666,
              "#ed7953"
             ],
             [
              0.7777777777777778,
              "#fb9f3a"
             ],
             [
              0.8888888888888888,
              "#fdca26"
             ],
             [
              1,
              "#f0f921"
             ]
            ],
            "type": "contour"
           }
          ],
          "contourcarpet": [
           {
            "colorbar": {
             "outlinewidth": 0,
             "ticks": ""
            },
            "type": "contourcarpet"
           }
          ],
          "heatmap": [
           {
            "colorbar": {
             "outlinewidth": 0,
             "ticks": ""
            },
            "colorscale": [
             [
              0,
              "#0d0887"
             ],
             [
              0.1111111111111111,
              "#46039f"
             ],
             [
              0.2222222222222222,
              "#7201a8"
             ],
             [
              0.3333333333333333,
              "#9c179e"
             ],
             [
              0.4444444444444444,
              "#bd3786"
             ],
             [
              0.5555555555555556,
              "#d8576b"
             ],
             [
              0.6666666666666666,
              "#ed7953"
             ],
             [
              0.7777777777777778,
              "#fb9f3a"
             ],
             [
              0.8888888888888888,
              "#fdca26"
             ],
             [
              1,
              "#f0f921"
             ]
            ],
            "type": "heatmap"
           }
          ],
          "heatmapgl": [
           {
            "colorbar": {
             "outlinewidth": 0,
             "ticks": ""
            },
            "colorscale": [
             [
              0,
              "#0d0887"
             ],
             [
              0.1111111111111111,
              "#46039f"
             ],
             [
              0.2222222222222222,
              "#7201a8"
             ],
             [
              0.3333333333333333,
              "#9c179e"
             ],
             [
              0.4444444444444444,
              "#bd3786"
             ],
             [
              0.5555555555555556,
              "#d8576b"
             ],
             [
              0.6666666666666666,
              "#ed7953"
             ],
             [
              0.7777777777777778,
              "#fb9f3a"
             ],
             [
              0.8888888888888888,
              "#fdca26"
             ],
             [
              1,
              "#f0f921"
             ]
            ],
            "type": "heatmapgl"
           }
          ],
          "histogram": [
           {
            "marker": {
             "pattern": {
              "fillmode": "overlay",
              "size": 10,
              "solidity": 0.2
             }
            },
            "type": "histogram"
           }
          ],
          "histogram2d": [
           {
            "colorbar": {
             "outlinewidth": 0,
             "ticks": ""
            },
            "colorscale": [
             [
              0,
              "#0d0887"
             ],
             [
              0.1111111111111111,
              "#46039f"
             ],
             [
              0.2222222222222222,
              "#7201a8"
             ],
             [
              0.3333333333333333,
              "#9c179e"
             ],
             [
              0.4444444444444444,
              "#bd3786"
             ],
             [
              0.5555555555555556,
              "#d8576b"
             ],
             [
              0.6666666666666666,
              "#ed7953"
             ],
             [
              0.7777777777777778,
              "#fb9f3a"
             ],
             [
              0.8888888888888888,
              "#fdca26"
             ],
             [
              1,
              "#f0f921"
             ]
            ],
            "type": "histogram2d"
           }
          ],
          "histogram2dcontour": [
           {
            "colorbar": {
             "outlinewidth": 0,
             "ticks": ""
            },
            "colorscale": [
             [
              0,
              "#0d0887"
             ],
             [
              0.1111111111111111,
              "#46039f"
             ],
             [
              0.2222222222222222,
              "#7201a8"
             ],
             [
              0.3333333333333333,
              "#9c179e"
             ],
             [
              0.4444444444444444,
              "#bd3786"
             ],
             [
              0.5555555555555556,
              "#d8576b"
             ],
             [
              0.6666666666666666,
              "#ed7953"
             ],
             [
              0.7777777777777778,
              "#fb9f3a"
             ],
             [
              0.8888888888888888,
              "#fdca26"
             ],
             [
              1,
              "#f0f921"
             ]
            ],
            "type": "histogram2dcontour"
           }
          ],
          "mesh3d": [
           {
            "colorbar": {
             "outlinewidth": 0,
             "ticks": ""
            },
            "type": "mesh3d"
           }
          ],
          "parcoords": [
           {
            "line": {
             "colorbar": {
              "outlinewidth": 0,
              "ticks": ""
             }
            },
            "type": "parcoords"
           }
          ],
          "pie": [
           {
            "automargin": true,
            "type": "pie"
           }
          ],
          "scatter": [
           {
            "fillpattern": {
             "fillmode": "overlay",
             "size": 10,
             "solidity": 0.2
            },
            "type": "scatter"
           }
          ],
          "scatter3d": [
           {
            "line": {
             "colorbar": {
              "outlinewidth": 0,
              "ticks": ""
             }
            },
            "marker": {
             "colorbar": {
              "outlinewidth": 0,
              "ticks": ""
             }
            },
            "type": "scatter3d"
           }
          ],
          "scattercarpet": [
           {
            "marker": {
             "colorbar": {
              "outlinewidth": 0,
              "ticks": ""
             }
            },
            "type": "scattercarpet"
           }
          ],
          "scattergeo": [
           {
            "marker": {
             "colorbar": {
              "outlinewidth": 0,
              "ticks": ""
             }
            },
            "type": "scattergeo"
           }
          ],
          "scattergl": [
           {
            "marker": {
             "colorbar": {
              "outlinewidth": 0,
              "ticks": ""
             }
            },
            "type": "scattergl"
           }
          ],
          "scattermapbox": [
           {
            "marker": {
             "colorbar": {
              "outlinewidth": 0,
              "ticks": ""
             }
            },
            "type": "scattermapbox"
           }
          ],
          "scatterpolar": [
           {
            "marker": {
             "colorbar": {
              "outlinewidth": 0,
              "ticks": ""
             }
            },
            "type": "scatterpolar"
           }
          ],
          "scatterpolargl": [
           {
            "marker": {
             "colorbar": {
              "outlinewidth": 0,
              "ticks": ""
             }
            },
            "type": "scatterpolargl"
           }
          ],
          "scatterternary": [
           {
            "marker": {
             "colorbar": {
              "outlinewidth": 0,
              "ticks": ""
             }
            },
            "type": "scatterternary"
           }
          ],
          "surface": [
           {
            "colorbar": {
             "outlinewidth": 0,
             "ticks": ""
            },
            "colorscale": [
             [
              0,
              "#0d0887"
             ],
             [
              0.1111111111111111,
              "#46039f"
             ],
             [
              0.2222222222222222,
              "#7201a8"
             ],
             [
              0.3333333333333333,
              "#9c179e"
             ],
             [
              0.4444444444444444,
              "#bd3786"
             ],
             [
              0.5555555555555556,
              "#d8576b"
             ],
             [
              0.6666666666666666,
              "#ed7953"
             ],
             [
              0.7777777777777778,
              "#fb9f3a"
             ],
             [
              0.8888888888888888,
              "#fdca26"
             ],
             [
              1,
              "#f0f921"
             ]
            ],
            "type": "surface"
           }
          ],
          "table": [
           {
            "cells": {
             "fill": {
              "color": "#EBF0F8"
             },
             "line": {
              "color": "white"
             }
            },
            "header": {
             "fill": {
              "color": "#C8D4E3"
             },
             "line": {
              "color": "white"
             }
            },
            "type": "table"
           }
          ]
         },
         "layout": {
          "annotationdefaults": {
           "arrowcolor": "#2a3f5f",
           "arrowhead": 0,
           "arrowwidth": 1
          },
          "autotypenumbers": "strict",
          "coloraxis": {
           "colorbar": {
            "outlinewidth": 0,
            "ticks": ""
           }
          },
          "colorscale": {
           "diverging": [
            [
             0,
             "#8e0152"
            ],
            [
             0.1,
             "#c51b7d"
            ],
            [
             0.2,
             "#de77ae"
            ],
            [
             0.3,
             "#f1b6da"
            ],
            [
             0.4,
             "#fde0ef"
            ],
            [
             0.5,
             "#f7f7f7"
            ],
            [
             0.6,
             "#e6f5d0"
            ],
            [
             0.7,
             "#b8e186"
            ],
            [
             0.8,
             "#7fbc41"
            ],
            [
             0.9,
             "#4d9221"
            ],
            [
             1,
             "#276419"
            ]
           ],
           "sequential": [
            [
             0,
             "#0d0887"
            ],
            [
             0.1111111111111111,
             "#46039f"
            ],
            [
             0.2222222222222222,
             "#7201a8"
            ],
            [
             0.3333333333333333,
             "#9c179e"
            ],
            [
             0.4444444444444444,
             "#bd3786"
            ],
            [
             0.5555555555555556,
             "#d8576b"
            ],
            [
             0.6666666666666666,
             "#ed7953"
            ],
            [
             0.7777777777777778,
             "#fb9f3a"
            ],
            [
             0.8888888888888888,
             "#fdca26"
            ],
            [
             1,
             "#f0f921"
            ]
           ],
           "sequentialminus": [
            [
             0,
             "#0d0887"
            ],
            [
             0.1111111111111111,
             "#46039f"
            ],
            [
             0.2222222222222222,
             "#7201a8"
            ],
            [
             0.3333333333333333,
             "#9c179e"
            ],
            [
             0.4444444444444444,
             "#bd3786"
            ],
            [
             0.5555555555555556,
             "#d8576b"
            ],
            [
             0.6666666666666666,
             "#ed7953"
            ],
            [
             0.7777777777777778,
             "#fb9f3a"
            ],
            [
             0.8888888888888888,
             "#fdca26"
            ],
            [
             1,
             "#f0f921"
            ]
           ]
          },
          "colorway": [
           "#636efa",
           "#EF553B",
           "#00cc96",
           "#ab63fa",
           "#FFA15A",
           "#19d3f3",
           "#FF6692",
           "#B6E880",
           "#FF97FF",
           "#FECB52"
          ],
          "font": {
           "color": "#2a3f5f"
          },
          "geo": {
           "bgcolor": "white",
           "lakecolor": "white",
           "landcolor": "#E5ECF6",
           "showlakes": true,
           "showland": true,
           "subunitcolor": "white"
          },
          "hoverlabel": {
           "align": "left"
          },
          "hovermode": "closest",
          "mapbox": {
           "style": "light"
          },
          "paper_bgcolor": "white",
          "plot_bgcolor": "#E5ECF6",
          "polar": {
           "angularaxis": {
            "gridcolor": "white",
            "linecolor": "white",
            "ticks": ""
           },
           "bgcolor": "#E5ECF6",
           "radialaxis": {
            "gridcolor": "white",
            "linecolor": "white",
            "ticks": ""
           }
          },
          "scene": {
           "xaxis": {
            "backgroundcolor": "#E5ECF6",
            "gridcolor": "white",
            "gridwidth": 2,
            "linecolor": "white",
            "showbackground": true,
            "ticks": "",
            "zerolinecolor": "white"
           },
           "yaxis": {
            "backgroundcolor": "#E5ECF6",
            "gridcolor": "white",
            "gridwidth": 2,
            "linecolor": "white",
            "showbackground": true,
            "ticks": "",
            "zerolinecolor": "white"
           },
           "zaxis": {
            "backgroundcolor": "#E5ECF6",
            "gridcolor": "white",
            "gridwidth": 2,
            "linecolor": "white",
            "showbackground": true,
            "ticks": "",
            "zerolinecolor": "white"
           }
          },
          "shapedefaults": {
           "line": {
            "color": "#2a3f5f"
           }
          },
          "ternary": {
           "aaxis": {
            "gridcolor": "white",
            "linecolor": "white",
            "ticks": ""
           },
           "baxis": {
            "gridcolor": "white",
            "linecolor": "white",
            "ticks": ""
           },
           "bgcolor": "#E5ECF6",
           "caxis": {
            "gridcolor": "white",
            "linecolor": "white",
            "ticks": ""
           }
          },
          "title": {
           "x": 0.05
          },
          "xaxis": {
           "automargin": true,
           "gridcolor": "white",
           "linecolor": "white",
           "ticks": "",
           "title": {
            "standoff": 15
           },
           "zerolinecolor": "white",
           "zerolinewidth": 2
          },
          "yaxis": {
           "automargin": true,
           "gridcolor": "white",
           "linecolor": "white",
           "ticks": "",
           "title": {
            "standoff": 15
           },
           "zerolinecolor": "white",
           "zerolinewidth": 2
          }
         }
        },
        "title": {
         "text": "Flight: AB_2509_5_PNQ, date: 2024-05-05, time: 16:11:50"
        }
       }
      }
     },
     "metadata": {},
     "output_type": "display_data"
    }
   ],
   "source": [
    "import plotly.graph_objects as go\n",
    "import imageio\n",
    "\n",
    "# <------------- For static and interactive sankey\n",
    "\n",
    "labels = [\n",
    "    'EIC', 'mail', 'cargo', 'baggage', # 0-3\n",
    "    'crew_and_equip', 'START_WI_weight', 'PAX_WI_weight', 'TOTAL_LOAD_WI',  # 4-7\n",
    "    'DO_WI_weight', 'TOTAL_TRAFFIC_LOAD', # 8-9\n",
    "    'fuel_weight', 'AZFW', # 10-11\n",
    "    'ATXW', # 12\n",
    "    'fuel_taxi', 'ATOW', # 13-14\n",
    "    'fuel_airborn', 'ALAW' # 15-16\n",
    "]\n",
    "\n",
    "sources = [0, 1, 2, 3, 4, 5, 6, 7,  8,  9, 10, 11, 12, 12, 14, 14]\n",
    "targets = [7, 7, 7, 7, 8, 8, 9, 9, 11, 11, 12, 12, 13, 14, 15, 16]\n",
    "\n",
    "flight = \"AB_2509_5_PNQ\"\n",
    "flight_df = df[df[\"flight_id\"] == flight].reset_index(drop=True)\n",
    "row = flight_df.iloc[[42]]\n",
    "date = row[\"creation_date\"].values[0]\n",
    "time = row[\"creation_time\"].values[0]\n",
    "\n",
    "values = []\n",
    "for s, t in zip(sources, targets):\n",
    "    if sources.count(s) > 1:\n",
    "        values.append(row[labels[t]])\n",
    "    else:\n",
    "        values.append(row[labels[s]])\n",
    "\n",
    "def plot_sankey(labels, sources, targets, values, date, time):\n",
    "    # Create the Sankey diagram\n",
    "    fig = go.Figure(data=[go.Sankey(\n",
    "        arrangement = \"snap\",\n",
    "        node=dict(\n",
    "            pad=15,\n",
    "            thickness=20,\n",
    "            line=dict(color=\"black\", width=0.5),\n",
    "            label=labels,\n",
    "            align=\"center\",\n",
    "        ),\n",
    "        link=dict(\n",
    "            source=sources,\n",
    "            target=targets,\n",
    "            value=values\n",
    "        )\n",
    "    )])\n",
    "\n",
    "    title = f\"Flight: {flight}, date: {date}, time: {time}\"\n",
    "    fig.update_layout(title_text=title, font_size=10)\n",
    "    # Save the figure as an HTML file\n",
    "    fig.write_html(\"sankey_diagram.html\")\n",
    "\n",
    "    fig.show()\n",
    "\n",
    "\n",
    "plot_sankey(labels, sources, targets, values, date, time)"
   ]
  },
  {
   "cell_type": "code",
   "execution_count": 36,
   "metadata": {},
   "outputs": [
    {
     "name": "stderr",
     "output_type": "stream",
     "text": [
      "C:\\Users\\david\\AppData\\Local\\Temp\\ipykernel_15668\\2066639181.py:78: DeprecationWarning:\n",
      "\n",
      "Starting with ImageIO v3 the behavior of this function will switch to that of iio.v3.imread. To keep the current behavior (and make this warning disappear) use `import imageio.v2 as imageio` or call `imageio.v2.imread` directly.\n",
      "\n"
     ]
    },
    {
     "name": "stdout",
     "output_type": "stream",
     "text": [
      "Animation saved as sankey_animation.gif\n"
     ]
    }
   ],
   "source": [
    "import plotly.graph_objects as go\n",
    "import imageio\n",
    "import os\n",
    "import numpy as np\n",
    "\n",
    "# <----------- For animated sankey\n",
    "\n",
    "labels = [\n",
    "    'EIC', 'mail', 'cargo', 'baggage', # 0-3\n",
    "    'crew_and_equip', 'START_WI_weight', 'PAX_WI_weight', 'TOTAL_LOAD_WI',  # 4-7\n",
    "    'DO_WI_weight', 'TOTAL_TRAFFIC_LOAD', # 8-9\n",
    "    'fuel_weight', 'AZFW', # 10-11\n",
    "    'ATXW', # 12\n",
    "    'fuel_taxi', 'ATOW', # 13-14\n",
    "    'fuel_airborn', 'ALAW' # 15-16\n",
    "]\n",
    "\n",
    "sources = [0, 1, 2, 3, 4, 5, 6, 7,  8,  9, 10, 11, 12, 12, 14, 14]\n",
    "targets = [7, 7, 7, 7, 8, 8, 9, 9, 11, 11, 12, 12, 13, 14, 15, 16]\n",
    "\n",
    "# Pre-calculate node columns\n",
    "def calculate_node_columns(sources, targets, labels):\n",
    "    node_levels = {}\n",
    "    for s, t in zip(sources, targets):\n",
    "        node_levels[s] = node_levels.get(s, 0)\n",
    "        node_levels[t] = max(node_levels.get(t, 0), node_levels[s] + 1)\n",
    "    \n",
    "    return [node_levels[i] for i in range(len(labels))]\n",
    "\n",
    "node_columns = calculate_node_columns(sources, targets, labels)\n",
    "\n",
    "flight = \"AB_2509_5_PNQ\"\n",
    "flight_df = df[df[\"flight_id\"] == flight].reset_index(drop=True)\n",
    "frames = []\n",
    "for i in range(len(flight_df)):\n",
    "    row = flight_df.iloc[[i]]\n",
    "    values = []\n",
    "    for s, t in zip(sources, targets):\n",
    "        if sources.count(s) > 1:\n",
    "            values.append(row[labels[t]].values[0])\n",
    "        else:\n",
    "            values.append(row[labels[s]].values[0])\n",
    "    frames.append(values)\n",
    "\n",
    "def plot_sankey(labels, sources, targets, values, date, time, node_columns):\n",
    "    # Create the Sankey diagram\n",
    "    fig = go.Figure(data=[go.Sankey(\n",
    "        arrangement=\"snap\",\n",
    "        node=dict(\n",
    "            pad=15,\n",
    "            thickness=20,\n",
    "            line=dict(color=\"black\", width=0.5),\n",
    "            label=labels,\n",
    "            color=\"blue\",\n",
    "            x=[x/max(node_columns) for x in node_columns],\n",
    "            align=\"center\",\n",
    "        ),\n",
    "        link=dict(\n",
    "            source=sources,\n",
    "            target=targets,\n",
    "            value=values\n",
    "        )\n",
    "    )])\n",
    "\n",
    "    title = f\"Flight: {flight}, date: {date}, time: {time}\"\n",
    "    fig.update_layout(title_text=title, font_size=10)\n",
    "\n",
    "    return fig\n",
    "\n",
    "output_dir = f\"sankey_gifs\"\n",
    "os.makedirs(output_dir, exist_ok=True)\n",
    "\n",
    "images = []\n",
    "for i, values in enumerate(frames):\n",
    "    date = flight_df[\"creation_date\"].iloc[i]\n",
    "    time = flight_df[\"creation_time\"].iloc[i]\n",
    "    fig = plot_sankey(labels, sources, targets, values, date, time, node_columns)\n",
    "    image_path = os.path.join(output_dir, f\"{flight}_{i}.png\")\n",
    "    fig.write_image(image_path, format=\"png\", engine=\"kaleido\")\n",
    "    images.append(imageio.imread(image_path))\n",
    "\n",
    "imageio.mimsave('sankey_animation.gif', images, duration=2, loop=0)\n",
    "print(\"Animation saved as sankey_animation.gif\")"
   ]
  }
 ],
 "metadata": {
  "kernelspec": {
   "display_name": ".venv",
   "language": "python",
   "name": "python3"
  },
  "language_info": {
   "codemirror_mode": {
    "name": "ipython",
    "version": 3
   },
   "file_extension": ".py",
   "mimetype": "text/x-python",
   "name": "python",
   "nbconvert_exporter": "python",
   "pygments_lexer": "ipython3",
   "version": "3.10.11"
  }
 },
 "nbformat": 4,
 "nbformat_minor": 2
}
