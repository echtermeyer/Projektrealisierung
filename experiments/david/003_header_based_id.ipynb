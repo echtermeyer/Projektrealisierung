{
 "cells": [
  {
   "cell_type": "code",
   "execution_count": 1,
   "metadata": {},
   "outputs": [
    {
     "name": "stdout",
     "output_type": "stream",
     "text": [
      "c:\\Users\\david\\Desktop\\Main\\03_Uni\\WWI21DSA\\02_Vorlesungen\\06_Projektrealisierung\\Projektrealisierung\n"
     ]
    }
   ],
   "source": [
    "# working dir\n",
    "import os\n",
    "import sys\n",
    "\n",
    "cwd = os.getcwd()\n",
    "root_dir = os.path.dirname(os.path.dirname(cwd))\n",
    "sys.path.append(root_dir)\n",
    "\n",
    "print(root_dir)"
   ]
  },
  {
   "cell_type": "code",
   "execution_count": 2,
   "metadata": {},
   "outputs": [],
   "source": [
    "# Imports and settings\n",
    "import pandas as pd\n",
    "import random\n",
    "\n",
    "random.seed(42)\n",
    "\n",
    "pd.set_option(\"display.max_rows\", None)\n",
    "pd.set_option(\"display.max_columns\", None)\n",
    "pd.set_option(\"display.max_colwidth\", None)"
   ]
  },
  {
   "cell_type": "code",
   "execution_count": 3,
   "metadata": {},
   "outputs": [
    {
     "name": "stderr",
     "output_type": "stream",
     "text": [
      "C:\\Users\\david\\AppData\\Local\\Temp\\ipykernel_17532\\1085071673.py:2: DtypeWarning: Columns (0,13,14,15,16,17,18,19,20,21,22,23,25,26) have mixed types. Specify dtype option on import or set low_memory=False.\n",
      "  abcd = pd.read_csv(\"../../src/data/ABCD_tripfiles_preprocessed.csv\")\n"
     ]
    }
   ],
   "source": [
    "# Load data\n",
    "abcd = pd.read_csv(\"../../src/data/ABCD_tripfiles_preprocessed.csv\")\n",
    "mnop = pd.read_csv(\"../../src/data/MNOP_tripfiles_preprocessed.csv\")\n",
    "zyxw = pd.read_csv(\"../../src/data/ZYXW_tripfiles_preprocessed.csv\")\n",
    "datasets = {\"abcd\": abcd, \"mnop\": mnop, \"zyxw\": zyxw}"
   ]
  },
  {
   "cell_type": "code",
   "execution_count": 4,
   "metadata": {},
   "outputs": [],
   "source": [
    "meta = ['id', 'creation_time', 'airline_code', 'flight_number', 'flight_date',\n",
    "       'departure_airport', 'user_name', 'action_name']\n",
    "\n",
    "message = ['header_line', 'entry_details']\n",
    "\n",
    "header_cols = ['header_category', 'header_id']\n",
    "\n",
    "extracted_cols = ['scheduleState',\n",
    "       'departureAirport', 'departureTime', 'arrivalAirport', 'arrivalTime',\n",
    "       'aircraftRegistration', 'aircraftSubtype', 'aircraftVersion',\n",
    "       'serviceType', 'nonOperational', 'flifoCancel', 'sequenceNumber',\n",
    "       'bestTimes', 'mvtActual']\n",
    "\n",
    "weight_cols = ['START_WI_weight', 'START_WI_index',\n",
    "       'DO_WI_weight', 'DO_WI_index', 'PAX_WI_weight', 'PAX_WI_index',\n",
    "       'TOTAL_DEADLOAD_WI_weight', 'TOTAL_DEADLOAD_WI_index', 'TOTAL_LOAD_WI',\n",
    "       'TOTAL_TRAFFIC_LOAD', 'FUEL_INDEX', 'AZFW', 'ATOW', 'ALAW', 'ATXW',\n",
    "       'AFT_LIMIT_ZFW', 'FWD_LIMIT_ZFW', 'AFT_LIMIT_TOW', 'FWD_LIMIT_TOW',\n",
    "       'AFT_LIMIT_LAW', 'FWD_LIMIT_LAW', 'LIZFW', 'LITOW', 'LILAW',\n",
    "       'MAC_AT_ZFW', 'MAC_AT_TOW', 'MAC_AT_LAW', 'DEADLOAD_MAC', 'UNDERLOAD',\n",
    "       'LIMITING_WEIGHT', 'ALLOWED_TOW', 'ALLOWED_ZFW', 'ALLOWED_LAW',\n",
    "       'ALLOWED_TXW', 'STABTO', 'OPTIMAL_TRIM', 'IDEAL_ADDITIONAL_LOAD_AFT',\n",
    "       'IDEAL_ADDITIONAL_LOAD_FWD', 'TAIL_TIPPING_WI_weight',\n",
    "       'TAIL_TIPPING_WI_index', 'TAIL_TIPPING_INDEX_EXCEEDED',\n",
    "       'FWD_MOVABLE_PAX', 'AFT_MOVABLE_PAX', 'INDEX_OUT_OF_BALANCE',\n",
    "       'LOAD_TO_AFT', 'LOAD_TO_FWD', 'ESTIMATED_TRAFFIC_LOAD', 'ESTIMATED_ZFW',\n",
    "       'DELTA_ZFW', 'ZFW_TOLERANCE_EXCEEDED']\n"
   ]
  },
  {
   "cell_type": "code",
   "execution_count": 70,
   "metadata": {},
   "outputs": [],
   "source": [
    "def create_flight_id(df):\n",
    "    df[\"flight_id\"] = df[\"departureAirport\"] + df[\"arrivalAirport\"] + df[\"departureTime\"] + df[\"arrivalTime\"]\n",
    "\n",
    "create_flight_id(abcd)"
   ]
  },
  {
   "cell_type": "code",
   "execution_count": 71,
   "metadata": {},
   "outputs": [
    {
     "name": "stderr",
     "output_type": "stream",
     "text": [
      "C:\\Users\\david\\AppData\\Local\\Temp\\ipykernel_14968\\155786409.py:8: FutureWarning: The behavior of DataFrame concatenation with empty or all-NA entries is deprecated. In a future version, this will no longer exclude empty or all-NA columns when determining the result dtypes. To retain the old behavior, exclude the relevant entries before the concat operation.\n",
      "  joined_action_count = pd.concat([joined_action_count, action_count_df])\n"
     ]
    },
    {
     "data": {
      "text/html": [
       "<div>\n",
       "<style scoped>\n",
       "    .dataframe tbody tr th:only-of-type {\n",
       "        vertical-align: middle;\n",
       "    }\n",
       "\n",
       "    .dataframe tbody tr th {\n",
       "        vertical-align: top;\n",
       "    }\n",
       "\n",
       "    .dataframe thead th {\n",
       "        text-align: right;\n",
       "    }\n",
       "</style>\n",
       "<table border=\"1\" class=\"dataframe\">\n",
       "  <thead>\n",
       "    <tr style=\"text-align: right;\">\n",
       "      <th></th>\n",
       "      <th>dataset</th>\n",
       "      <th>action_name</th>\n",
       "      <th>count</th>\n",
       "      <th>percent</th>\n",
       "    </tr>\n",
       "  </thead>\n",
       "  <tbody>\n",
       "    <tr>\n",
       "      <th>0</th>\n",
       "      <td>abcd</td>\n",
       "      <td>ASMMsgProcessor</td>\n",
       "      <td>2379</td>\n",
       "      <td>1.000000</td>\n",
       "    </tr>\n",
       "    <tr>\n",
       "      <th>1</th>\n",
       "      <td>abcd</td>\n",
       "      <td>UpdateFlightAction</td>\n",
       "      <td>1997</td>\n",
       "      <td>0.839428</td>\n",
       "    </tr>\n",
       "    <tr>\n",
       "      <th>2</th>\n",
       "      <td>abcd</td>\n",
       "      <td>AssignLCCAction</td>\n",
       "      <td>1997</td>\n",
       "      <td>0.839428</td>\n",
       "    </tr>\n",
       "    <tr>\n",
       "      <th>3</th>\n",
       "      <td>abcd</td>\n",
       "      <td>StoreRegistrationAndConfigurationAc</td>\n",
       "      <td>1996</td>\n",
       "      <td>0.839008</td>\n",
       "    </tr>\n",
       "    <tr>\n",
       "      <th>4</th>\n",
       "      <td>abcd</td>\n",
       "      <td>UpdateCrewDataAction</td>\n",
       "      <td>1992</td>\n",
       "      <td>0.837327</td>\n",
       "    </tr>\n",
       "    <tr>\n",
       "      <th>5</th>\n",
       "      <td>abcd</td>\n",
       "      <td>CalculateWeightAndTrimAction</td>\n",
       "      <td>1992</td>\n",
       "      <td>0.837327</td>\n",
       "    </tr>\n",
       "    <tr>\n",
       "      <th>6</th>\n",
       "      <td>abcd</td>\n",
       "      <td>ResetLoadingListRecordsAction</td>\n",
       "      <td>1489</td>\n",
       "      <td>0.625893</td>\n",
       "    </tr>\n",
       "    <tr>\n",
       "      <th>7</th>\n",
       "      <td>abcd</td>\n",
       "      <td>UpdateLoadTableAction</td>\n",
       "      <td>1489</td>\n",
       "      <td>0.625893</td>\n",
       "    </tr>\n",
       "    <tr>\n",
       "      <th>8</th>\n",
       "      <td>abcd</td>\n",
       "      <td>TransferCargoAction</td>\n",
       "      <td>964</td>\n",
       "      <td>0.405212</td>\n",
       "    </tr>\n",
       "    <tr>\n",
       "      <th>9</th>\n",
       "      <td>abcd</td>\n",
       "      <td>ChangeFlightLegStateAction</td>\n",
       "      <td>944</td>\n",
       "      <td>0.396805</td>\n",
       "    </tr>\n",
       "    <tr>\n",
       "      <th>10</th>\n",
       "      <td>abcd</td>\n",
       "      <td>StorePaxDataAction</td>\n",
       "      <td>741</td>\n",
       "      <td>0.311475</td>\n",
       "    </tr>\n",
       "    <tr>\n",
       "      <th>0</th>\n",
       "      <td>mnop</td>\n",
       "      <td>ASMMsgProcessor</td>\n",
       "      <td>1236</td>\n",
       "      <td>1.000000</td>\n",
       "    </tr>\n",
       "    <tr>\n",
       "      <th>1</th>\n",
       "      <td>mnop</td>\n",
       "      <td>AssignLCCAction</td>\n",
       "      <td>1066</td>\n",
       "      <td>0.862460</td>\n",
       "    </tr>\n",
       "    <tr>\n",
       "      <th>2</th>\n",
       "      <td>mnop</td>\n",
       "      <td>UpdateFlightAction</td>\n",
       "      <td>1066</td>\n",
       "      <td>0.862460</td>\n",
       "    </tr>\n",
       "    <tr>\n",
       "      <th>3</th>\n",
       "      <td>mnop</td>\n",
       "      <td>CalculateWeightAndTrimAction</td>\n",
       "      <td>1060</td>\n",
       "      <td>0.857605</td>\n",
       "    </tr>\n",
       "    <tr>\n",
       "      <th>4</th>\n",
       "      <td>mnop</td>\n",
       "      <td>StoreRegistrationAndConfigurationAc</td>\n",
       "      <td>1058</td>\n",
       "      <td>0.855987</td>\n",
       "    </tr>\n",
       "    <tr>\n",
       "      <th>5</th>\n",
       "      <td>mnop</td>\n",
       "      <td>UpdateCrewDataAction</td>\n",
       "      <td>1057</td>\n",
       "      <td>0.855178</td>\n",
       "    </tr>\n",
       "    <tr>\n",
       "      <th>6</th>\n",
       "      <td>mnop</td>\n",
       "      <td>TransferCargoAction</td>\n",
       "      <td>1004</td>\n",
       "      <td>0.812298</td>\n",
       "    </tr>\n",
       "    <tr>\n",
       "      <th>7</th>\n",
       "      <td>mnop</td>\n",
       "      <td>ChangeFlightLegStateAction</td>\n",
       "      <td>866</td>\n",
       "      <td>0.700647</td>\n",
       "    </tr>\n",
       "    <tr>\n",
       "      <th>8</th>\n",
       "      <td>mnop</td>\n",
       "      <td>ResetLoadingListRecordsAction</td>\n",
       "      <td>374</td>\n",
       "      <td>0.302589</td>\n",
       "    </tr>\n",
       "    <tr>\n",
       "      <th>9</th>\n",
       "      <td>mnop</td>\n",
       "      <td>UpdateLoadTableAction</td>\n",
       "      <td>370</td>\n",
       "      <td>0.299353</td>\n",
       "    </tr>\n",
       "    <tr>\n",
       "      <th>10</th>\n",
       "      <td>mnop</td>\n",
       "      <td>StorePaxDataAction</td>\n",
       "      <td>182</td>\n",
       "      <td>0.147249</td>\n",
       "    </tr>\n",
       "    <tr>\n",
       "      <th>0</th>\n",
       "      <td>zyxw</td>\n",
       "      <td>ASMMsgProcessor</td>\n",
       "      <td>10129</td>\n",
       "      <td>1.000000</td>\n",
       "    </tr>\n",
       "    <tr>\n",
       "      <th>1</th>\n",
       "      <td>zyxw</td>\n",
       "      <td>UpdateFlightAction</td>\n",
       "      <td>9387</td>\n",
       "      <td>0.926745</td>\n",
       "    </tr>\n",
       "    <tr>\n",
       "      <th>2</th>\n",
       "      <td>zyxw</td>\n",
       "      <td>AssignLCCAction</td>\n",
       "      <td>9387</td>\n",
       "      <td>0.926745</td>\n",
       "    </tr>\n",
       "    <tr>\n",
       "      <th>3</th>\n",
       "      <td>zyxw</td>\n",
       "      <td>StoreRegistrationAndConfigurationAc</td>\n",
       "      <td>9076</td>\n",
       "      <td>0.896041</td>\n",
       "    </tr>\n",
       "    <tr>\n",
       "      <th>4</th>\n",
       "      <td>zyxw</td>\n",
       "      <td>CalculateWeightAndTrimAction</td>\n",
       "      <td>7541</td>\n",
       "      <td>0.744496</td>\n",
       "    </tr>\n",
       "    <tr>\n",
       "      <th>5</th>\n",
       "      <td>zyxw</td>\n",
       "      <td>UpdateCrewDataAction</td>\n",
       "      <td>7463</td>\n",
       "      <td>0.736795</td>\n",
       "    </tr>\n",
       "    <tr>\n",
       "      <th>6</th>\n",
       "      <td>zyxw</td>\n",
       "      <td>TransferCargoAction</td>\n",
       "      <td>6191</td>\n",
       "      <td>0.611215</td>\n",
       "    </tr>\n",
       "    <tr>\n",
       "      <th>7</th>\n",
       "      <td>zyxw</td>\n",
       "      <td>ResetLoadingListRecordsAction</td>\n",
       "      <td>1820</td>\n",
       "      <td>0.179682</td>\n",
       "    </tr>\n",
       "    <tr>\n",
       "      <th>8</th>\n",
       "      <td>zyxw</td>\n",
       "      <td>UpdateLoadTableAction</td>\n",
       "      <td>1753</td>\n",
       "      <td>0.173067</td>\n",
       "    </tr>\n",
       "    <tr>\n",
       "      <th>9</th>\n",
       "      <td>zyxw</td>\n",
       "      <td>ChangeFlightLegStateAction</td>\n",
       "      <td>1075</td>\n",
       "      <td>0.106131</td>\n",
       "    </tr>\n",
       "  </tbody>\n",
       "</table>\n",
       "</div>"
      ],
      "text/plain": [
       "   dataset                          action_name  count   percent\n",
       "0     abcd                      ASMMsgProcessor   2379  1.000000\n",
       "1     abcd                   UpdateFlightAction   1997  0.839428\n",
       "2     abcd                      AssignLCCAction   1997  0.839428\n",
       "3     abcd  StoreRegistrationAndConfigurationAc   1996  0.839008\n",
       "4     abcd                 UpdateCrewDataAction   1992  0.837327\n",
       "5     abcd         CalculateWeightAndTrimAction   1992  0.837327\n",
       "6     abcd        ResetLoadingListRecordsAction   1489  0.625893\n",
       "7     abcd                UpdateLoadTableAction   1489  0.625893\n",
       "8     abcd                  TransferCargoAction    964  0.405212\n",
       "9     abcd           ChangeFlightLegStateAction    944  0.396805\n",
       "10    abcd                   StorePaxDataAction    741  0.311475\n",
       "0     mnop                      ASMMsgProcessor   1236  1.000000\n",
       "1     mnop                      AssignLCCAction   1066  0.862460\n",
       "2     mnop                   UpdateFlightAction   1066  0.862460\n",
       "3     mnop         CalculateWeightAndTrimAction   1060  0.857605\n",
       "4     mnop  StoreRegistrationAndConfigurationAc   1058  0.855987\n",
       "5     mnop                 UpdateCrewDataAction   1057  0.855178\n",
       "6     mnop                  TransferCargoAction   1004  0.812298\n",
       "7     mnop           ChangeFlightLegStateAction    866  0.700647\n",
       "8     mnop        ResetLoadingListRecordsAction    374  0.302589\n",
       "9     mnop                UpdateLoadTableAction    370  0.299353\n",
       "10    mnop                   StorePaxDataAction    182  0.147249\n",
       "0     zyxw                      ASMMsgProcessor  10129  1.000000\n",
       "1     zyxw                   UpdateFlightAction   9387  0.926745\n",
       "2     zyxw                      AssignLCCAction   9387  0.926745\n",
       "3     zyxw  StoreRegistrationAndConfigurationAc   9076  0.896041\n",
       "4     zyxw         CalculateWeightAndTrimAction   7541  0.744496\n",
       "5     zyxw                 UpdateCrewDataAction   7463  0.736795\n",
       "6     zyxw                  TransferCargoAction   6191  0.611215\n",
       "7     zyxw        ResetLoadingListRecordsAction   1820  0.179682\n",
       "8     zyxw                UpdateLoadTableAction   1753  0.173067\n",
       "9     zyxw           ChangeFlightLegStateAction   1075  0.106131"
      ]
     },
     "execution_count": 71,
     "metadata": {},
     "output_type": "execute_result"
    }
   ],
   "source": [
    "joined_action_count = pd.DataFrame(columns=['dataset', 'action_name', 'count', 'percent'])\n",
    "for name, dataset in datasets.items():\n",
    "    action_count_series = dataset.drop_duplicates(subset=['flight_id', 'action_name'])['action_name'].value_counts().reset_index()\n",
    "    action_count_df = pd.DataFrame(action_count_series)\n",
    "    action_count_df[\"dataset\"] = name\n",
    "    action_count_df[\"percent\"] = action_count_df[\"count\"] / dataset[\"flight_id\"].nunique()\n",
    "    # append\n",
    "    joined_action_count = pd.concat([joined_action_count, action_count_df])\n",
    "\n",
    "joined_action_count.query(\"percent > 0.1\")"
   ]
  },
  {
   "cell_type": "code",
   "execution_count": 72,
   "metadata": {},
   "outputs": [
    {
     "name": "stdout",
     "output_type": "stream",
     "text": [
      "abcd ['ASMMsgProcessor', 'UpdateFlightAction', 'AssignLCCAction', 'StoreRegistrationAndConfigurationAc', 'UpdateCrewDataAction', 'CalculateWeightAndTrimAction']\n",
      "mnop ['ASMMsgProcessor', 'UpdateFlightAction', 'AssignLCCAction', 'CalculateWeightAndTrimAction', 'StoreRegistrationAndConfigurationAc', 'UpdateCrewDataAction']\n",
      "zyxw ['ASMMsgProcessor', 'UpdateFlightAction', 'AssignLCCAction', 'StoreRegistrationAndConfigurationAc', 'CalculateWeightAndTrimAction', 'UpdateCrewDataAction']\n",
      "Actions that are in the top 6 for all datasets:  {'AssignLCCAction', 'CalculateWeightAndTrimAction', 'ASMMsgProcessor', 'UpdateFlightAction', 'UpdateCrewDataAction', 'StoreRegistrationAndConfigurationAc'}\n",
      "Lowest percentage of actions in the top 6 for all datasets:  0.7367953401125481\n"
     ]
    }
   ],
   "source": [
    "top_x = 6\n",
    "top_x_sets = []\n",
    "for dataset_name in datasets.keys():\n",
    "    top_x_set = joined_action_count[joined_action_count[\"dataset\"] == dataset_name].sort_values(\"count\", ascending=False).head(top_x)[\"action_name\"].to_list()   \n",
    "    top_x_sets.append(set(top_x_set))\n",
    "    print(dataset_name, top_x_set)\n",
    "\n",
    "relevant_actions_preliminary = top_x_sets[0].intersection(top_x_sets[1]).intersection(top_x_sets[2])\n",
    "\n",
    "print(\n",
    "    \"Actions that are in the top {} for all datasets: \".format(top_x),\n",
    "    relevant_actions_preliminary\n",
    "    )\n",
    "\n",
    "print(\n",
    "    \"Lowest percentage of actions in the top {} for all datasets: \".format(top_x),\n",
    "    min(joined_action_count.query(\"action_name in @relevant_actions_preliminary\")[\"percent\"])\n",
    "    )\n",
    "\n",
    "\n",
    "# Take Away:\n",
    "relevant_actions = ['ASMMsgProcessor', 'UpdateCrewDataAction', 'UpdateFlightAction', 'StoreRegistrationAndConfigurationAc', 'CalculateWeightAndTrimAction', 'AssignLCCAction']"
   ]
  },
  {
   "cell_type": "code",
   "execution_count": 73,
   "metadata": {},
   "outputs": [
    {
     "name": "stdout",
     "output_type": "stream",
     "text": [
      "zyxw ASMMsgProcessor received\n"
     ]
    },
    {
     "data": {
      "text/html": [
       "<div>\n",
       "<style scoped>\n",
       "    .dataframe tbody tr th:only-of-type {\n",
       "        vertical-align: middle;\n",
       "    }\n",
       "\n",
       "    .dataframe tbody tr th {\n",
       "        vertical-align: top;\n",
       "    }\n",
       "\n",
       "    .dataframe thead th {\n",
       "        text-align: right;\n",
       "    }\n",
       "</style>\n",
       "<table border=\"1\" class=\"dataframe\">\n",
       "  <thead>\n",
       "    <tr style=\"text-align: right;\">\n",
       "      <th></th>\n",
       "      <th>header_line</th>\n",
       "      <th>entry_details</th>\n",
       "    </tr>\n",
       "  </thead>\n",
       "  <tbody>\n",
       "    <tr>\n",
       "      <th>29372</th>\n",
       "      <td>2024-04-30 16:56:56,764 INFO  [232ceb032f20e037] [ZY5975 /30 VCP | service-acco | ASMMsgProcessor                     |                                | Thread-28358 (ActiveMQ-client-global-threads)]  Received:</td>\n",
       "      <td>&lt;?xml version=\"1.0\" encoding=\"UTF-8\"?&gt;&lt;ns2:OSSChangeMessage xmlns:ns2=\"http://www.systemone.com/iocc/oss/notification/OssChangeMessage-1.3.0\"&gt;\\r\\n&lt;changeDescriptor&gt;\\r\\n        &lt;changeDetail&gt;\\r\\n            &lt;changeLocation&gt;/OSSChangeMessage/newFlight/leg[1]/aircraftVersion&lt;/changeLocation&gt;\\r\\n            &lt;changeDescription&gt;\\r\\n                &lt;actionCode&gt;CON&lt;/actionCode&gt;\\r\\n            &lt;/changeDescription&gt;\\r\\n        &lt;/changeDetail&gt;\\r\\n        &lt;changeDetail&gt;\\r\\n            &lt;changeLocation&gt;/OSSChangeMessage/newFlight/leg[1]/aircraftRegistration&lt;/changeLocation&gt;\\r\\n            &lt;changeDescription&gt;\\r\\n                &lt;actionCode&gt;EQT&lt;/actionCode&gt;\\r\\n            &lt;/changeDescription&gt;\\r\\n        &lt;/changeDetail&gt;\\r\\n        &lt;changeDetail&gt;\\r\\n            &lt;changeLocation&gt;/OSSChangeMessage/newFlight/leg[1]/aircraftSubtype&lt;/changeLocation&gt;\\r\\n            &lt;changeDescription&gt;\\r\\n                &lt;actionCode&gt;EQT&lt;/actionCode&gt;\\r\\n            &lt;/changeDescription&gt;\\r\\n        &lt;/changeDetail&gt;\\r\\n    &lt;/changeDescriptor&gt;\\r\\n&lt;oldFlight&gt;\\r\\n        &lt;identity&gt;\\r\\n            &lt;carrier&gt;ZY&lt;/carrier&gt;\\r\\n            &lt;dayOfOrigin&gt;2024-04-30Z&lt;/dayOfOrigin&gt;\\r\\n            &lt;number&gt;5975&lt;/number&gt;\\r\\n            &lt;id&gt;30442698&lt;/id&gt;\\r\\n            &lt;version&gt;3&lt;/version&gt;\\r\\n        &lt;/identity&gt;\\r\\n        &lt;leg&gt;\\r\\n            &lt;scheduleState&gt;SKD&lt;/scheduleState&gt;\\r\\n            &lt;departureAirport&gt;VCP&lt;/departureAirport&gt;\\r\\n            &lt;departureTime&gt;2024-04-30T21:00:00.000Z&lt;/departureTime&gt;\\r\\n            &lt;arrivalAirport&gt;JTC&lt;/arrivalAirport&gt;\\r\\n            &lt;arrivalTime&gt;2024-04-30T22:00:00.000Z&lt;/arrivalTime&gt;\\r\\n            &lt;aircraftRegistration&gt;ZYXQT&lt;/aircraftRegistration&gt;\\r\\n            &lt;aircraftSubtype&gt;AT9&lt;/aircraftSubtype&gt;\\r\\n            &lt;aircraftVersion&gt;Y70&lt;/aircraftVersion&gt;\\r\\n            &lt;serviceType&gt;J&lt;/serviceType&gt;\\r\\n            &lt;nonOperational&gt;false&lt;/nonOperational&gt;\\r\\n            &lt;flifoCancel&gt;false&lt;/flifoCancel&gt;\\r\\n            &lt;sequenceNumber&gt;1&lt;/sequenceNumber&gt;\\r\\n            &lt;id&gt;53360291&lt;/id&gt;\\r\\n        &lt;/leg&gt;\\r\\n    &lt;/oldFlight&gt;\\r\\n&lt;newFlight&gt;\\r\\n        &lt;identity&gt;\\r\\n            &lt;carrier&gt;ZY&lt;/carrier&gt;\\r\\n            &lt;dayOfOrigin&gt;2024-04-30Z&lt;/dayOfOrigin&gt;\\r\\n            &lt;number&gt;5975&lt;/number&gt;\\r\\n            &lt;id&gt;30442698&lt;/id&gt;\\r\\n            &lt;version&gt;4&lt;/version&gt;\\r\\n        &lt;/identity&gt;\\r\\n        &lt;leg&gt;\\r\\n            &lt;scheduleState&gt;SKD&lt;/scheduleState&gt;\\r\\n            &lt;departureAirport&gt;VCP&lt;/departureAirport&gt;\\r\\n            &lt;departureTime&gt;2024-04-30T21:00:00.000Z&lt;/departureTime&gt;\\r\\n            &lt;arrivalAirport&gt;JTC&lt;/arrivalAirport&gt;\\r\\n            &lt;arrivalTime&gt;2024-04-30T22:00:00.000Z&lt;/arrivalTime&gt;\\r\\n            &lt;aircraftRegistration&gt;ZYXXR&lt;/aircraftRegistration&gt;\\r\\n            &lt;aircraftSubtype&gt;E95&lt;/aircraftSubtype&gt;\\r\\n            &lt;aircraftVersion&gt;Y118&lt;/aircraftVersion&gt;\\r\\n            &lt;serviceType&gt;J&lt;/serviceType&gt;\\r\\n            &lt;nonOperational&gt;false&lt;/nonOperational&gt;\\r\\n            &lt;flifoCancel&gt;false&lt;/flifoCancel&gt;\\r\\n            &lt;sequenceNumber&gt;1&lt;/sequenceNumber&gt;\\r\\n            &lt;id&gt;53360291&lt;/id&gt;\\r\\n        &lt;/leg&gt;\\r\\n    &lt;/newFlight&gt;\\r\\n&lt;/ns2:OSSChangeMessage&gt;</td>\n",
       "    </tr>\n",
       "  </tbody>\n",
       "</table>\n",
       "</div>"
      ],
      "text/plain": [
       "                                                                                                                                                                                                              header_line  \\\n",
       "29372  2024-04-30 16:56:56,764 INFO  [232ceb032f20e037] [ZY5975 /30 VCP | service-acco | ASMMsgProcessor                     |                                | Thread-28358 (ActiveMQ-client-global-threads)]  Received:   \n",
       "\n",
       "                                                                                                                                                                                                                                                                                                                                                                                                                                                                                                                                                                                                                                                                                                                                                                                                                                                                                                                                                                                                                                                                                                                                                                                                                                                                                                                                                                                                                                                                                                                                                                                                                                                                                                                                                                                                                                                                                                                                                                                                                                                                                                                                                                                                                                                                                                                                                                                                                                                                                                                                                                                                                                                                                                                                                                                                                                                                                                                                                                                                                                                                                                                                                                             entry_details  \n",
       "29372  <?xml version=\"1.0\" encoding=\"UTF-8\"?><ns2:OSSChangeMessage xmlns:ns2=\"http://www.systemone.com/iocc/oss/notification/OssChangeMessage-1.3.0\">\\r\\n<changeDescriptor>\\r\\n        <changeDetail>\\r\\n            <changeLocation>/OSSChangeMessage/newFlight/leg[1]/aircraftVersion</changeLocation>\\r\\n            <changeDescription>\\r\\n                <actionCode>CON</actionCode>\\r\\n            </changeDescription>\\r\\n        </changeDetail>\\r\\n        <changeDetail>\\r\\n            <changeLocation>/OSSChangeMessage/newFlight/leg[1]/aircraftRegistration</changeLocation>\\r\\n            <changeDescription>\\r\\n                <actionCode>EQT</actionCode>\\r\\n            </changeDescription>\\r\\n        </changeDetail>\\r\\n        <changeDetail>\\r\\n            <changeLocation>/OSSChangeMessage/newFlight/leg[1]/aircraftSubtype</changeLocation>\\r\\n            <changeDescription>\\r\\n                <actionCode>EQT</actionCode>\\r\\n            </changeDescription>\\r\\n        </changeDetail>\\r\\n    </changeDescriptor>\\r\\n<oldFlight>\\r\\n        <identity>\\r\\n            <carrier>ZY</carrier>\\r\\n            <dayOfOrigin>2024-04-30Z</dayOfOrigin>\\r\\n            <number>5975</number>\\r\\n            <id>30442698</id>\\r\\n            <version>3</version>\\r\\n        </identity>\\r\\n        <leg>\\r\\n            <scheduleState>SKD</scheduleState>\\r\\n            <departureAirport>VCP</departureAirport>\\r\\n            <departureTime>2024-04-30T21:00:00.000Z</departureTime>\\r\\n            <arrivalAirport>JTC</arrivalAirport>\\r\\n            <arrivalTime>2024-04-30T22:00:00.000Z</arrivalTime>\\r\\n            <aircraftRegistration>ZYXQT</aircraftRegistration>\\r\\n            <aircraftSubtype>AT9</aircraftSubtype>\\r\\n            <aircraftVersion>Y70</aircraftVersion>\\r\\n            <serviceType>J</serviceType>\\r\\n            <nonOperational>false</nonOperational>\\r\\n            <flifoCancel>false</flifoCancel>\\r\\n            <sequenceNumber>1</sequenceNumber>\\r\\n            <id>53360291</id>\\r\\n        </leg>\\r\\n    </oldFlight>\\r\\n<newFlight>\\r\\n        <identity>\\r\\n            <carrier>ZY</carrier>\\r\\n            <dayOfOrigin>2024-04-30Z</dayOfOrigin>\\r\\n            <number>5975</number>\\r\\n            <id>30442698</id>\\r\\n            <version>4</version>\\r\\n        </identity>\\r\\n        <leg>\\r\\n            <scheduleState>SKD</scheduleState>\\r\\n            <departureAirport>VCP</departureAirport>\\r\\n            <departureTime>2024-04-30T21:00:00.000Z</departureTime>\\r\\n            <arrivalAirport>JTC</arrivalAirport>\\r\\n            <arrivalTime>2024-04-30T22:00:00.000Z</arrivalTime>\\r\\n            <aircraftRegistration>ZYXXR</aircraftRegistration>\\r\\n            <aircraftSubtype>E95</aircraftSubtype>\\r\\n            <aircraftVersion>Y118</aircraftVersion>\\r\\n            <serviceType>J</serviceType>\\r\\n            <nonOperational>false</nonOperational>\\r\\n            <flifoCancel>false</flifoCancel>\\r\\n            <sequenceNumber>1</sequenceNumber>\\r\\n            <id>53360291</id>\\r\\n        </leg>\\r\\n    </newFlight>\\r\\n</ns2:OSSChangeMessage>  "
      ]
     },
     "metadata": {},
     "output_type": "display_data"
    },
    {
     "name": "stdout",
     "output_type": "stream",
     "text": [
      "zyxw ASMMsgProcessor saved\n"
     ]
    },
    {
     "data": {
      "text/html": [
       "<div>\n",
       "<style scoped>\n",
       "    .dataframe tbody tr th:only-of-type {\n",
       "        vertical-align: middle;\n",
       "    }\n",
       "\n",
       "    .dataframe tbody tr th {\n",
       "        vertical-align: top;\n",
       "    }\n",
       "\n",
       "    .dataframe thead th {\n",
       "        text-align: right;\n",
       "    }\n",
       "</style>\n",
       "<table border=\"1\" class=\"dataframe\">\n",
       "  <thead>\n",
       "    <tr style=\"text-align: right;\">\n",
       "      <th></th>\n",
       "      <th>header_line</th>\n",
       "      <th>entry_details</th>\n",
       "    </tr>\n",
       "  </thead>\n",
       "  <tbody>\n",
       "    <tr>\n",
       "      <th>29374</th>\n",
       "      <td>2024-04-30 16:56:56,705 INFO  [3bf7244b9a5c658a] [ZY5584 /30 VCP | service-acco | ASMMsgProcessor                     |                                | Thread-28359 (ActiveMQ-client-global-threads)]  Saved:</td>\n",
       "      <td>The message was processed successfully</td>\n",
       "    </tr>\n",
       "  </tbody>\n",
       "</table>\n",
       "</div>"
      ],
      "text/plain": [
       "                                                                                                                                                                                                           header_line  \\\n",
       "29374  2024-04-30 16:56:56,705 INFO  [3bf7244b9a5c658a] [ZY5584 /30 VCP | service-acco | ASMMsgProcessor                     |                                | Thread-28359 (ActiveMQ-client-global-threads)]  Saved:   \n",
       "\n",
       "                                entry_details  \n",
       "29374  The message was processed successfully  "
      ]
     },
     "metadata": {},
     "output_type": "display_data"
    },
    {
     "name": "stdout",
     "output_type": "stream",
     "text": [
      "zyxw ASMMsgProcessor sent\n"
     ]
    },
    {
     "data": {
      "text/html": [
       "<div>\n",
       "<style scoped>\n",
       "    .dataframe tbody tr th:only-of-type {\n",
       "        vertical-align: middle;\n",
       "    }\n",
       "\n",
       "    .dataframe tbody tr th {\n",
       "        vertical-align: top;\n",
       "    }\n",
       "\n",
       "    .dataframe thead th {\n",
       "        text-align: right;\n",
       "    }\n",
       "</style>\n",
       "<table border=\"1\" class=\"dataframe\">\n",
       "  <thead>\n",
       "    <tr style=\"text-align: right;\">\n",
       "      <th></th>\n",
       "      <th>header_line</th>\n",
       "      <th>entry_details</th>\n",
       "    </tr>\n",
       "  </thead>\n",
       "  <tbody>\n",
       "  </tbody>\n",
       "</table>\n",
       "</div>"
      ],
      "text/plain": [
       "Empty DataFrame\n",
       "Columns: [header_line, entry_details]\n",
       "Index: []"
      ]
     },
     "metadata": {},
     "output_type": "display_data"
    },
    {
     "name": "stdout",
     "output_type": "stream",
     "text": [
      "zyxw UpdateCrewDataAction received\n"
     ]
    },
    {
     "data": {
      "text/html": [
       "<div>\n",
       "<style scoped>\n",
       "    .dataframe tbody tr th:only-of-type {\n",
       "        vertical-align: middle;\n",
       "    }\n",
       "\n",
       "    .dataframe tbody tr th {\n",
       "        vertical-align: top;\n",
       "    }\n",
       "\n",
       "    .dataframe thead th {\n",
       "        text-align: right;\n",
       "    }\n",
       "</style>\n",
       "<table border=\"1\" class=\"dataframe\">\n",
       "  <thead>\n",
       "    <tr style=\"text-align: right;\">\n",
       "      <th></th>\n",
       "      <th>header_line</th>\n",
       "      <th>entry_details</th>\n",
       "    </tr>\n",
       "  </thead>\n",
       "  <tbody>\n",
       "    <tr>\n",
       "      <th>358346</th>\n",
       "      <td>2024-04-30 05:06:45,644 INFO  [cf227703689d0ccf] [ZY5030 /01 VCP | service-acco | UpdateCrewDataAction                |                                | Thread-24862 (ActiveMQ-client-global-threads)]  Received:</td>\n",
       "      <td>com.systemone.lc2.legaircraftconfiguration.dto.AircraftCrewDTO [ id = NULL ]\\r\\nCockpit crew nr.          : 2                        Cockpit crew bag nr.      : NULL                     \\r\\nCabin crew nr.            : 3                        Cabin crew bag nr.        : NULL                     \\r\\nAs crew nr.               : 0                        As pax nr.                : 0                        \\r\\nDeadhead cabin crew nr.   : 0                        Deadhead cockpit crew nr. : 0                        \\r\\nCaptain`s name            : Jonathan8465 18012</td>\n",
       "    </tr>\n",
       "  </tbody>\n",
       "</table>\n",
       "</div>"
      ],
      "text/plain": [
       "                                                                                                                                                                                                               header_line  \\\n",
       "358346  2024-04-30 05:06:45,644 INFO  [cf227703689d0ccf] [ZY5030 /01 VCP | service-acco | UpdateCrewDataAction                |                                | Thread-24862 (ActiveMQ-client-global-threads)]  Received:   \n",
       "\n",
       "                                                                                                                                                                                                                                                                                                                                                                                                                                                                                                                                                                                 entry_details  \n",
       "358346  com.systemone.lc2.legaircraftconfiguration.dto.AircraftCrewDTO [ id = NULL ]\\r\\nCockpit crew nr.          : 2                        Cockpit crew bag nr.      : NULL                     \\r\\nCabin crew nr.            : 3                        Cabin crew bag nr.        : NULL                     \\r\\nAs crew nr.               : 0                        As pax nr.                : 0                        \\r\\nDeadhead cabin crew nr.   : 0                        Deadhead cockpit crew nr. : 0                        \\r\\nCaptain`s name            : Jonathan8465 18012  "
      ]
     },
     "metadata": {},
     "output_type": "display_data"
    },
    {
     "name": "stdout",
     "output_type": "stream",
     "text": [
      "zyxw UpdateCrewDataAction saved\n"
     ]
    },
    {
     "data": {
      "text/html": [
       "<div>\n",
       "<style scoped>\n",
       "    .dataframe tbody tr th:only-of-type {\n",
       "        vertical-align: middle;\n",
       "    }\n",
       "\n",
       "    .dataframe tbody tr th {\n",
       "        vertical-align: top;\n",
       "    }\n",
       "\n",
       "    .dataframe thead th {\n",
       "        text-align: right;\n",
       "    }\n",
       "</style>\n",
       "<table border=\"1\" class=\"dataframe\">\n",
       "  <thead>\n",
       "    <tr style=\"text-align: right;\">\n",
       "      <th></th>\n",
       "      <th>header_line</th>\n",
       "      <th>entry_details</th>\n",
       "    </tr>\n",
       "  </thead>\n",
       "  <tbody>\n",
       "  </tbody>\n",
       "</table>\n",
       "</div>"
      ],
      "text/plain": [
       "Empty DataFrame\n",
       "Columns: [header_line, entry_details]\n",
       "Index: []"
      ]
     },
     "metadata": {},
     "output_type": "display_data"
    },
    {
     "name": "stdout",
     "output_type": "stream",
     "text": [
      "zyxw UpdateCrewDataAction sent\n"
     ]
    },
    {
     "data": {
      "text/html": [
       "<div>\n",
       "<style scoped>\n",
       "    .dataframe tbody tr th:only-of-type {\n",
       "        vertical-align: middle;\n",
       "    }\n",
       "\n",
       "    .dataframe tbody tr th {\n",
       "        vertical-align: top;\n",
       "    }\n",
       "\n",
       "    .dataframe thead th {\n",
       "        text-align: right;\n",
       "    }\n",
       "</style>\n",
       "<table border=\"1\" class=\"dataframe\">\n",
       "  <thead>\n",
       "    <tr style=\"text-align: right;\">\n",
       "      <th></th>\n",
       "      <th>header_line</th>\n",
       "      <th>entry_details</th>\n",
       "    </tr>\n",
       "  </thead>\n",
       "  <tbody>\n",
       "  </tbody>\n",
       "</table>\n",
       "</div>"
      ],
      "text/plain": [
       "Empty DataFrame\n",
       "Columns: [header_line, entry_details]\n",
       "Index: []"
      ]
     },
     "metadata": {},
     "output_type": "display_data"
    },
    {
     "name": "stdout",
     "output_type": "stream",
     "text": [
      "zyxw UpdateFlightAction received\n"
     ]
    },
    {
     "data": {
      "text/html": [
       "<div>\n",
       "<style scoped>\n",
       "    .dataframe tbody tr th:only-of-type {\n",
       "        vertical-align: middle;\n",
       "    }\n",
       "\n",
       "    .dataframe tbody tr th {\n",
       "        vertical-align: top;\n",
       "    }\n",
       "\n",
       "    .dataframe thead th {\n",
       "        text-align: right;\n",
       "    }\n",
       "</style>\n",
       "<table border=\"1\" class=\"dataframe\">\n",
       "  <thead>\n",
       "    <tr style=\"text-align: right;\">\n",
       "      <th></th>\n",
       "      <th>header_line</th>\n",
       "      <th>entry_details</th>\n",
       "    </tr>\n",
       "  </thead>\n",
       "  <tbody>\n",
       "    <tr>\n",
       "      <th>404217</th>\n",
       "      <td>2024-04-30 09:52:27,217 INFO  [93c249c2005f62fc] [ZY2515 /30 LIS | human | UpdateFlightAction                  |                                | default task-125]  Received:</td>\n",
       "      <td>Airline: ZY        Flightnumber: 2515      Suffix:           Date: 2024-04-30T00:00:00 \\r\\nLegs:\\r\\nDEP    STD in UTC             ETD in UTC             DEST    TRANSIT     CANCELLED    DELETED\\r\\nLIS    2024-04-30T15:00:00    2024-04-30T15:00:00    VCP     false       false        false</td>\n",
       "    </tr>\n",
       "  </tbody>\n",
       "</table>\n",
       "</div>"
      ],
      "text/plain": [
       "                                                                                                                                                                           header_line  \\\n",
       "404217  2024-04-30 09:52:27,217 INFO  [93c249c2005f62fc] [ZY2515 /30 LIS | human | UpdateFlightAction                  |                                | default task-125]  Received:   \n",
       "\n",
       "                                                                                                                                                                                                                                                                                           entry_details  \n",
       "404217  Airline: ZY        Flightnumber: 2515      Suffix:           Date: 2024-04-30T00:00:00 \\r\\nLegs:\\r\\nDEP    STD in UTC             ETD in UTC             DEST    TRANSIT     CANCELLED    DELETED\\r\\nLIS    2024-04-30T15:00:00    2024-04-30T15:00:00    VCP     false       false        false  "
      ]
     },
     "metadata": {},
     "output_type": "display_data"
    },
    {
     "name": "stdout",
     "output_type": "stream",
     "text": [
      "zyxw UpdateFlightAction saved\n"
     ]
    },
    {
     "data": {
      "text/html": [
       "<div>\n",
       "<style scoped>\n",
       "    .dataframe tbody tr th:only-of-type {\n",
       "        vertical-align: middle;\n",
       "    }\n",
       "\n",
       "    .dataframe tbody tr th {\n",
       "        vertical-align: top;\n",
       "    }\n",
       "\n",
       "    .dataframe thead th {\n",
       "        text-align: right;\n",
       "    }\n",
       "</style>\n",
       "<table border=\"1\" class=\"dataframe\">\n",
       "  <thead>\n",
       "    <tr style=\"text-align: right;\">\n",
       "      <th></th>\n",
       "      <th>header_line</th>\n",
       "      <th>entry_details</th>\n",
       "    </tr>\n",
       "  </thead>\n",
       "  <tbody>\n",
       "    <tr>\n",
       "      <th>404218</th>\n",
       "      <td>2024-04-30 09:52:27,222 INFO  [93c249c2005f62fc] [ZY2515 /30 LIS | human | UpdateFlightAction                  |                                | default task-125]  Saved:</td>\n",
       "      <td>Airline: ZY        Flightnumber: 2515      Suffix: NULL      Date: 2024-04-30T00:00:00 \\r\\nLegs:\\r\\nDEP    STD in UTC             ETD in UTC             DEST    TRANSIT     CANCELLED    \\r\\nLIS    2024-04-30T15:00:00    2024-04-30T15:00:00    VCP     false       false</td>\n",
       "    </tr>\n",
       "  </tbody>\n",
       "</table>\n",
       "</div>"
      ],
      "text/plain": [
       "                                                                                                                                                                        header_line  \\\n",
       "404218  2024-04-30 09:52:27,222 INFO  [93c249c2005f62fc] [ZY2515 /30 LIS | human | UpdateFlightAction                  |                                | default task-125]  Saved:   \n",
       "\n",
       "                                                                                                                                                                                                                                                                       entry_details  \n",
       "404218  Airline: ZY        Flightnumber: 2515      Suffix: NULL      Date: 2024-04-30T00:00:00 \\r\\nLegs:\\r\\nDEP    STD in UTC             ETD in UTC             DEST    TRANSIT     CANCELLED    \\r\\nLIS    2024-04-30T15:00:00    2024-04-30T15:00:00    VCP     false       false  "
      ]
     },
     "metadata": {},
     "output_type": "display_data"
    },
    {
     "name": "stdout",
     "output_type": "stream",
     "text": [
      "zyxw UpdateFlightAction sent\n"
     ]
    },
    {
     "data": {
      "text/html": [
       "<div>\n",
       "<style scoped>\n",
       "    .dataframe tbody tr th:only-of-type {\n",
       "        vertical-align: middle;\n",
       "    }\n",
       "\n",
       "    .dataframe tbody tr th {\n",
       "        vertical-align: top;\n",
       "    }\n",
       "\n",
       "    .dataframe thead th {\n",
       "        text-align: right;\n",
       "    }\n",
       "</style>\n",
       "<table border=\"1\" class=\"dataframe\">\n",
       "  <thead>\n",
       "    <tr style=\"text-align: right;\">\n",
       "      <th></th>\n",
       "      <th>header_line</th>\n",
       "      <th>entry_details</th>\n",
       "    </tr>\n",
       "  </thead>\n",
       "  <tbody>\n",
       "  </tbody>\n",
       "</table>\n",
       "</div>"
      ],
      "text/plain": [
       "Empty DataFrame\n",
       "Columns: [header_line, entry_details]\n",
       "Index: []"
      ]
     },
     "metadata": {},
     "output_type": "display_data"
    },
    {
     "name": "stdout",
     "output_type": "stream",
     "text": [
      "zyxw StoreRegistrationAndConfigurationAc received\n"
     ]
    },
    {
     "data": {
      "text/html": [
       "<div>\n",
       "<style scoped>\n",
       "    .dataframe tbody tr th:only-of-type {\n",
       "        vertical-align: middle;\n",
       "    }\n",
       "\n",
       "    .dataframe tbody tr th {\n",
       "        vertical-align: top;\n",
       "    }\n",
       "\n",
       "    .dataframe thead th {\n",
       "        text-align: right;\n",
       "    }\n",
       "</style>\n",
       "<table border=\"1\" class=\"dataframe\">\n",
       "  <thead>\n",
       "    <tr style=\"text-align: right;\">\n",
       "      <th></th>\n",
       "      <th>header_line</th>\n",
       "      <th>entry_details</th>\n",
       "    </tr>\n",
       "  </thead>\n",
       "  <tbody>\n",
       "    <tr>\n",
       "      <th>358493</th>\n",
       "      <td>2024-04-30 09:52:49,448 INFO  [a29b2c3b68e8d958] [ZY2515 /30 LIS | human | StoreRegistrationAndConfigurationAc |                                | default task-125]  Received:</td>\n",
       "      <td>com.systemone.lc2.legaircraftconfiguration.dto.RegistratonAndCabinConfigurationDTO [ id = NULL ]\\r\\nRegistration : ZYXNZ                    Cabin configuration : C34Y264</td>\n",
       "    </tr>\n",
       "  </tbody>\n",
       "</table>\n",
       "</div>"
      ],
      "text/plain": [
       "                                                                                                                                                                           header_line  \\\n",
       "358493  2024-04-30 09:52:49,448 INFO  [a29b2c3b68e8d958] [ZY2515 /30 LIS | human | StoreRegistrationAndConfigurationAc |                                | default task-125]  Received:   \n",
       "\n",
       "                                                                                                                                                                    entry_details  \n",
       "358493  com.systemone.lc2.legaircraftconfiguration.dto.RegistratonAndCabinConfigurationDTO [ id = NULL ]\\r\\nRegistration : ZYXNZ                    Cabin configuration : C34Y264  "
      ]
     },
     "metadata": {},
     "output_type": "display_data"
    },
    {
     "name": "stdout",
     "output_type": "stream",
     "text": [
      "zyxw StoreRegistrationAndConfigurationAc saved\n"
     ]
    },
    {
     "data": {
      "text/html": [
       "<div>\n",
       "<style scoped>\n",
       "    .dataframe tbody tr th:only-of-type {\n",
       "        vertical-align: middle;\n",
       "    }\n",
       "\n",
       "    .dataframe tbody tr th {\n",
       "        vertical-align: top;\n",
       "    }\n",
       "\n",
       "    .dataframe thead th {\n",
       "        text-align: right;\n",
       "    }\n",
       "</style>\n",
       "<table border=\"1\" class=\"dataframe\">\n",
       "  <thead>\n",
       "    <tr style=\"text-align: right;\">\n",
       "      <th></th>\n",
       "      <th>header_line</th>\n",
       "      <th>entry_details</th>\n",
       "    </tr>\n",
       "  </thead>\n",
       "  <tbody>\n",
       "    <tr>\n",
       "      <th>358495</th>\n",
       "      <td>2024-04-30 09:52:49,460 INFO  [a29b2c3b68e8d958] [ZY2515 /30 LIS | human | StoreRegistrationAndConfigurationAc |                                | default task-125]  Saved:</td>\n",
       "      <td>Configuration\\r\\nStart Weight : 129305.0 KG Start Index: 21.59\\r\\nCrew         : 2/10\\r\\nWater(%)     : 50.0\\r\\nCategory    | Weight          | Index   \\r\\nCorrection  | 960.00   KG     | -0.54    | REASON_CREW\\r\\nCorrection  | 350.00   KG     | 0.85     | REASON_WATER\\r\\nGalley:\\r\\nI-SIM-BULK  | 2955.00  KG     | 5.16    \\r\\nTotal Weight: 133570.00 KG    Index: 27.06   \\r\\nSTATUS AIRCRAFT_CONFIG 1 CARGO_TRANSFER 1 CABIN_CONFIG 1 AUTO_MODE_ACTIVE 1 REGISTRATION 1 REGISTRATION_CHANGE 1</td>\n",
       "    </tr>\n",
       "  </tbody>\n",
       "</table>\n",
       "</div>"
      ],
      "text/plain": [
       "                                                                                                                                                                        header_line  \\\n",
       "358495  2024-04-30 09:52:49,460 INFO  [a29b2c3b68e8d958] [ZY2515 /30 LIS | human | StoreRegistrationAndConfigurationAc |                                | default task-125]  Saved:   \n",
       "\n",
       "                                                                                                                                                                                                                                                                                                                                                                                                                                                                                                    entry_details  \n",
       "358495  Configuration\\r\\nStart Weight : 129305.0 KG Start Index: 21.59\\r\\nCrew         : 2/10\\r\\nWater(%)     : 50.0\\r\\nCategory    | Weight          | Index   \\r\\nCorrection  | 960.00   KG     | -0.54    | REASON_CREW\\r\\nCorrection  | 350.00   KG     | 0.85     | REASON_WATER\\r\\nGalley:\\r\\nI-SIM-BULK  | 2955.00  KG     | 5.16    \\r\\nTotal Weight: 133570.00 KG    Index: 27.06   \\r\\nSTATUS AIRCRAFT_CONFIG 1 CARGO_TRANSFER 1 CABIN_CONFIG 1 AUTO_MODE_ACTIVE 1 REGISTRATION 1 REGISTRATION_CHANGE 1  "
      ]
     },
     "metadata": {},
     "output_type": "display_data"
    },
    {
     "name": "stdout",
     "output_type": "stream",
     "text": [
      "zyxw StoreRegistrationAndConfigurationAc sent\n"
     ]
    },
    {
     "data": {
      "text/html": [
       "<div>\n",
       "<style scoped>\n",
       "    .dataframe tbody tr th:only-of-type {\n",
       "        vertical-align: middle;\n",
       "    }\n",
       "\n",
       "    .dataframe tbody tr th {\n",
       "        vertical-align: top;\n",
       "    }\n",
       "\n",
       "    .dataframe thead th {\n",
       "        text-align: right;\n",
       "    }\n",
       "</style>\n",
       "<table border=\"1\" class=\"dataframe\">\n",
       "  <thead>\n",
       "    <tr style=\"text-align: right;\">\n",
       "      <th></th>\n",
       "      <th>header_line</th>\n",
       "      <th>entry_details</th>\n",
       "    </tr>\n",
       "  </thead>\n",
       "  <tbody>\n",
       "  </tbody>\n",
       "</table>\n",
       "</div>"
      ],
      "text/plain": [
       "Empty DataFrame\n",
       "Columns: [header_line, entry_details]\n",
       "Index: []"
      ]
     },
     "metadata": {},
     "output_type": "display_data"
    },
    {
     "name": "stdout",
     "output_type": "stream",
     "text": [
      "zyxw CalculateWeightAndTrimAction received\n"
     ]
    },
    {
     "data": {
      "text/html": [
       "<div>\n",
       "<style scoped>\n",
       "    .dataframe tbody tr th:only-of-type {\n",
       "        vertical-align: middle;\n",
       "    }\n",
       "\n",
       "    .dataframe tbody tr th {\n",
       "        vertical-align: top;\n",
       "    }\n",
       "\n",
       "    .dataframe thead th {\n",
       "        text-align: right;\n",
       "    }\n",
       "</style>\n",
       "<table border=\"1\" class=\"dataframe\">\n",
       "  <thead>\n",
       "    <tr style=\"text-align: right;\">\n",
       "      <th></th>\n",
       "      <th>header_line</th>\n",
       "      <th>entry_details</th>\n",
       "    </tr>\n",
       "  </thead>\n",
       "  <tbody>\n",
       "    <tr>\n",
       "      <th>105544</th>\n",
       "      <td>2024-04-30 04:17:41,055 INFO  [adb9d4f8365fde95] [ZY6075 /30 BVB | service-acco | CalculateWeightAndTrimAction        |                                | Thread-24704 (ActiveMQ-client-global-threads)]  Received:</td>\n",
       "      <td>com.systemone.lc2.common.dto.SingleAttributeDTO[ id = NULL  deleted = false  legId = 2396037 ]</td>\n",
       "    </tr>\n",
       "  </tbody>\n",
       "</table>\n",
       "</div>"
      ],
      "text/plain": [
       "                                                                                                                                                                                                               header_line  \\\n",
       "105544  2024-04-30 04:17:41,055 INFO  [adb9d4f8365fde95] [ZY6075 /30 BVB | service-acco | CalculateWeightAndTrimAction        |                                | Thread-24704 (ActiveMQ-client-global-threads)]  Received:   \n",
       "\n",
       "                                                                                         entry_details  \n",
       "105544  com.systemone.lc2.common.dto.SingleAttributeDTO[ id = NULL  deleted = false  legId = 2396037 ]  "
      ]
     },
     "metadata": {},
     "output_type": "display_data"
    },
    {
     "name": "stdout",
     "output_type": "stream",
     "text": [
      "zyxw CalculateWeightAndTrimAction saved\n"
     ]
    },
    {
     "data": {
      "text/html": [
       "<div>\n",
       "<style scoped>\n",
       "    .dataframe tbody tr th:only-of-type {\n",
       "        vertical-align: middle;\n",
       "    }\n",
       "\n",
       "    .dataframe tbody tr th {\n",
       "        vertical-align: top;\n",
       "    }\n",
       "\n",
       "    .dataframe thead th {\n",
       "        text-align: right;\n",
       "    }\n",
       "</style>\n",
       "<table border=\"1\" class=\"dataframe\">\n",
       "  <thead>\n",
       "    <tr style=\"text-align: right;\">\n",
       "      <th></th>\n",
       "      <th>header_line</th>\n",
       "      <th>entry_details</th>\n",
       "    </tr>\n",
       "  </thead>\n",
       "  <tbody>\n",
       "    <tr>\n",
       "      <th>105545</th>\n",
       "      <td>2024-04-30 04:17:41,056 INFO  [adb9d4f8365fde95] [ZY6075 /30 BVB | service-acco | CalculateWeightAndTrimAction        |                                | Thread-24704 (ActiveMQ-client-global-threads)]  Saved:</td>\n",
       "      <td>START_WI weight               : 44308.00  KG               START_WI index                : 51.34                     \\r\\n DO_WI weight                  : 45241.00  KG               DO_WI index                   : 50.81                     \\r\\n PAX_WI weight                 : 0.00      KG               PAX_WI index                  : 0.00                               \\r\\n TOTAL_DEZYLOZY_WI weight      : 45241.00  KG               TOTAL_DEZYLOZY_WI index       : 50.81                               \\r\\n TOTAL_LOZY_WI                 : 0.00      KG               TOTAL_TRAFFIC_LOZY            : 0.00      KG              \\r\\n FUEL_INDEX                    : 0.00                      \\r\\n AZFW                          : 45241.00  KG               ATOW                          : 45241.00  KG                         \\r\\n ALAW                          : 45241.00  KG               ATXW                          : 45241.00  KG                                  \\r\\n AFT_LIMIT_ZFW                 : 59.15                      FWD_LIMIT_ZFW                 : 37.41                     \\r\\n AFT_LIMIT_TOW                 : 59.25                      FWD_LIMIT_TOW                 : 37.31                                \\r\\n AFT_LIMIT_LAW                 : 59.25                      FWD_LIMIT_LAW                 : 37.31                     \\r\\n LIZFW                         : 50.81                      LITOW                         : 50.81                     \\r\\n LILAW                         : 50.81                      MAC_AT_ZFW                    : 25.44                     \\r\\n MAC_AT_TOW                    : 25.44                      MAC_AT_LAW                    : 25.44                     \\r\\n DEZYLOZY_MAC                  : 25.44                                         \\r\\n UNDERLOZY                     : 19059.00  KG              \\r\\n LIMITING_WEIGHT               : LIMITING_WEIGHT_ZFW       \\r\\n ALLOWED TOW                   : 64300.00  KG               ALLOWED ZFW                   : 45576.00  KG                                              \\r\\n ALLOWED LAW                   : 45576.00  KG               ALLOWED TXW                   : 45576.00  KG               \\r\\n STABTO                        : NULL                                    \\r\\n OPTIMAL_TRIM                  : 57.09                                       \\r\\n IDEAL_ZYDITIONAL_LOZY_AFT     : 472.30    KG               IDEAL_ZYDITIONAL_LOZY_FWD     : -472.30   KG              \\r\\n TAIL_TIPPING_WI weight        : 45241.00  KG               TAIL_TIPPING_WI index         : 50.81                     \\r\\n TAIL_TIPPING_INDEX_EXCEEDED   : false                     \\r\\n FWD_MOVABLE_PAX               : NULL                       AFT_MOVABLE_PAX               : NULL                      \\r\\n INDEX_OUT_OF_BALANCE          : NULL                      \\r\\n LOZY_TO_AFT                   : NULL                       LOZY_TO_FWD                   : NULL                          \\r\\n ESTIMATED_TRAFFIC_LOZY        : 0.00      KG               ESTIMATED_ZFW                 : 45241.00  KG              \\r\\n DELTA_ZFW                     : 0.00      KG               ZFW_TOLERANCE_EXCEEDED        : false</td>\n",
       "    </tr>\n",
       "  </tbody>\n",
       "</table>\n",
       "</div>"
      ],
      "text/plain": [
       "                                                                                                                                                                                                            header_line  \\\n",
       "105545  2024-04-30 04:17:41,056 INFO  [adb9d4f8365fde95] [ZY6075 /30 BVB | service-acco | CalculateWeightAndTrimAction        |                                | Thread-24704 (ActiveMQ-client-global-threads)]  Saved:   \n",
       "\n",
       "                                                                                                                                                                                                                                                                                                                                                                                                                                                                                                                                                                                                                                                                                                                                                                                                                                                                                                                                                                                                                                                                                                                                                                                                                                                                                                                                                                                                                                                                                                                                                                                                                                                                                                                                                                                                                                                                                                                                                                                                                                                                                                                                                                                                                                                                                                                                                                                                                                                                                                                                                                                                                                                                                                                                                                                                                                                                                                                                                                                                                                                                                                                                                                                                                                                                                                                  entry_details  \n",
       "105545   START_WI weight               : 44308.00  KG               START_WI index                : 51.34                     \\r\\n DO_WI weight                  : 45241.00  KG               DO_WI index                   : 50.81                     \\r\\n PAX_WI weight                 : 0.00      KG               PAX_WI index                  : 0.00                               \\r\\n TOTAL_DEZYLOZY_WI weight      : 45241.00  KG               TOTAL_DEZYLOZY_WI index       : 50.81                               \\r\\n TOTAL_LOZY_WI                 : 0.00      KG               TOTAL_TRAFFIC_LOZY            : 0.00      KG              \\r\\n FUEL_INDEX                    : 0.00                      \\r\\n AZFW                          : 45241.00  KG               ATOW                          : 45241.00  KG                         \\r\\n ALAW                          : 45241.00  KG               ATXW                          : 45241.00  KG                                  \\r\\n AFT_LIMIT_ZFW                 : 59.15                      FWD_LIMIT_ZFW                 : 37.41                     \\r\\n AFT_LIMIT_TOW                 : 59.25                      FWD_LIMIT_TOW                 : 37.31                                \\r\\n AFT_LIMIT_LAW                 : 59.25                      FWD_LIMIT_LAW                 : 37.31                     \\r\\n LIZFW                         : 50.81                      LITOW                         : 50.81                     \\r\\n LILAW                         : 50.81                      MAC_AT_ZFW                    : 25.44                     \\r\\n MAC_AT_TOW                    : 25.44                      MAC_AT_LAW                    : 25.44                     \\r\\n DEZYLOZY_MAC                  : 25.44                                         \\r\\n UNDERLOZY                     : 19059.00  KG              \\r\\n LIMITING_WEIGHT               : LIMITING_WEIGHT_ZFW       \\r\\n ALLOWED TOW                   : 64300.00  KG               ALLOWED ZFW                   : 45576.00  KG                                              \\r\\n ALLOWED LAW                   : 45576.00  KG               ALLOWED TXW                   : 45576.00  KG               \\r\\n STABTO                        : NULL                                    \\r\\n OPTIMAL_TRIM                  : 57.09                                       \\r\\n IDEAL_ZYDITIONAL_LOZY_AFT     : 472.30    KG               IDEAL_ZYDITIONAL_LOZY_FWD     : -472.30   KG              \\r\\n TAIL_TIPPING_WI weight        : 45241.00  KG               TAIL_TIPPING_WI index         : 50.81                     \\r\\n TAIL_TIPPING_INDEX_EXCEEDED   : false                     \\r\\n FWD_MOVABLE_PAX               : NULL                       AFT_MOVABLE_PAX               : NULL                      \\r\\n INDEX_OUT_OF_BALANCE          : NULL                      \\r\\n LOZY_TO_AFT                   : NULL                       LOZY_TO_FWD                   : NULL                          \\r\\n ESTIMATED_TRAFFIC_LOZY        : 0.00      KG               ESTIMATED_ZFW                 : 45241.00  KG              \\r\\n DELTA_ZFW                     : 0.00      KG               ZFW_TOLERANCE_EXCEEDED        : false  "
      ]
     },
     "metadata": {},
     "output_type": "display_data"
    },
    {
     "name": "stdout",
     "output_type": "stream",
     "text": [
      "zyxw CalculateWeightAndTrimAction sent\n"
     ]
    },
    {
     "data": {
      "text/html": [
       "<div>\n",
       "<style scoped>\n",
       "    .dataframe tbody tr th:only-of-type {\n",
       "        vertical-align: middle;\n",
       "    }\n",
       "\n",
       "    .dataframe tbody tr th {\n",
       "        vertical-align: top;\n",
       "    }\n",
       "\n",
       "    .dataframe thead th {\n",
       "        text-align: right;\n",
       "    }\n",
       "</style>\n",
       "<table border=\"1\" class=\"dataframe\">\n",
       "  <thead>\n",
       "    <tr style=\"text-align: right;\">\n",
       "      <th></th>\n",
       "      <th>header_line</th>\n",
       "      <th>entry_details</th>\n",
       "    </tr>\n",
       "  </thead>\n",
       "  <tbody>\n",
       "  </tbody>\n",
       "</table>\n",
       "</div>"
      ],
      "text/plain": [
       "Empty DataFrame\n",
       "Columns: [header_line, entry_details]\n",
       "Index: []"
      ]
     },
     "metadata": {},
     "output_type": "display_data"
    },
    {
     "name": "stdout",
     "output_type": "stream",
     "text": [
      "zyxw AssignLCCAction received\n"
     ]
    },
    {
     "data": {
      "text/html": [
       "<div>\n",
       "<style scoped>\n",
       "    .dataframe tbody tr th:only-of-type {\n",
       "        vertical-align: middle;\n",
       "    }\n",
       "\n",
       "    .dataframe tbody tr th {\n",
       "        vertical-align: top;\n",
       "    }\n",
       "\n",
       "    .dataframe thead th {\n",
       "        text-align: right;\n",
       "    }\n",
       "</style>\n",
       "<table border=\"1\" class=\"dataframe\">\n",
       "  <thead>\n",
       "    <tr style=\"text-align: right;\">\n",
       "      <th></th>\n",
       "      <th>header_line</th>\n",
       "      <th>entry_details</th>\n",
       "    </tr>\n",
       "  </thead>\n",
       "  <tbody>\n",
       "    <tr>\n",
       "      <th>63208</th>\n",
       "      <td>2024-04-30 09:52:27,219 INFO  [93c249c2005f62fc] [ZY2515 /30 LIS | human | AssignLCCAction                     |                                | default task-125]  Received:</td>\n",
       "      <td>NaN</td>\n",
       "    </tr>\n",
       "  </tbody>\n",
       "</table>\n",
       "</div>"
      ],
      "text/plain": [
       "                                                                                                                                                                          header_line  \\\n",
       "63208  2024-04-30 09:52:27,219 INFO  [93c249c2005f62fc] [ZY2515 /30 LIS | human | AssignLCCAction                     |                                | default task-125]  Received:   \n",
       "\n",
       "      entry_details  \n",
       "63208           NaN  "
      ]
     },
     "metadata": {},
     "output_type": "display_data"
    },
    {
     "name": "stdout",
     "output_type": "stream",
     "text": [
      "zyxw AssignLCCAction saved\n"
     ]
    },
    {
     "data": {
      "text/html": [
       "<div>\n",
       "<style scoped>\n",
       "    .dataframe tbody tr th:only-of-type {\n",
       "        vertical-align: middle;\n",
       "    }\n",
       "\n",
       "    .dataframe tbody tr th {\n",
       "        vertical-align: top;\n",
       "    }\n",
       "\n",
       "    .dataframe thead th {\n",
       "        text-align: right;\n",
       "    }\n",
       "</style>\n",
       "<table border=\"1\" class=\"dataframe\">\n",
       "  <thead>\n",
       "    <tr style=\"text-align: right;\">\n",
       "      <th></th>\n",
       "      <th>header_line</th>\n",
       "      <th>entry_details</th>\n",
       "    </tr>\n",
       "  </thead>\n",
       "  <tbody>\n",
       "    <tr>\n",
       "      <th>63209</th>\n",
       "      <td>2024-04-30 09:52:27,220 INFO  [93c249c2005f62fc] [ZY2515 /30 LIS | human | AssignLCCAction                     |                                | default task-125]  Saved:</td>\n",
       "      <td>A/L Flt No Suff Date          DEP    ARR    STD in UTC                    ETD in UTC                    AC Type Reg       Assigned user  Planned user   Location \\r\\nZY  2515   NULL 2024-04-30    LIS    VCP    2024-04-30 15:00:00           2024-04-30 15:00:00           NULL    NULL      NULL           NULL           AZV</td>\n",
       "    </tr>\n",
       "  </tbody>\n",
       "</table>\n",
       "</div>"
      ],
      "text/plain": [
       "                                                                                                                                                                       header_line  \\\n",
       "63209  2024-04-30 09:52:27,220 INFO  [93c249c2005f62fc] [ZY2515 /30 LIS | human | AssignLCCAction                     |                                | default task-125]  Saved:   \n",
       "\n",
       "                                                                                                                                                                                                                                                                                                                          entry_details  \n",
       "63209  A/L Flt No Suff Date          DEP    ARR    STD in UTC                    ETD in UTC                    AC Type Reg       Assigned user  Planned user   Location \\r\\nZY  2515   NULL 2024-04-30    LIS    VCP    2024-04-30 15:00:00           2024-04-30 15:00:00           NULL    NULL      NULL           NULL           AZV  "
      ]
     },
     "metadata": {},
     "output_type": "display_data"
    },
    {
     "name": "stdout",
     "output_type": "stream",
     "text": [
      "zyxw AssignLCCAction sent\n"
     ]
    },
    {
     "data": {
      "text/html": [
       "<div>\n",
       "<style scoped>\n",
       "    .dataframe tbody tr th:only-of-type {\n",
       "        vertical-align: middle;\n",
       "    }\n",
       "\n",
       "    .dataframe tbody tr th {\n",
       "        vertical-align: top;\n",
       "    }\n",
       "\n",
       "    .dataframe thead th {\n",
       "        text-align: right;\n",
       "    }\n",
       "</style>\n",
       "<table border=\"1\" class=\"dataframe\">\n",
       "  <thead>\n",
       "    <tr style=\"text-align: right;\">\n",
       "      <th></th>\n",
       "      <th>header_line</th>\n",
       "      <th>entry_details</th>\n",
       "    </tr>\n",
       "  </thead>\n",
       "  <tbody>\n",
       "  </tbody>\n",
       "</table>\n",
       "</div>"
      ],
      "text/plain": [
       "Empty DataFrame\n",
       "Columns: [header_line, entry_details]\n",
       "Index: []"
      ]
     },
     "metadata": {},
     "output_type": "display_data"
    }
   ],
   "source": [
    "# For relevant actions: Check which header_categories are relevant\n",
    "for action in relevant_actions:\n",
    "    # for dataset_name, dataset in datasets.items():\n",
    "    for cat in ['received', 'saved', 'sent']:\n",
    "        filtered_df = dataset[\n",
    "            (dataset[\"header_category\"] == cat) &\n",
    "            (dataset[\"action_name\"] == action)\n",
    "        ]\n",
    "        (f\"header_category == {cat} & action_name == {action}\")\n",
    "        print(dataset_name, action, cat)\n",
    "        display(filtered_df[message].head(1))\n",
    "\n",
    "\n",
    "# Take Away:\n",
    "relevant_categories = {\n",
    "    \"CalculateWeightAndTrimAction\": \"saved\",\n",
    "    \"AssignLCCAction\": \"saved\",\n",
    "    \"StoreRegistrationAndConfigurationAc\": \"saved\",\n",
    "    \"ASMMsgProcessor\": \"received\",\n",
    "    \"UpdateCrewDataAction\": \"received\",\n",
    "    \"UpdateFlightAction\": \"received\"\n",
    "}"
   ]
  },
  {
   "cell_type": "code",
   "execution_count": 74,
   "metadata": {},
   "outputs": [
    {
     "name": "stdout",
     "output_type": "stream",
     "text": [
      "abcd, vorher: 709613, nachher: 152220\n",
      "mnop, vorher: 1108961, nachher: 235449\n",
      "zyxw, vorher: 429759, nachher: 136051\n"
     ]
    }
   ],
   "source": [
    "# Function to filter the dataset based on relevant actions and categories\n",
    "def filter_dataset(dataset):\n",
    "    return dataset[\n",
    "        (dataset['action_name'].isin(relevant_actions)) &\n",
    "        (dataset.apply(lambda row: row['header_category'] == relevant_categories.get(row['action_name']), axis=1))\n",
    "    ]\n",
    "\n",
    "# Initialize and filter datasets in one step\n",
    "trimmed_datasets = {dataset_name: filter_dataset(dataset) for dataset_name, dataset in datasets.items()}\n",
    "for dataset_name in datasets.keys():\n",
    "    print(f\"{dataset_name}, vorher: {len(datasets[dataset_name])}, nachher: {len(trimmed_datasets[dataset_name])}\")"
   ]
  },
  {
   "cell_type": "code",
   "execution_count": 75,
   "metadata": {},
   "outputs": [],
   "source": [
    "joined_dataset = pd.concat([dataset[[\"flight_id\"] + meta + message] for dataset in trimmed_datasets.values()])"
   ]
  },
  {
   "cell_type": "code",
   "execution_count": 76,
   "metadata": {},
   "outputs": [
    {
     "name": "stdout",
     "output_type": "stream",
     "text": [
      "13744\n",
      "10509\n"
     ]
    }
   ],
   "source": [
    "# Check how much the dataset would be reduced if one only kept the flights that have all relevant actions at least once\n",
    "grouped = joined_dataset.groupby('flight_id')\n",
    "distinct_values = set(relevant_actions)\n",
    "\n",
    "# Function to check if a group contains all distinct values\n",
    "def has_distinct_values(group):\n",
    "    return distinct_values.issubset(set(group['action_name']))\n",
    "\n",
    "# Apply the function to each group and count the number of groups that meet the condition\n",
    "count_groups_with_values = grouped.filter(has_distinct_values)['flight_id'].nunique()\n",
    "\n",
    "print(joined_dataset[\"flight_id\"].nunique())\n",
    "print(count_groups_with_values)\n"
   ]
  },
  {
   "cell_type": "code",
   "execution_count": 77,
   "metadata": {},
   "outputs": [
    {
     "name": "stdout",
     "output_type": "stream",
     "text": [
      "ASMMsgProcessor\n",
      "<?xml version=\"1.0\" encoding=\"UTF-8\"?><ns2:OSSChangeMessage xmlns:ns2=\"http://www.systemone.com/iocc/oss/notification/OssChangeMessage-1.3.0\">\n",
      "<changeDescriptor>\n",
      "        <changeDetail>\n",
      "            <changeLocation>/OSSChangeMessage/newFlight/leg[1]/acarsActual[1]/actualState</changeLocation>\n",
      "            <changeLocation>/OSSChangeMessage/newFlight/leg[1]/acarsActual[1]/offblockTime</changeLocation>\n",
      "            <changeLocation>/OSSChangeMessage/newFlight/leg[1]/acarsActual[1]/landingTime</changeLocation>\n",
      "            <changeDescription>\n",
      "                <movementState>OFF_BLOCK</movementState>\n",
      "            </changeDescription>\n",
      "        </changeDetail>\n",
      "    </changeDescriptor>\n",
      "<oldFlight>\n",
      "        <identity>\n",
      "            <carrier>ZY</carrier>\n",
      "            <dayOfOrigin>2024-05-02Z</dayOfOrigin>\n",
      "            <number>3983</number>\n",
      "            <id>30447015</id>\n",
      "            <version>3</version>\n",
      "        </identity>\n",
      "        <leg>\n",
      "            <scheduleState>SKD</scheduleState>\n",
      "            <departureAirport>CGB</departureAirport>\n",
      "            <departureTime>2024-05-02T23:00:00.000Z</departureTime>\n",
      "            <arrivalAirport>VCP</arrivalAirport>\n",
      "            <arrivalTime>2024-05-03T01:00:00.000Z</arrivalTime>\n",
      "            <aircraftRegistration>ZYXYD</aircraftRegistration>\n",
      "            <aircraftSubtype>32A</aircraftSubtype>\n",
      "            <aircraftVersion>Y165</aircraftVersion>\n",
      "            <serviceType>J</serviceType>\n",
      "            <nonOperational>false</nonOperational>\n",
      "            <flifoCancel>false</flifoCancel>\n",
      "            <sequenceNumber>1</sequenceNumber>\n",
      "            <id>53364649</id>\n",
      "            <acarsActual>\n",
      "                <actualNumber>1</actualNumber>\n",
      "                <actualState>ESTIMATED_DEPARTURE</actualState>\n",
      "                <landingTime>2024-05-03T00:52:00.000Z</landingTime>\n",
      "                <arrivalAirport>VCP</arrivalAirport>\n",
      "                <id>53370020</id>\n",
      "            </acarsActual>\n",
      "        </leg>\n",
      "    </oldFlight>\n",
      "<newFlight>\n",
      "        <identity>\n",
      "            <carrier>ZY</carrier>\n",
      "            <dayOfOrigin>2024-05-02Z</dayOfOrigin>\n",
      "            <number>3983</number>\n",
      "            <id>30447015</id>\n",
      "            <version>4</version>\n",
      "        </identity>\n",
      "        <leg>\n",
      "            <scheduleState>SKD</scheduleState>\n",
      "            <departureAirport>CGB</departureAirport>\n",
      "            <departureTime>2024-05-02T23:00:00.000Z</departureTime>\n",
      "            <arrivalAirport>VCP</arrivalAirport>\n",
      "            <arrivalTime>2024-05-03T01:00:00.000Z</arrivalTime>\n",
      "            <aircraftRegistration>ZYXYD</aircraftRegistration>\n",
      "            <aircraftSubtype>32A</aircraftSubtype>\n",
      "            <aircraftVersion>Y165</aircraftVersion>\n",
      "            <serviceType>J</serviceType>\n",
      "            <nonOperational>false</nonOperational>\n",
      "            <flifoCancel>false</flifoCancel>\n",
      "            <bestTimes>\n",
      "                <offblockTime>\n",
      "                    <timeSource>A</timeSource>\n",
      "                    <timeSource>S</timeSource>\n",
      "                    <time>2024-05-02T22:47:00.000Z</time>\n",
      "                </offblockTime>\n",
      "                <airborneTime>\n",
      "                    <timeSource>A</timeSource>\n",
      "                    <timeSource>E</timeSource>\n",
      "                    <time>2024-05-03T00:39:00.000Z</time>\n",
      "                </airborneTime>\n",
      "            </bestTimes>\n",
      "            <sequenceNumber>1</sequenceNumber>\n",
      "            <id>53364649</id>\n",
      "            <acarsActual>\n",
      "                <actualNumber>1</actualNumber>\n",
      "                <actualState>OFF_BLOCK</actualState>\n",
      "                <offblockTime>2024-05-02T22:47:00.000Z</offblockTime>\n",
      "                <landingTime>2024-05-03T00:39:00.000Z</landingTime>\n",
      "                <arrivalAirport>VCP</arrivalAirport>\n",
      "                <id>53370020</id>\n",
      "            </acarsActual>\n",
      "        </leg>\n",
      "    </newFlight>\n",
      "</ns2:OSSChangeMessage>\n",
      "\n",
      "UpdateCrewDataAction\n",
      "com.systemone.lc2.legaircraftconfiguration.dto.AircraftCrewDTO [ id = NULL ]\n",
      "Cockpit crew nr.          : NULL                     Cockpit crew bag nr.      : NULL                     \n",
      "Cabin crew nr.            : NULL                     Cabin crew bag nr.        : NULL                     \n",
      "As crew nr.               : NULL                     As pax nr.                : NULL                     \n",
      "Deadhead cabin crew nr.   : NULL                     Deadhead cockpit crew nr. : NULL                     \n",
      "Captain`s name            : NULL\n",
      "\n",
      "UpdateFlightAction\n",
      "Airline: AB        Flightnumber: 2146      Suffix: NULL      Date: 2024-05-15T16:25:00 \n",
      "Legs:\n",
      "DEP    STD in UTC             ETD in UTC             DEST    TRANSIT     CANCELLED    DELETED\n",
      "DEL    2024-05-15T16:25:00    NULL                   AMD     false       false        false\n",
      "\n",
      "StoreRegistrationAndConfigurationAc\n",
      "Configuration\n",
      "Start Weight : 29280.0 KG Start Index: 66.88\n",
      "Crew         : 2/3\n",
      "Water(%)     : 50.0\n",
      "Category    | Weight          | Index   \n",
      "Correction  | 400.00   KG     | -2.28    | REASON_CREW\n",
      "Correction  | 55.00    KG     | -1.24    | REASON_WATER\n",
      "Galley:\n",
      "SIMPLES     | 216.00   KG     | 1.55    \n",
      "Total Weight: 29951.00 KG     Index: 64.91   \n",
      "STATUS AIRCRAFT_CONFIG 1 CARGO_TRANSFER 1 CABIN_CONFIG 1 AUTO_MODE_ACTIVE 1 REGISTRATION 1 REGISTRATION_CHANGE 1\n",
      "\n",
      "CalculateWeightAndTrimAction\n",
      " START_WI weight               : 43512.00  KG               START_WI index                : 52.00                     \n",
      " DO_WI weight                  : NULL                       DO_WI index                   : NULL                      \n",
      " PAX_WI weight                 : 0.00      KG               PAX_WI index                  : 0.00                               \n",
      " TOTAL_DEADLOAD_WI weight      : NULL                       TOTAL_DEADLOAD_WI index       : NULL                                \n",
      " TOTAL_LOAD_WI                 : 0.00      KG               TOTAL_TRAFFIC_LOAD            : 0.00      KG              \n",
      " FUEL_INDEX                    : 0.00                      \n",
      " AZFW                          : NULL                       ATOW                          : NULL                                 \n",
      " ALAW                          : NULL                       ATXW                          : NULL                                          \n",
      " AFT_LIMIT_ZFW                 : NULL                       FWD_LIMIT_ZFW                 : NULL                      \n",
      " AFT_LIMIT_TOW                 : NULL                       FWD_LIMIT_TOW                 : NULL                                 \n",
      " AFT_LIMIT_LAW                 : NULL                       FWD_LIMIT_LAW                 : NULL                      \n",
      " LIZFW                         : NULL                       LITOW                         : NULL                      \n",
      " LILAW                         : NULL                       MAC_AT_ZFW                    : NULL                      \n",
      " MAC_AT_TOW                    : NULL                       MAC_AT_LAW                    : NULL                      \n",
      " DEADLOAD_MAC                  : NULL                                          \n",
      " UNDERLOAD                     : NULL                      \n",
      " LIMITING_WMNGHT               : NULL                      \n",
      " ALLOWED TOW                   : NULL                       ALLOWED ZFW                   : NULL                                                      \n",
      " ALLOWED LAW                   : NULL                       ALLOWED TXW                   : NULL                       \n",
      " STABTO                        : NULL                                    \n",
      " OPTIMAL_TRIM                  : NULL                                        \n",
      " IDEAL_ADDITIONAL_LOAD_AFT     : NULL                       IDEAL_ADDITIONAL_LOAD_FWD     : NULL                      \n",
      " TAIL_TIPPING_WI weight        : NULL                       TAIL_TIPPING_WI index         : NULL                      \n",
      " TAIL_TIPPING_INDEX_EXCEEDED   : NULL                      \n",
      " FWD_MOVABLE_PAX               : NULL                       AFT_MOVABLE_PAX               : NULL                      \n",
      " INDEX_OUT_OF_BALANCE          : NULL                      \n",
      " LOAD_TO_AFT                   : NULL                       LOAD_TO_FWD                   : NULL                          \n",
      " ESTIMATED_TRAFFIC_LOAD        : 0.00      KG               ESTIMATED_ZFW                 : NULL                      \n",
      " DELTA_ZFW                     : NULL                       ZFW_TOLERANCE_EXCEEDED        : NULL\n",
      "\n",
      "AssignLCCAction\n",
      "A/L Flt No Suff Date          DEP    ARR    STD in UTC                    ETD in UTC                    AC Type Reg       Assigned user  Planned user   Location \n",
      "ZY  3737   NULL 2024-05-07    AJU    REC    2024-05-07 13:10:00           2024-05-07 13:10:00           NULL    NULL      NULL           NULL           AZV\n",
      "\n"
     ]
    }
   ],
   "source": [
    "for action in relevant_actions:\n",
    "    print(action)\n",
    "    entry_details = joined_dataset.loc[joined_dataset[\"action_name\"] == action, \"entry_details\"]\n",
    "    random_sample = entry_details.iloc[random.randrange(len(entry_details))]\n",
    "    print(random_sample, end=\"\\n\\n\")"
   ]
  },
  {
   "cell_type": "markdown",
   "metadata": {},
   "source": [
    "-------------"
   ]
  },
  {
   "cell_type": "markdown",
   "metadata": {},
   "source": [
    "Vllt doch flight number als id"
   ]
  },
  {
   "cell_type": "code",
   "execution_count": null,
   "metadata": {},
   "outputs": [],
   "source": [
    "# temp\n",
    "cols = [\"departureAirport\", \"arrivalAirport\", \"departureTime\", \"arrivalTime\"]\n",
    "zyxw[cols].head(2)\n",
    "\n",
    "abcd[abcd[\"flight_id\"].isna()].__len__()"
   ]
  },
  {
   "cell_type": "code",
   "execution_count": 64,
   "metadata": {},
   "outputs": [],
   "source": [
    "df = abcd[abcd[\"flight_number\"] == random.choice(abcd[\"flight_number\"].unique())].sort_values(\"creation_time\")[meta + [\"header_category\"]]"
   ]
  },
  {
   "cell_type": "code",
   "execution_count": 65,
   "metadata": {},
   "outputs": [
    {
     "name": "stdout",
     "output_type": "stream",
     "text": [
      "2024-05-07 08:42:34 2024-04-30 10:29:01\n"
     ]
    }
   ],
   "source": [
    "print(\n",
    "    df[\"creation_time\"].max(),\n",
    "    df[\"creation_time\"].min()\n",
    ")"
   ]
  },
  {
   "cell_type": "markdown",
   "metadata": {},
   "source": [
    "ne, macht keinen sinn"
   ]
  }
 ],
 "metadata": {
  "kernelspec": {
   "display_name": ".venv",
   "language": "python",
   "name": "python3"
  },
  "language_info": {
   "codemirror_mode": {
    "name": "ipython",
    "version": 3
   },
   "file_extension": ".py",
   "mimetype": "text/x-python",
   "name": "python",
   "nbconvert_exporter": "python",
   "pygments_lexer": "ipython3",
   "version": "3.10.11"
  }
 },
 "nbformat": 4,
 "nbformat_minor": 2
}
