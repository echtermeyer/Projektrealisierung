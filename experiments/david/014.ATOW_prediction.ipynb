{
 "cells": [
  {
   "cell_type": "code",
   "execution_count": 1,
   "metadata": {},
   "outputs": [
    {
     "name": "stdout",
     "output_type": "stream",
     "text": [
      "c:\\Users\\david\\Desktop\\Main\\03_Uni\\WWI21DSA\\02_Vorlesungen\\06_Projektrealisierung\\Projektrealisierung\n"
     ]
    }
   ],
   "source": [
    "# working dir\n",
    "import os\n",
    "import sys\n",
    "\n",
    "cwd = os.getcwd()\n",
    "root_dir = os.path.dirname(os.path.dirname(cwd))\n",
    "sys.path.append(root_dir)\n",
    "\n",
    "print(root_dir)"
   ]
  },
  {
   "cell_type": "code",
   "execution_count": 2,
   "metadata": {},
   "outputs": [],
   "source": [
    "# Imports and settings\n",
    "import pandas as pd\n",
    "import random\n",
    "\n",
    "random.seed(42)\n",
    "\n",
    "pd.set_option(\"display.max_rows\", None)\n",
    "pd.set_option(\"display.max_columns\", None)\n",
    "pd.set_option(\"display.max_colwidth\", None)"
   ]
  },
  {
   "cell_type": "code",
   "execution_count": 3,
   "metadata": {},
   "outputs": [],
   "source": [
    "import pandas as pd\n",
    "from IPython.display import display, HTML\n",
    "\n",
    "# Display Dataframe (with scrollbars)\n",
    "def ddf(df, max_height=500, max_width=1500):\n",
    "    \"\"\"\n",
    "    Display a pandas DataFrame with horizontal and vertical scrollbars in a Jupyter notebook.\n",
    "    \n",
    "    Parameters:\n",
    "    df (pd.DataFrame): The DataFrame to display.\n",
    "    max_height (int): The maximum height of the scrollable area in pixels.\n",
    "    max_width (int): The maximum width of the scrollable area in pixels.\n",
    "    \"\"\"\n",
    "    style = f\"\"\"\n",
    "    <style>\n",
    "    .scrollable-dataframe {{\n",
    "        max-height: {max_height}px;\n",
    "        max-width: {max_width}px;\n",
    "        overflow: auto;\n",
    "        display: inline-block;\n",
    "        position: relative;\n",
    "    }}\n",
    "    .scrollable-dataframe thead th {{\n",
    "        position: sticky;\n",
    "        top: 0;\n",
    "        background-color: white;\n",
    "        z-index: 1;\n",
    "    }}\n",
    "    </style>\n",
    "    \"\"\"\n",
    "    html = style + df.to_html(classes='scrollable-dataframe')\n",
    "    display(HTML(html))\n"
   ]
  },
  {
   "cell_type": "code",
   "execution_count": 4,
   "metadata": {},
   "outputs": [
    {
     "name": "stderr",
     "output_type": "stream",
     "text": [
      "C:\\Users\\david\\AppData\\Local\\Temp\\ipykernel_332\\3388144568.py:2: DtypeWarning: Columns (14,15,16,17,18,19,20,21,22,23,24,26,27,28) have mixed types. Specify dtype option on import or set low_memory=False.\n",
      "  pd.read_csv(\"../../src/data/ABCD_tripfiles_preprocessed.csv\"),\n",
      "C:\\Users\\david\\AppData\\Local\\Temp\\ipykernel_332\\3388144568.py:4: DtypeWarning: Columns (26,29,30) have mixed types. Specify dtype option on import or set low_memory=False.\n",
      "  pd.read_csv(\"../../src/data/ZYXW_tripfiles_preprocessed.csv\"),\n"
     ]
    }
   ],
   "source": [
    "main = pd.concat([\n",
    "    pd.read_csv(\"../../src/data/ABCD_tripfiles_preprocessed.csv\"),\n",
    "    # pd.read_csv(\"../../src/data/MNOP_tripfiles_preprocessed.csv\"),\n",
    "    pd.read_csv(\"../../src/data/ZYXW_tripfiles_preprocessed.csv\"),\n",
    "])\n",
    "\n",
    "meta_cols = ['flight_id', 'id', 'creation_time', 'airline_code', 'flight_date', 'action_name',]\n",
    "action_cols = ['departureAirport', 'departureTime', 'arrivalAirport', 'arrivalTime', 'aircraftRegistration', 'aircraftSubtype', 'aircraftVersion',]\n",
    "\n",
    "main = main.loc[\n",
    "    main[\"action_name\"] == \"CalculateWeightAndTrimAction\",\n",
    "    meta_cols + action_cols\n",
    "]"
   ]
  },
  {
   "cell_type": "code",
   "execution_count": 5,
   "metadata": {},
   "outputs": [],
   "source": [
    "import warnings\n",
    "warnings.filterwarnings('ignore') # disable future deprecation warning of .fillna() method\n",
    "\n",
    "def fill_na_within_group(group):\n",
    "    group[action_cols] = group[action_cols].fillna(method='bfill')\n",
    "    group[action_cols] = group[action_cols].fillna(method='ffill')\n",
    "    return group\n",
    "\n",
    "main = main.groupby(\"flight_id\").apply(fill_na_within_group).reset_index(drop=True) # replaces NaN values with the values from the previous or next row within the same flight\n",
    "main.dropna(inplace=True) # drops 203828 rows - these are likely flights without an ASMMsgProcessor action\n",
    "\n",
    "warnings.filterwarnings('default')"
   ]
  },
  {
   "cell_type": "code",
   "execution_count": 6,
   "metadata": {},
   "outputs": [],
   "source": [
    "def correct_year(date_str):\n",
    "    date_part, time_part = date_str.split('T')\n",
    "    year, month, day = date_part.split('-')\n",
    "    hours, minutes, seconds = time_part.split(':')\n",
    "\n",
    "    # Correct year\n",
    "    if len(year) != 4:\n",
    "        year = year[1:]\n",
    "    \n",
    "    # Correct the minutes\n",
    "    if len(minutes) > 2:\n",
    "        minutes = minutes[:2]\n",
    "\n",
    "    # Correct the seconds\n",
    "    if len(seconds) > 6:\n",
    "        seconds = \"00.000Z\"\n",
    "    \n",
    "    date_part = f\"{year}-{month}-{day}\"\n",
    "    time_part = f\"{hours}:{minutes}:{seconds}\"\n",
    "    date_str = f\"{date_part}T{time_part}\"\n",
    "    \n",
    "    return date_str\n",
    "\n",
    "# Fix year in departureTime and arrivalTime\n",
    "main[\"departureTime\"] = main[\"departureTime\"].apply(lambda x: correct_year(str(x)))\n",
    "main[\"arrivalTime\"] = main[\"arrivalTime\"].apply(lambda x: correct_year(str(x)))\n",
    "\n",
    "\n",
    "main[\"creation_time\"] = pd.to_datetime(main[\"creation_time\"])\n",
    "main[\"departureTime\"] = pd.to_datetime(main[\"departureTime\"], format=\"%Y-%m-%dT%H:%M:%S.%fZ\")\n",
    "main[\"arrivalTime\"] = pd.to_datetime(main[\"arrivalTime\"], format=\"%Y-%m-%dT%H:%M:%S.%fZ\")\n",
    "\n",
    "main[\"minutes_till_dep\"] = (main[\"departureTime\"] - main[\"creation_time\"]).dt.total_seconds() / 60"
   ]
  },
  {
   "cell_type": "code",
   "execution_count": 7,
   "metadata": {},
   "outputs": [],
   "source": [
    "cwata = pd.concat([\n",
    "    pd.read_csv(\"../../src/data/extracted/abcd_CalculateWeightAndTrimAction.csv\"), \n",
    "    # pd.read_csv(\"../../src/data/extracted/mnop_CalculateWeightAndTrimAction.csv\"), \n",
    "    pd.read_csv(\"../../src/data/extracted/zyxw_CalculateWeightAndTrimAction.csv\")\n",
    "    ])\n",
    "\n",
    "cwata = cwata[[\n",
    "    'id', 'START_WI_weight', \n",
    "    'DO_WI_weight', 'PAX_WI_weight', 'TOTAL_DEADLOAD_WI_weight', 'TOTAL_LOAD_WI',\n",
    "    'TOTAL_TRAFFIC_LOAD', 'AZFW', 'ATOW', 'ALAW', 'ATXW', \n",
    "    'ALLOWED_TOW', 'ALLOWED_ZFW', 'ALLOWED_LAW', 'ALLOWED_TXW', 'UNDERLOAD',\n",
    "    'ESTIMATED_TRAFFIC_LOAD', 'ESTIMATED_ZFW', 'DELTA_ZFW'\n",
    "    ]]"
   ]
  },
  {
   "cell_type": "code",
   "execution_count": 8,
   "metadata": {},
   "outputs": [],
   "source": [
    "df = pd.merge(cwata, main, on=\"id\", how=\"left\")\n",
    "\n",
    "df.dropna(inplace=True)\n",
    "df.sort_values(by=[\"flight_id\", \"creation_time\", \"id\"], inplace=True, ascending=True)"
   ]
  },
  {
   "cell_type": "code",
   "execution_count": 9,
   "metadata": {},
   "outputs": [
    {
     "name": "stdout",
     "output_type": "stream",
     "text": [
      "removed rows: 462\n"
     ]
    }
   ],
   "source": [
    "max_value = 150_000\n",
    "\n",
    "removed_rows = 0\n",
    "for col in ['START_WI_weight', 'DO_WI_weight', 'PAX_WI_weight',\n",
    "       'TOTAL_DEADLOAD_WI_weight', 'TOTAL_LOAD_WI', 'TOTAL_TRAFFIC_LOAD',\n",
    "       'AZFW', 'ATOW', 'ALAW', 'ATXW', 'ALLOWED_TOW', 'ALLOWED_ZFW',\n",
    "       'ALLOWED_LAW', 'ALLOWED_TXW', 'UNDERLOAD', 'ESTIMATED_TRAFFIC_LOAD',\n",
    "       'ESTIMATED_ZFW', 'DELTA_ZFW']:\n",
    "    \n",
    "    ldf = len(df)\n",
    "    df = df[df[col] <= max_value]\n",
    "    removed_rows += ldf - len(df)\n",
    "\n",
    "print(\"removed rows:\", removed_rows)"
   ]
  },
  {
   "cell_type": "code",
   "execution_count": 10,
   "metadata": {},
   "outputs": [],
   "source": [
    "azfw_all = df.groupby('flight_id')['ATOW'].last()\n",
    "azfw_all = azfw_all.to_dict()\n",
    "\n",
    "df[\"target_ATOW\"] = df[\"flight_id\"].map(azfw_all)"
   ]
  },
  {
   "cell_type": "code",
   "execution_count": 11,
   "metadata": {},
   "outputs": [],
   "source": [
    "special_cols = ['flight_id', 'creation_time', 'id', 'action_name', \"departureTime\", \"arrivalTime\"]\n",
    "cat_cols = [\"airline_code\", \"departureAirport\", \"arrivalAirport\", \"aircraftRegistration\", \"aircraftSubtype\", \"aircraftVersion\"]\n",
    "target_col = \"target_ATOW\"\n",
    "num_cols = list(set(df.columns) - set(cat_cols) - set(special_cols) - {target_col})"
   ]
  },
  {
   "cell_type": "code",
   "execution_count": 12,
   "metadata": {},
   "outputs": [],
   "source": [
    "# Transform data (dft = dataframe transformed)\n",
    "from sklearn.preprocessing import StandardScaler\n",
    "\n",
    "\n",
    "dft = pd.get_dummies(df, columns=cat_cols, drop_first=True)\n",
    "\n",
    "scaler = StandardScaler()\n",
    "dft[num_cols] = scaler.fit_transform(dft[num_cols])\n",
    "\n",
    "target_scaler = StandardScaler()\n",
    "dft[target_col] = target_scaler.fit_transform(dft[[target_col]])"
   ]
  },
  {
   "cell_type": "code",
   "execution_count": 13,
   "metadata": {},
   "outputs": [],
   "source": [
    "import torch\n",
    "from torch.utils.data import DataLoader, TensorDataset\n",
    "from sklearn.model_selection import train_test_split\n",
    "\n",
    "\n",
    "# Assume 'dft' is your DataFrame and 'flight_id' is the column name for flight IDs\n",
    "flight_ids = dft['flight_id'].unique()\n",
    "\n",
    "# Split flight IDs into train, val, and test\n",
    "train_ids, test_ids = train_test_split(flight_ids, test_size=0.3, random_state=42)\n",
    "val_ids, test_ids = train_test_split(test_ids, test_size=1/3, random_state=42)\n",
    "\n",
    "# Function to create datasets based on flight IDs\n",
    "def create_dataset(dft, ids):\n",
    "    df_subset = dft[dft['flight_id'].isin(ids)]\n",
    "    X = df_subset.drop(columns=[target_col] + special_cols)\n",
    "    y = df_subset[target_col]\n",
    "    X = X.astype(float)\n",
    "    X_tensor = torch.tensor(X.values, dtype=torch.float32)\n",
    "    y_tensor = torch.tensor(y.values, dtype=torch.float32)\n",
    "    return TensorDataset(X_tensor, y_tensor)\n",
    "\n",
    "train_dataset = create_dataset(dft, train_ids)\n",
    "val_dataset = create_dataset(dft, val_ids)\n",
    "test_dataset = create_dataset(dft, test_ids)\n",
    "\n",
    "batch_size = 128\n",
    "train_loader = DataLoader(train_dataset, batch_size=batch_size, shuffle=True, drop_last=True)\n",
    "val_loader = DataLoader(val_dataset, batch_size=batch_size, shuffle=False, drop_last=True)\n",
    "test_loader = DataLoader(test_dataset, batch_size=batch_size, shuffle=False, drop_last=True)\n"
   ]
  },
  {
   "cell_type": "code",
   "execution_count": 14,
   "metadata": {},
   "outputs": [],
   "source": [
    "# print(\n",
    "#     f\"X shape: {X_tensor.shape}\",\n",
    "#     f\"y shape: {y_tensor.shape}\",\n",
    "#     f\"Feature variance:\\n{X.var()}\",\n",
    "#     f\"Target variance:\\n{y.var()}\",\n",
    "#     sep=\"\\n\"\n",
    "# )\n",
    "\n",
    "# #> Looking good"
   ]
  },
  {
   "cell_type": "code",
   "execution_count": 47,
   "metadata": {},
   "outputs": [],
   "source": [
    "import torch.nn as nn\n",
    "\n",
    "class SimpleNN(nn.Module):\n",
    "    def __init__(self, input_size):\n",
    "        super(SimpleNN, self).__init__()\n",
    "        self.fc1 = nn.Linear(input_size, 128)\n",
    "        self.fc2 = nn.Linear(128, 64)\n",
    "        self.fc3 = nn.Linear(64, 1) \n",
    "\n",
    "    def forward(self, x):\n",
    "        x = torch.relu(self.fc1(x))\n",
    "        x = torch.relu(self.fc2(x))\n",
    "        x = self.fc3(x)\n",
    "        x = x.squeeze()\n",
    "        return x\n",
    "    \n",
    "class Regression(nn.Module):\n",
    "    def __init__(self, input_size):\n",
    "        super(Regression, self).__init__()\n",
    "        self.fc = nn.Linear(input_size, 1) \n",
    "\n",
    "    def forward(self, x):\n",
    "        x = self.fc(x)\n",
    "        x = x.squeeze()\n",
    "        return x\n",
    "\n",
    "input_size = train_dataset.tensors[0].shape[1]\n",
    "model = SimpleNN(input_size)\n",
    "# model = Regression(input_size)"
   ]
  },
  {
   "cell_type": "code",
   "execution_count": 50,
   "metadata": {},
   "outputs": [
    {
     "data": {
      "text/plain": [
       "SimpleNN(\n",
       "  (fc1): Linear(in_features=439, out_features=128, bias=True)\n",
       "  (fc2): Linear(in_features=128, out_features=64, bias=True)\n",
       "  (fc3): Linear(in_features=64, out_features=1, bias=True)\n",
       ")"
      ]
     },
     "execution_count": 50,
     "metadata": {},
     "output_type": "execute_result"
    }
   ],
   "source": [
    "def weights_init(m):\n",
    "    if isinstance(m, nn.Linear):\n",
    "        nn.init.kaiming_uniform_(m.weight, nonlinearity='relu')\n",
    "        if m.bias is not None:\n",
    "            nn.init.constant_(m.bias, 0)\n",
    "\n",
    "model.apply(weights_init)\n"
   ]
  },
  {
   "cell_type": "code",
   "execution_count": 51,
   "metadata": {},
   "outputs": [
    {
     "name": "stderr",
     "output_type": "stream",
     "text": [
      "Epoch 1/100: 100%|██████████| 573/573 [00:08<00:00, 68.34batch/s, loss=6.66]\n"
     ]
    },
    {
     "name": "stdout",
     "output_type": "stream",
     "text": [
      "Epoch 1, Training Loss: 6.6596502249086855\n",
      "Epoch 1, Validation Loss: 0.02490659770311466\n",
      "Learning rate: [0.1]\n"
     ]
    },
    {
     "name": "stderr",
     "output_type": "stream",
     "text": [
      "Epoch 2/100: 100%|██████████| 573/573 [00:08<00:00, 66.55batch/s, loss=0.0126]\n"
     ]
    },
    {
     "name": "stdout",
     "output_type": "stream",
     "text": [
      "Epoch 2, Training Loss: 0.012633896194703969\n",
      "Epoch 2, Validation Loss: 0.01462406502787978\n",
      "Learning rate: [0.1]\n"
     ]
    },
    {
     "name": "stderr",
     "output_type": "stream",
     "text": [
      "Epoch 3/100: 100%|██████████| 573/573 [00:09<00:00, 61.95batch/s, loss=0.011] \n"
     ]
    },
    {
     "name": "stdout",
     "output_type": "stream",
     "text": [
      "Epoch 3, Training Loss: 0.0110445081725242\n",
      "Epoch 3, Validation Loss: 0.011414067778304466\n",
      "Learning rate: [0.1]\n"
     ]
    },
    {
     "name": "stderr",
     "output_type": "stream",
     "text": [
      "Epoch 4/100: 100%|██████████| 573/573 [00:09<00:00, 62.11batch/s, loss=0.00736]\n"
     ]
    },
    {
     "name": "stdout",
     "output_type": "stream",
     "text": [
      "Epoch 4, Training Loss: 0.007355137771429465\n",
      "Epoch 4, Validation Loss: 0.012692088263043215\n",
      "Learning rate: [0.1]\n"
     ]
    },
    {
     "name": "stderr",
     "output_type": "stream",
     "text": [
      "Epoch 5/100: 100%|██████████| 573/573 [00:09<00:00, 62.69batch/s, loss=0.00698]\n"
     ]
    },
    {
     "name": "stdout",
     "output_type": "stream",
     "text": [
      "Epoch 5, Training Loss: 0.006984336267145803\n",
      "Epoch 5, Validation Loss: 0.010828246898862194\n",
      "Learning rate: [0.1]\n"
     ]
    },
    {
     "name": "stderr",
     "output_type": "stream",
     "text": [
      "Epoch 6/100: 100%|██████████| 573/573 [00:09<00:00, 61.58batch/s, loss=0.00646]\n"
     ]
    },
    {
     "name": "stdout",
     "output_type": "stream",
     "text": [
      "Epoch 6, Training Loss: 0.006456488048589511\n",
      "Epoch 6, Validation Loss: 0.012024094374889197\n",
      "Learning rate: [0.1]\n"
     ]
    },
    {
     "name": "stderr",
     "output_type": "stream",
     "text": [
      "Epoch 7/100: 100%|██████████| 573/573 [00:09<00:00, 62.25batch/s, loss=0.00604]\n"
     ]
    },
    {
     "name": "stdout",
     "output_type": "stream",
     "text": [
      "Epoch 7, Training Loss: 0.006038582078010546\n",
      "Epoch 7, Validation Loss: 0.016980929676742283\n",
      "Learning rate: [0.1]\n"
     ]
    },
    {
     "name": "stderr",
     "output_type": "stream",
     "text": [
      "Epoch 8/100: 100%|██████████| 573/573 [00:09<00:00, 61.20batch/s, loss=0.00568]\n"
     ]
    },
    {
     "name": "stdout",
     "output_type": "stream",
     "text": [
      "Epoch 8, Training Loss: 0.005680522096813063\n",
      "Epoch 8, Validation Loss: 0.012671454800443759\n",
      "Learning rate: [0.1]\n"
     ]
    },
    {
     "name": "stderr",
     "output_type": "stream",
     "text": [
      "Epoch 9/100: 100%|██████████| 573/573 [00:09<00:00, 59.32batch/s, loss=0.00613]\n"
     ]
    },
    {
     "name": "stdout",
     "output_type": "stream",
     "text": [
      "Epoch 9, Training Loss: 0.006128286618176998\n",
      "Epoch 9, Validation Loss: 0.013438690671687199\n",
      "Learning rate: [0.1]\n"
     ]
    },
    {
     "name": "stderr",
     "output_type": "stream",
     "text": [
      "Epoch 10/100: 100%|██████████| 573/573 [00:09<00:00, 60.71batch/s, loss=0.00641]\n"
     ]
    },
    {
     "name": "stdout",
     "output_type": "stream",
     "text": [
      "Epoch 10, Training Loss: 0.0064140542068585335\n",
      "Epoch 10, Validation Loss: 0.015457446343606096\n",
      "Learning rate: [0.1]\n"
     ]
    },
    {
     "name": "stderr",
     "output_type": "stream",
     "text": [
      "Epoch 11/100: 100%|██████████| 573/573 [00:09<00:00, 58.93batch/s, loss=0.011]  \n"
     ]
    },
    {
     "name": "stdout",
     "output_type": "stream",
     "text": [
      "Epoch 11, Training Loss: 0.010970060748534105\n",
      "Epoch 11, Validation Loss: 0.014205328592966615\n",
      "Learning rate: [0.010000000000000002]\n"
     ]
    },
    {
     "name": "stderr",
     "output_type": "stream",
     "text": [
      "Epoch 12/100: 100%|██████████| 573/573 [00:09<00:00, 59.75batch/s, loss=0.00256]\n"
     ]
    },
    {
     "name": "stdout",
     "output_type": "stream",
     "text": [
      "Epoch 12, Training Loss: 0.0025636449124644563\n",
      "Epoch 12, Validation Loss: 0.01111656322106604\n",
      "Learning rate: [0.010000000000000002]\n"
     ]
    },
    {
     "name": "stderr",
     "output_type": "stream",
     "text": [
      "Epoch 13/100: 100%|██████████| 573/573 [00:09<00:00, 60.46batch/s, loss=0.00202]\n"
     ]
    },
    {
     "name": "stdout",
     "output_type": "stream",
     "text": [
      "Epoch 13, Training Loss: 0.00202071681381187\n",
      "Epoch 13, Validation Loss: 0.011102091091069506\n",
      "Learning rate: [0.010000000000000002]\n"
     ]
    },
    {
     "name": "stderr",
     "output_type": "stream",
     "text": [
      "Epoch 14/100: 100%|██████████| 573/573 [00:09<00:00, 63.17batch/s, loss=0.00182]\n"
     ]
    },
    {
     "name": "stdout",
     "output_type": "stream",
     "text": [
      "Epoch 14, Training Loss: 0.0018175888367128895\n",
      "Epoch 14, Validation Loss: 0.011322896356028246\n",
      "Learning rate: [0.010000000000000002]\n"
     ]
    },
    {
     "name": "stderr",
     "output_type": "stream",
     "text": [
      "Epoch 15/100: 100%|██████████| 573/573 [00:08<00:00, 64.29batch/s, loss=0.00167]\n"
     ]
    },
    {
     "name": "stdout",
     "output_type": "stream",
     "text": [
      "Epoch 15, Training Loss: 0.0016701480572438598\n",
      "Epoch 15, Validation Loss: 0.011437546779627245\n",
      "Learning rate: [0.010000000000000002]\n",
      "Early stopping at epoch 15\n"
     ]
    }
   ],
   "source": [
    "import torch.optim as optim\n",
    "from tqdm import tqdm\n",
    "import numpy as np\n",
    "from torch.optim.lr_scheduler import ReduceLROnPlateau\n",
    "\n",
    "\n",
    "criterion = nn.MSELoss()\n",
    "optimizer = optim.Adam(model.parameters(), lr=0.1)\n",
    "# optimizer = optim.SGD(model.parameters(), lr=0.01, momentum=0.9)\n",
    "scheduler = ReduceLROnPlateau(optimizer, mode='min', factor=0.1, patience=5, verbose=True, threshold=1e-4)\n",
    "\n",
    "# Early Stopping Parameters\n",
    "early_stopping_patience = 10\n",
    "best_loss = float('inf')\n",
    "patience_counter = 0\n",
    "\n",
    "# Training Loop \n",
    "num_epochs = 100\n",
    "for epoch in range(num_epochs):\n",
    "    model.train()\n",
    "    losses = []\n",
    "    train_loader_tqdm = tqdm(train_loader, desc=f'Epoch {epoch+1}/{num_epochs}', unit='batch')\n",
    "    for inputs, labels in train_loader_tqdm:\n",
    "        optimizer.zero_grad()\n",
    "        outputs = model(inputs)\n",
    "        loss = criterion(outputs, labels)\n",
    "        \n",
    "        if torch.isnan(loss) or torch.isinf(loss):\n",
    "            print(\"NaN or Inf loss detected\")\n",
    "            break\n",
    "\n",
    "        loss.backward()\n",
    "        optimizer.step()\n",
    "        losses.append(loss.item())\n",
    "\n",
    "        train_loader_tqdm.set_postfix(loss=np.mean(losses))\n",
    "    \n",
    "    epoch_loss = np.mean(losses)\n",
    "    print(f\"Epoch {epoch+1}, Training Loss: {epoch_loss}\")\n",
    "\n",
    "    # Validation phase\n",
    "    model.eval()\n",
    "    val_losses = []\n",
    "    with torch.no_grad():\n",
    "        for val_inputs, val_labels in val_loader:\n",
    "            val_outputs = model(val_inputs)\n",
    "            val_loss = criterion(val_outputs, val_labels)\n",
    "            val_losses.append(val_loss.item())\n",
    "\n",
    "    val_loss_mean = np.mean(val_losses)\n",
    "    print(f\"Epoch {epoch+1}, Validation Loss: {val_loss_mean}\")\n",
    "\n",
    "    # Step the scheduler\n",
    "    scheduler.step(val_loss_mean)\n",
    "    print(f\"Learning rate: {scheduler.get_last_lr()}\")\n",
    "\n",
    "    # Early Stopping Check\n",
    "    if val_loss_mean < best_loss:\n",
    "        best_loss = val_loss_mean\n",
    "        patience_counter = 0\n",
    "    else:\n",
    "        patience_counter += 1\n",
    "\n",
    "    if patience_counter >= early_stopping_patience:\n",
    "        print(f\"Early stopping at epoch {epoch+1}\")\n",
    "        break\n",
    "\n"
   ]
  },
  {
   "cell_type": "code",
   "execution_count": 40,
   "metadata": {},
   "outputs": [
    {
     "name": "stderr",
     "output_type": "stream",
     "text": [
      "Evaluating: 100%|██████████| 75/75 [00:00<00:00, 201.61batch/s]"
     ]
    },
    {
     "name": "stdout",
     "output_type": "stream",
     "text": [
      "Test Loss: 0.02643263185493803\n",
      "Unscaled Test Loss: 8270066.328489583\n"
     ]
    },
    {
     "name": "stderr",
     "output_type": "stream",
     "text": [
      "\n"
     ]
    }
   ],
   "source": [
    "# Evaluation\n",
    "model.eval()\n",
    "losses = []\n",
    "unscaled_losses = []\n",
    "test_loader_tqdm = tqdm(test_loader, desc='Evaluating', unit='batch')\n",
    "us_outputs = []\n",
    "\n",
    "with torch.no_grad():\n",
    "    for inputs, labels in test_loader_tqdm:\n",
    "        # Compute scaled outputs\n",
    "        outputs = model(inputs)\n",
    "        \n",
    "        # Calculate scaled loss\n",
    "        loss = criterion(outputs, labels)\n",
    "        losses.append(loss.item())\n",
    "\n",
    "        # Inverse transform the scaled outputs and labels to get unscaled values\n",
    "        unscaled_outputs = target_scaler.inverse_transform(outputs.numpy().reshape(-1, 1))\n",
    "        us_outputs.extend(unscaled_outputs.squeeze())\n",
    "        unscaled_labels = target_scaler.inverse_transform(labels.numpy().reshape(-1, 1))\n",
    "\n",
    "        # Ensure the shapes are correct for unscaled loss calculation\n",
    "        unscaled_outputs_tensor = torch.tensor(unscaled_outputs, dtype=torch.float32)\n",
    "        unscaled_labels_tensor = torch.tensor(unscaled_labels, dtype=torch.float32)\n",
    "\n",
    "        # Calculate unscaled loss\n",
    "        unscaled_loss = criterion(unscaled_outputs_tensor, unscaled_labels_tensor)\n",
    "        unscaled_losses.append(unscaled_loss.item())\n",
    "\n",
    "# Calculate mean losses\n",
    "mean_loss = np.mean(losses)\n",
    "mean_unscaled_loss = np.mean(unscaled_losses)\n",
    "\n",
    "print(f'Test Loss: {mean_loss}')\n",
    "print(f'Unscaled Test Loss: {mean_unscaled_loss}')\n"
   ]
  },
  {
   "cell_type": "markdown",
   "metadata": {},
   "source": [
    "Visualisation"
   ]
  },
  {
   "cell_type": "code",
   "execution_count": 44,
   "metadata": {},
   "outputs": [],
   "source": [
    "# torch.save(model.state_dict(), \"nn_model.pth\")"
   ]
  },
  {
   "cell_type": "code",
   "execution_count": 41,
   "metadata": {},
   "outputs": [
    {
     "data": {
      "text/plain": [
       "2875.772301224418"
      ]
     },
     "execution_count": 41,
     "metadata": {},
     "output_type": "execute_result"
    }
   ],
   "source": [
    "import math\n",
    "\n",
    "math.sqrt(8270066.328489583)"
   ]
  },
  {
   "cell_type": "code",
   "execution_count": 35,
   "metadata": {},
   "outputs": [
    {
     "name": "stderr",
     "output_type": "stream",
     "text": [
      "C:\\Users\\david\\AppData\\Local\\Temp\\ipykernel_332\\1320864974.py:9: SettingWithCopyWarning: \n",
      "A value is trying to be set on a copy of a slice from a DataFrame.\n",
      "Try using .loc[row_indexer,col_indexer] = value instead\n",
      "\n",
      "See the caveats in the documentation: https://pandas.pydata.org/pandas-docs/stable/user_guide/indexing.html#returning-a-view-versus-a-copy\n",
      "  test_df['model_pred'] = preds\n"
     ]
    }
   ],
   "source": [
    "test_df = df[df['flight_id'].isin(test_ids)]\n",
    "\n",
    "test_dft = dft[dft['flight_id'].isin(test_ids)]\n",
    "test_arrt = test_dft.drop(columns=[target_col] + special_cols).astype(float).values\n",
    "test_tensort = torch.tensor(test_arrt, dtype=torch.float32)\n",
    "preds_t = model(test_tensort).detach().numpy().reshape(-1, 1)\n",
    "preds = target_scaler.inverse_transform(preds_t).squeeze()\n",
    "\n",
    "test_df['model_pred'] = preds"
   ]
  },
  {
   "cell_type": "code",
   "execution_count": 36,
   "metadata": {},
   "outputs": [],
   "source": [
    "import numpy as np\n",
    "\n",
    "grouped = test_df.groupby(\"flight_id\")\n",
    "\n",
    "deltas = {}\n",
    "for flight_id, group in grouped:\n",
    "    actual = np.array(group[\"target_ATOW\"].to_list())\n",
    "\n",
    "    estimations_current = np.array(group[\"ATOW\"].to_list())\n",
    "    estimations_model = np.array(group[\"model_pred\"].to_list())\n",
    "\n",
    "    deltas[flight_id] = {\n",
    "        \"current\": estimations_current - actual,\n",
    "        \"model\": estimations_model - actual\n",
    "    }"
   ]
  },
  {
   "cell_type": "code",
   "execution_count": 37,
   "metadata": {},
   "outputs": [],
   "source": [
    "import matplotlib.pyplot as plt\n",
    "\n",
    "def plot_dict(data_dict, title, color):\n",
    "    \"\"\"\n",
    "    Creates a line plot from a dictionary where each key is the label\n",
    "    and each value is a list containing data points.\n",
    "\n",
    "    Parameters:\n",
    "    data_dict (dict): Dictionary with labels as keys and lists of data points as values.\n",
    "    \"\"\"\n",
    "    print(data_dict.keys())\n",
    "    plt.figure(figsize=(10, 6))\n",
    "\n",
    "    for label, data_points in data_dict.items():\n",
    "        if label == \"Model Estimates\":\n",
    "            color = \"black\"\n",
    "        plt.plot(data_points, label=label, color=color)\n",
    "\n",
    "    plt.xlabel('Index')\n",
    "    plt.ylabel('Value')\n",
    "    plt.title(title)\n",
    "    plt.legend()\n",
    "    plt.grid(True)\n",
    "    plt.show()"
   ]
  },
  {
   "cell_type": "code",
   "execution_count": 39,
   "metadata": {},
   "outputs": [
    {
     "name": "stderr",
     "output_type": "stream",
     "text": [
      "c:\\Users\\david\\Desktop\\Main\\03_Uni\\WWI21DSA\\02_Vorlesungen\\06_Projektrealisierung\\Projektrealisierung\\.venv\\lib\\site-packages\\numpy\\core\\fromnumeric.py:3504: RuntimeWarning: Mean of empty slice.\n",
      "  return _methods._mean(a, axis=axis, dtype=dtype,\n",
      "c:\\Users\\david\\Desktop\\Main\\03_Uni\\WWI21DSA\\02_Vorlesungen\\06_Projektrealisierung\\Projektrealisierung\\.venv\\lib\\site-packages\\numpy\\core\\_methods.py:129: RuntimeWarning: invalid value encountered in scalar divide\n",
      "  ret = ret.dtype.type(ret / rcount)\n"
     ]
    },
    {
     "name": "stdout",
     "output_type": "stream",
     "text": [
      "dict_keys(['Current Estimates', 'Model Estimates'])\n"
     ]
    },
    {
     "data": {
      "image/png": "[encoded data removed]",
      "text/plain": [
       "<Figure size 1000x600 with 1 Axes>"
      ]
     },
     "metadata": {},
     "output_type": "display_data"
    },
    {
     "name": "stdout",
     "output_type": "stream",
     "text": [
      "dict_keys(['Current Estimates', 'Model Estimates'])\n"
     ]
    },
    {
     "data": {
      "image/png": "[encoded data removed]",
      "text/plain": [
       "<Figure size 1000x600 with 1 Axes>"
      ]
     },
     "metadata": {},
     "output_type": "display_data"
    }
   ],
   "source": [
    "abcd_flights = test_df[test_df[\"airline_code\"] == \"AB\"][\"flight_id\"].unique()\n",
    "zyxw_flights = test_df[test_df[\"airline_code\"] == \"ZY\"][\"flight_id\"].unique()\n",
    "\n",
    "for airline_code, color, flights in [(\"abcd\", \"blue\", abcd_flights), (\"zyxw\", \"green\", zyxw_flights)]:\n",
    "    deltas_filtered = {k: v for k, v in deltas.items() if k in flights}\n",
    "    \n",
    "    longest_delta = max([len(v[\"current\"]) for v in deltas_filtered.values()])\n",
    "\n",
    "    average_delta_current = []\n",
    "    average_delta_model = []\n",
    "    for i in range(1, longest_delta + 1):\n",
    "        timestep_current = [v[\"current\"][-i] for v in deltas_filtered.values() if i < len(v[\"current\"])]\n",
    "        timestep_model = [v[\"model\"][-i] for v in deltas_filtered.values() if i < len(v[\"model\"])]\n",
    "        # if len(timestep_current) >= 10:\n",
    "        average_delta_current.insert(0, np.mean(timestep_current))\n",
    "        average_delta_model.insert(0, np.mean(timestep_model))\n",
    "    \n",
    "    title = f\"Average Delta between estimated and actual TOW for {airline_code.upper()} over time.\"\n",
    "    plot_dict({\n",
    "        \"Current Estimates\": average_delta_current,\n",
    "        \"Model Estimates\": average_delta_model\n",
    "        }, title, color)"
   ]
  },
  {
   "cell_type": "code",
   "execution_count": null,
   "metadata": {},
   "outputs": [],
   "source": []
  }
 ],
 "metadata": {
  "kernelspec": {
   "display_name": ".venv",
   "language": "python",
   "name": "python3"
  },
  "language_info": {
   "codemirror_mode": {
    "name": "ipython",
    "version": 3
   },
   "file_extension": ".py",
   "mimetype": "text/x-python",
   "name": "python",
   "nbconvert_exporter": "python",
   "pygments_lexer": "ipython3",
   "version": "3.10.11"
  }
 },
 "nbformat": 4,
 "nbformat_minor": 2
}
