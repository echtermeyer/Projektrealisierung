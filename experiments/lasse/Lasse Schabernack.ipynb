{
 "cells": [
  {
   "cell_type": "code",
   "execution_count": null,
   "metadata": {},
   "outputs": [],
   "source": [
    "# Required for importing modules from parent directory\n",
    "import os\n",
    "import sys\n",
    "\n",
    "current_dir = os.path.dirname(os.path.abspath(\"__file__\"))\n",
    "parent_dir = os.path.dirname(current_dir)\n",
    "print(parent_dir)\n",
    "sys.path.append(parent_dir)"
   ]
  },
  {
   "cell_type": "code",
   "execution_count": null,
   "metadata": {},
   "outputs": [],
   "source": [
    "from pathlib import Path\n",
    "\n",
    "import pandas as pd\n",
    "\n",
    "from src.loader import TripLoader\n",
    "\n",
    "pd.set_option(\"display.max_rows\", None)\n",
    "pd.set_option(\"display.max_columns\", None)\n",
    "pd.set_option(\"display.max_colwidth\", None)"
   ]
  },
  {
   "cell_type": "code",
   "execution_count": null,
   "metadata": {},
   "outputs": [],
   "source": [
    "trip_loader = TripLoader(fix_csv_errors=False)\n",
    "trips_data = [trip_loader.trips_ABCD, trip_loader.trips_MNOP, trip_loader.trips_ZYXW]\n",
    "combined_trips = (\n",
    "    pd.concat(trips_data, ignore_index=True)\n",
    "    .dropna()\n",
    "    .drop(columns=[\"header_line\", \"entry_details\"])\n",
    ")"
   ]
  },
  {
   "cell_type": "code",
   "execution_count": null,
   "metadata": {},
   "outputs": [],
   "source": [
    "unique_df = combined_trips.drop_duplicates(subset=\"header_id\")\n",
    "print(\"=========== Total Flights ===========\")\n",
    "print(\"Total flights: \", len(unique_df))\n",
    "combined_trips.head()"
   ]
  },
  {
   "cell_type": "code",
   "execution_count": null,
   "metadata": {},
   "outputs": [],
   "source": [
    "combined_trips[(combined_trips[\"header_id\"] == \"df3a1cc7d5741610\")].head(100)"
   ]
  },
  {
   "cell_type": "code",
   "execution_count": null,
   "metadata": {},
   "outputs": [],
   "source": [
    "unique_user_names = unique_df[\"user_name\"].unique()\n",
    "print(\"=========== Service Accounts Share ===========\")\n",
    "print(\"Unique User Names: \", unique_user_names)\n",
    "\n",
    "# Total number of events\n",
    "total_events = len(unique_df)\n",
    "\n",
    "# Number of events posted by service accounts\n",
    "service_account_events = unique_df[\n",
    "    unique_df[\"user_name\"].str.contains(\"service\")\n",
    "].shape[0]\n",
    "\n",
    "# Calculate the share of events posted by service accounts\n",
    "service_account_share = service_account_events / total_events * 100\n",
    "\n",
    "print(\"Total Events: \", total_events)\n",
    "print(\"Service Account Events: \", service_account_events)\n",
    "print(\"Service Account Share: {:.2f}%\".format(service_account_share))"
   ]
  },
  {
   "cell_type": "code",
   "execution_count": null,
   "metadata": {},
   "outputs": [],
   "source": [
    "import matplotlib.pyplot as plt\n",
    "import seaborn as sns\n",
    "\n",
    "unique_df[\"creation_time\"] = pd.to_datetime(unique_df[\"creation_time\"])\n",
    "print(\"=========== Unique Flights Over Time ===========\")\n",
    "print(\"unique days: \", unique_df[\"creation_time\"].dt.date.nunique())\n",
    "# Sort by 'creation_time' and remove duplicates based on 'header_id' to keep the first event for each flight\n",
    "df_sorted = unique_df.sort_values(by=\"creation_time\").drop_duplicates(\n",
    "    subset=\"header_id\", keep=\"first\"\n",
    ")\n",
    "\n",
    "# Aggregate data to count unique flights per day\n",
    "unique_flights_per_day = (\n",
    "    df_sorted.groupby(df_sorted[\"creation_time\"].dt.date)[\"header_id\"]\n",
    "    .nunique()\n",
    "    .reset_index(name=\"unique_flight_count\")\n",
    ")\n",
    "\n",
    "# Set the plot style\n",
    "sns.set_theme(style=\"whitegrid\")\n",
    "\n",
    "# Create the line plot\n",
    "plt.figure(figsize=(10, 6))\n",
    "sns.lineplot(\n",
    "    data=unique_flights_per_day, x=\"creation_time\", y=\"unique_flight_count\", marker=\"o\"\n",
    ")\n",
    "\n",
    "# Set plot labels and title\n",
    "plt.xlabel(\"Date\")\n",
    "plt.ylabel(\"Unique Flight Count\")\n",
    "plt.title(\"Unique Flight Count Over Time\")\n",
    "\n",
    "# Show the plot\n",
    "plt.show()"
   ]
  },
  {
   "cell_type": "code",
   "execution_count": null,
   "metadata": {},
   "outputs": [],
   "source": [
    "airport_flight_counts = (\n",
    "    combined_trips.groupby(\"departure_airport\")[\"flight_number\"].nunique().reset_index()\n",
    ")\n",
    "airport_flight_counts.columns = [\"departure_airport\", \"unique_flight_numbers\"]"
   ]
  },
  {
   "cell_type": "code",
   "execution_count": null,
   "metadata": {},
   "outputs": [],
   "source": [
    "import folium\n",
    "\n",
    "from src.utils import airport_coords\n",
    "\n",
    "# Initialize a map centered around a geographical location (Brazil in this case)\n",
    "map_center = [-14.2350, -51.9253]  # Center of Brazil\n",
    "m = folium.Map(location=map_center, zoom_start=4)\n",
    "\n",
    "# Add markers to the map\n",
    "for _, row in airport_flight_counts.iterrows():\n",
    "    airport = row[\"departure_airport\"]\n",
    "    count = row[\"unique_flight_numbers\"]\n",
    "    coords = airport_coords.get(airport)\n",
    "    if coords:\n",
    "        folium.Marker(\n",
    "            location=coords,\n",
    "            popup=f\"{airport}: {count} unique flight numbers\",\n",
    "            tooltip=f\"{airport}: {count} unique flight numbers\",\n",
    "        ).add_to(m)\n",
    "\n",
    "# Save the map to an HTML file\n",
    "m.save(\"airport_flight_map.html\")"
   ]
  },
  {
   "cell_type": "code",
   "execution_count": null,
   "metadata": {},
   "outputs": [],
   "source": [
    "# Create a list to store the sequences\n",
    "sequences = []\n",
    "\n",
    "# Iterate over each group and create the sequences\n",
    "for i in range(len(unique_df[\"header_id\"])):\n",
    "    flight_events = combined_trips[\n",
    "        (combined_trips[\"header_id\"] == unique_df[\"header_id\"].iloc[i])\n",
    "    ]\n",
    "    sequence = flight_events[\"action_name\"].tolist()\n",
    "    sequences.append(sequence)\n",
    "# Inspect the sequences\n",
    "for seq in sequences[:5]:\n",
    "    print(seq)"
   ]
  },
  {
   "cell_type": "code",
   "execution_count": null,
   "metadata": {},
   "outputs": [],
   "source": [
    "from collections import Counter, defaultdict\n",
    "\n",
    "# Create a defaultdict to store transitions\n",
    "transitions = defaultdict(Counter)\n",
    "\n",
    "# Calculate the transitions\n",
    "for seq in sequences:\n",
    "    for i in range(len(seq) - 1):\n",
    "        current_event = seq[i]\n",
    "        next_event = seq[i + 1]\n",
    "        transitions[current_event][next_event] += 1\n",
    "\n",
    "# Calculate the probabilities\n",
    "transition_probabilities = {\n",
    "    k: {k2: v2 / sum(v.values()) for k2, v2 in v.items()}\n",
    "    for k, v in transitions.items()\n",
    "}\n",
    "\n",
    "# Inspect the transition probabilities\n",
    "for event, probs in transition_probabilities.items():\n",
    "    print(f\"{event}: {probs}\")"
   ]
  },
  {
   "cell_type": "code",
   "execution_count": null,
   "metadata": {},
   "outputs": [],
   "source": [
    "import matplotlib.pyplot as plt\n",
    "import networkx as nx\n",
    "\n",
    "# Create a directed graph\n",
    "G = nx.DiGraph()\n",
    "\n",
    "# Add nodes and edges with probabilities\n",
    "for event, probs in transition_probabilities.items():\n",
    "    for next_event, prob in probs.items():\n",
    "        G.add_edge(event, next_event, weight=prob)\n",
    "\n",
    "# Draw the graph\n",
    "pos = nx.spring_layout(G)  # Layout for better visualization\n",
    "edges = G.edges(data=True)\n",
    "weights = [d[\"weight\"] for (u, v, d) in edges]\n",
    "\n",
    "plt.figure(figsize=(12, 8))\n",
    "nx.draw(\n",
    "    G,\n",
    "    pos,\n",
    "    with_labels=True,\n",
    "    node_size=3000,\n",
    "    node_color=\"lightblue\",\n",
    "    font_size=10,\n",
    "    font_weight=\"bold\",\n",
    "    edge_color=weights,\n",
    "    edge_cmap=plt.cm.Blues,\n",
    ")\n",
    "edge_labels = nx.get_edge_attributes(G, \"weight\")\n",
    "nx.draw_networkx_edge_labels(\n",
    "    G, pos, edge_labels={(u, v): f\"{d['weight']:.2f}\" for u, v, d in edges}\n",
    ")\n",
    "\n",
    "plt.title(\"Process Overview and Transition Probabilities\")\n",
    "plt.show()"
   ]
  },
  {
   "cell_type": "code",
   "execution_count": null,
   "metadata": {},
   "outputs": [],
   "source": []
  }
 ],
 "metadata": {
  "kernelspec": {
   "display_name": ".venv",
   "language": "python",
   "name": "python3"
  },
  "language_info": {
   "codemirror_mode": {
    "name": "ipython",
    "version": 3
   },
   "file_extension": ".py",
   "mimetype": "text/x-python",
   "name": "python",
   "nbconvert_exporter": "python",
   "pygments_lexer": "ipython3",
   "version": "3.11.8"
  }
 },
 "nbformat": 4,
 "nbformat_minor": 2
}
