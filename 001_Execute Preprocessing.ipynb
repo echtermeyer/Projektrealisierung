{
 "cells": [
  {
   "cell_type": "code",
   "execution_count": 1,
   "metadata": {},
   "outputs": [
    {
     "name": "stdout",
     "output_type": "stream",
     "text": [
      "c:\\Users\\david\\Desktop\\Main\\03_Uni\\WWI21DSA\\02_Vorlesungen\\06_Projektrealisierung\n"
     ]
    }
   ],
   "source": [
    "# Required for importing modules from parent directory\n",
    "import os\n",
    "import sys\n",
    "\n",
    "current_dir = os.path.dirname(os.path.abspath(\"__file__\"))\n",
    "parent_dir = os.path.dirname(current_dir)\n",
    "print(parent_dir)\n",
    "sys.path.append(parent_dir)"
   ]
  },
  {
   "cell_type": "code",
   "execution_count": 4,
   "metadata": {},
   "outputs": [],
   "source": [
    "from src.loader import TripLoader  # move notebook to top level of dir for it to work\n",
    "\n",
    "trip_loader = TripLoader()"
   ]
  },
  {
   "cell_type": "code",
   "execution_count": 5,
   "metadata": {},
   "outputs": [
    {
     "name": "stdout",
     "output_type": "stream",
     "text": [
      "###############\n",
      "Cleaning CSV file (this might take a while)...\n"
     ]
    },
    {
     "name": "stderr",
     "output_type": "stream",
     "text": [
      "Processing rows: 709613it [00:31, 22509.29it/s]\n",
      "Processing UpdateFuelDataAction (received): 100%|██████████| 16/16 [16:56<00:00, 63.55s/it]    \n"
     ]
    },
    {
     "name": "stdout",
     "output_type": "stream",
     "text": [
      "###############\n",
      "Cleaning CSV file (this might take a while)...\n"
     ]
    },
    {
     "name": "stderr",
     "output_type": "stream",
     "text": [
      "Processing rows: 1108961it [01:00, 18289.36it/s]\n",
      "Processing UpdateFuelDataAction (received): 100%|██████████| 16/16 [33:01<00:00, 123.82s/it]   \n"
     ]
    },
    {
     "name": "stdout",
     "output_type": "stream",
     "text": [
      "###############\n",
      "Cleaning CSV file (this might take a while)...\n"
     ]
    },
    {
     "name": "stderr",
     "output_type": "stream",
     "text": [
      "Processing rows: 429759it [00:15, 26910.81it/s]\n",
      "Processing UpdateFuelDataAction (received): 100%|██████████| 16/16 [12:03<00:00, 45.19s/it]    \n"
     ]
    }
   ],
   "source": [
    "trips_data = trip_loader.trips_ABCD\n",
    "trips_data = trip_loader.trips_MNOP\n",
    "trips_data = trip_loader.trips_ZYXW"
   ]
  }
 ],
 "metadata": {
  "kernelspec": {
   "display_name": ".venv",
   "language": "python",
   "name": "python3"
  },
  "language_info": {
   "codemirror_mode": {
    "name": "ipython",
    "version": 3
   },
   "file_extension": ".py",
   "mimetype": "text/x-python",
   "name": "python",
   "nbconvert_exporter": "python",
   "pygments_lexer": "ipython3",
   "version": "3.10.11"
  }
 },
 "nbformat": 4,
 "nbformat_minor": 2
}
