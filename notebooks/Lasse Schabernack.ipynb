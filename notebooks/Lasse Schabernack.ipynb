{
 "cells": [
  {
   "cell_type": "code",
   "execution_count": 1,
   "metadata": {},
   "outputs": [
    {
     "name": "stdout",
     "output_type": "stream",
     "text": [
      "c:\\Users\\I551674\\Desktop\\6. Semester\\Projektrealisierung\n"
     ]
    }
   ],
   "source": [
    "# Required for importing modules from parent directory\n",
    "import os\n",
    "import sys\n",
    "\n",
    "current_dir = os.path.dirname(os.path.abspath(\"__file__\"))\n",
    "parent_dir = os.path.dirname(current_dir)\n",
    "print(parent_dir)\n",
    "sys.path.append(parent_dir)"
   ]
  },
  {
   "cell_type": "code",
   "execution_count": 2,
   "metadata": {},
   "outputs": [],
   "source": [
    "from pathlib import Path\n",
    "import pandas as pd\n",
    "\n",
    "from src.loader import TripLoader\n",
    "\n",
    "pd.set_option(\"display.max_rows\", None)\n",
    "pd.set_option(\"display.max_columns\", None)\n",
    "pd.set_option(\"display.max_colwidth\", None)"
   ]
  },
  {
   "cell_type": "code",
   "execution_count": 3,
   "metadata": {},
   "outputs": [],
   "source": [
    "trip_loader = TripLoader(fix_csv_errors=False)\n",
    "trips_data = [trip_loader.trips_ABCD, trip_loader.trips_MNOP, trip_loader.trips_ZYXW]\n",
    "combined_trips = pd.concat(trips_data, ignore_index=True)"
   ]
  },
  {
   "cell_type": "code",
   "execution_count": null,
   "metadata": {},
   "outputs": [],
   "source": [
    "combined_trips = combined_trips.drop(columns=[\"entry_details\", \"header_line\"])\n",
    "combined_trips.head()"
   ]
  },
  {
   "cell_type": "code",
   "execution_count": 7,
   "metadata": {},
   "outputs": [
    {
     "data": {
      "text/html": [
       "<div>\n",
       "<style scoped>\n",
       "    .dataframe tbody tr th:only-of-type {\n",
       "        vertical-align: middle;\n",
       "    }\n",
       "\n",
       "    .dataframe tbody tr th {\n",
       "        vertical-align: top;\n",
       "    }\n",
       "\n",
       "    .dataframe thead th {\n",
       "        text-align: right;\n",
       "    }\n",
       "</style>\n",
       "<table border=\"1\" class=\"dataframe\">\n",
       "  <thead>\n",
       "    <tr style=\"text-align: right;\">\n",
       "      <th></th>\n",
       "      <th>id</th>\n",
       "      <th>creation_time</th>\n",
       "      <th>airline_code</th>\n",
       "      <th>flight_number</th>\n",
       "      <th>flight_date</th>\n",
       "      <th>departure_airport</th>\n",
       "      <th>user_name</th>\n",
       "      <th>action_name</th>\n",
       "      <th>header_line</th>\n",
       "      <th>entry_details</th>\n",
       "      <th>header_category</th>\n",
       "      <th>header_id</th>\n",
       "    </tr>\n",
       "  </thead>\n",
       "  <tbody>\n",
       "    <tr>\n",
       "      <th>4</th>\n",
       "      <td>33902706</td>\n",
       "      <td>2024-05-01 09:14:41</td>\n",
       "      <td>AB</td>\n",
       "      <td>2127</td>\n",
       "      <td>2</td>\n",
       "      <td>BOM</td>\n",
       "      <td>service-acco</td>\n",
       "      <td>ASMMsgProcessor</td>\n",
       "      <td>2024-05-01 09:14:41,884 INFO  [829566f527b588fa] [AB2127 /02 BOM | service-acco | ASMMsgProcessor                     |                                | Thread-49765 (ActiveMQ-client-global-threads)]  Received:</td>\n",
       "      <td>&lt;?xml version=\"1.0\" encoding=\"UTF-8\"?&gt;\\r\\n&lt;ns2:OSSChangeMessage xmlns:ns2=\"http://www.onesystem.com/iocc/oss/notification/OssChangeMessage-1.3.0\"&gt;\\r\\n   &lt;changeDescriptor&gt;\\r\\n      &lt;changeDetail&gt;\\r\\n         &lt;changeLocation&gt;/OSSChangeMessage/newFlight/leg[1]/aircraftRegistration&lt;/changeLocation&gt;\\r\\n         &lt;changeDescription&gt;\\r\\n            &lt;actionCode&gt;EQT&lt;/actionCode&gt;\\r\\n         &lt;/changeDescription&gt;\\r\\n      &lt;/changeDetail&gt;\\r\\n      &lt;changeDetail&gt;\\r\\n         &lt;changeLocation&gt;/OSSChangeMessage/newFlight/leg[1]/aircraftSubtype&lt;/changeLocation&gt;\\r\\n         &lt;changeDescription&gt;\\r\\n            &lt;actionCode&gt;EQT&lt;/actionCode&gt;\\r\\n         &lt;/changeDescription&gt;\\r\\n      &lt;/changeDetail&gt;\\r\\n   &lt;/changeDescriptor&gt;\\r\\n   &lt;oldFlight&gt;\\r\\n      &lt;identity&gt;\\r\\n         &lt;carrier&gt;AB&lt;/carrier&gt;\\r\\n         &lt;dayOfOrigin&gt;2024-05-02Z&lt;/dayOfOrigin&gt;\\r\\n         &lt;number&gt;2127&lt;/number&gt;\\r\\n         &lt;id&gt;49800&lt;/id&gt;\\r\\n         &lt;version&gt;9&lt;/version&gt;\\r\\n      &lt;/identity&gt;\\r\\n      &lt;leg&gt;\\r\\n         &lt;scheduleState&gt;SKD&lt;/scheduleState&gt;\\r\\n         &lt;departureAirport&gt;BOM&lt;/departureAirport&gt;\\r\\n         &lt;departureTime&gt;2024-05-02T07:35:00.000Z&lt;/departureTime&gt;\\r\\n         &lt;arrivalAirport&gt;DEL&lt;/arrivalAirport&gt;\\r\\n         &lt;arrivalTime&gt;2024-05-02T09:45:00.000Z&lt;/arrivalTime&gt;\\r\\n         &lt;aircraftRegistration&gt;ABCAD&lt;/aircraftRegistration&gt;\\r\\n         &lt;aircraftSubtype&gt;7MA&lt;/aircraftSubtype&gt;\\r\\n         &lt;aircraftVersion&gt;Y189&lt;/aircraftVersion&gt;\\r\\n         &lt;serviceType&gt;J&lt;/serviceType&gt;\\r\\n         &lt;nonOperational&gt;false&lt;/nonOperational&gt;\\r\\n         &lt;flifoCancel&gt;false&lt;/flifoCancel&gt;\\r\\n         &lt;sequenceNumber&gt;1&lt;/sequenceNumber&gt;\\r\\n         &lt;id&gt;104199&lt;/id&gt;\\r\\n      &lt;/leg&gt;\\r\\n   &lt;/oldFlight&gt;\\r\\n   &lt;newFlight&gt;\\r\\n      &lt;identity&gt;\\r\\n         &lt;carrier&gt;AB&lt;/carrier&gt;\\r\\n         &lt;dayOfOrigin&gt;2024-05-02Z&lt;/dayOfOrigin&gt;\\r\\n         &lt;number&gt;2127&lt;/number&gt;\\r\\n         &lt;id&gt;49800&lt;/id&gt;\\r\\n         &lt;version&gt;10&lt;/version&gt;\\r\\n      &lt;/identity&gt;\\r\\n      &lt;leg&gt;\\r\\n         &lt;scheduleState&gt;SKD&lt;/scheduleState&gt;\\r\\n         &lt;departureAirport&gt;BOM&lt;/departureAirport&gt;\\r\\n         &lt;departureTime&gt;2024-05-02T07:35:00.000Z&lt;/departureTime&gt;\\r\\n         &lt;arrivalAirport&gt;DEL&lt;/arrivalAirport&gt;\\r\\n         &lt;arrivalTime&gt;2024-05-02T09:45:00.000Z&lt;/arrivalTime&gt;\\r\\n         &lt;aircraftRegistration&gt;ABCAM&lt;/aircraftRegistration&gt;\\r\\n         &lt;aircraftSubtype&gt;7AL&lt;/aircraftSubtype&gt;\\r\\n         &lt;aircraftVersion&gt;Y189&lt;/aircraftVersion&gt;\\r\\n         &lt;serviceType&gt;J&lt;/serviceType&gt;\\r\\n         &lt;nonOperational&gt;false&lt;/nonOperational&gt;\\r\\n         &lt;flifoCancel&gt;false&lt;/flifoCancel&gt;\\r\\n         &lt;sequenceNumber&gt;1&lt;/sequenceNumber&gt;\\r\\n         &lt;id&gt;104199&lt;/id&gt;\\r\\n      &lt;/leg&gt;\\r\\n   &lt;/newFlight&gt;\\r\\n&lt;/ns2:OSSChangeMessage&gt;</td>\n",
       "      <td>received</td>\n",
       "      <td>829566f527b588fa</td>\n",
       "    </tr>\n",
       "    <tr>\n",
       "      <th>285</th>\n",
       "      <td>33846055</td>\n",
       "      <td>2024-04-30 22:14:14</td>\n",
       "      <td>AB</td>\n",
       "      <td>2127</td>\n",
       "      <td>2</td>\n",
       "      <td>BOM</td>\n",
       "      <td>service-acco</td>\n",
       "      <td>ASMMsgProcessor</td>\n",
       "      <td>2024-04-30 22:14:14,006 INFO  [15f006af1588e82b] [AB2127 /02 BOM | service-acco | ASMMsgProcessor                     |                                | Thread-49452 (ActiveMQ-client-global-threads)]  Received:</td>\n",
       "      <td>&lt;?xml version=\"1.0\" encoding=\"UTF-8\"?&gt;\\r\\n&lt;ns2:OSSChangeMessage xmlns:ns2=\"http://www.onesystem.com/iocc/oss/notification/OssChangeMessage-1.3.0\"&gt;\\r\\n   &lt;changeDescriptor&gt;\\r\\n      &lt;changeDetail&gt;\\r\\n         &lt;changeLocation&gt;/OSSChangeMessage/newFlight/leg[1]/aircraftRegistration&lt;/changeLocation&gt;\\r\\n         &lt;changeDescription&gt;\\r\\n            &lt;actionCode&gt;EQT&lt;/actionCode&gt;\\r\\n         &lt;/changeDescription&gt;\\r\\n      &lt;/changeDetail&gt;\\r\\n   &lt;/changeDescriptor&gt;\\r\\n   &lt;oldFlight&gt;\\r\\n      &lt;identity&gt;\\r\\n         &lt;carrier&gt;AB&lt;/carrier&gt;\\r\\n         &lt;dayOfOrigin&gt;2024-05-02Z&lt;/dayOfOrigin&gt;\\r\\n         &lt;number&gt;2127&lt;/number&gt;\\r\\n         &lt;id&gt;49800&lt;/id&gt;\\r\\n         &lt;version&gt;8&lt;/version&gt;\\r\\n      &lt;/identity&gt;\\r\\n      &lt;leg&gt;\\r\\n         &lt;scheduleState&gt;SKD&lt;/scheduleState&gt;\\r\\n         &lt;departureAirport&gt;BOM&lt;/departureAirport&gt;\\r\\n         &lt;departureTime&gt;2024-05-02T07:35:00.000Z&lt;/departureTime&gt;\\r\\n         &lt;arrivalAirport&gt;DEL&lt;/arrivalAirport&gt;\\r\\n         &lt;arrivalTime&gt;2024-05-02T09:45:00.000Z&lt;/arrivalTime&gt;\\r\\n         &lt;aircraftRegistration&gt;ABCAG&lt;/aircraftRegistration&gt;\\r\\n         &lt;aircraftSubtype&gt;7MA&lt;/aircraftSubtype&gt;\\r\\n         &lt;aircraftVersion&gt;Y189&lt;/aircraftVersion&gt;\\r\\n         &lt;serviceType&gt;J&lt;/serviceType&gt;\\r\\n         &lt;nonOperational&gt;false&lt;/nonOperational&gt;\\r\\n         &lt;flifoCancel&gt;false&lt;/flifoCancel&gt;\\r\\n         &lt;sequenceNumber&gt;1&lt;/sequenceNumber&gt;\\r\\n         &lt;id&gt;104199&lt;/id&gt;\\r\\n      &lt;/leg&gt;\\r\\n   &lt;/oldFlight&gt;\\r\\n   &lt;newFlight&gt;\\r\\n      &lt;identity&gt;\\r\\n         &lt;carrier&gt;AB&lt;/carrier&gt;\\r\\n         &lt;dayOfOrigin&gt;2024-05-02Z&lt;/dayOfOrigin&gt;\\r\\n         &lt;number&gt;2127&lt;/number&gt;\\r\\n         &lt;id&gt;49800&lt;/id&gt;\\r\\n         &lt;version&gt;9&lt;/version&gt;\\r\\n      &lt;/identity&gt;\\r\\n      &lt;leg&gt;\\r\\n         &lt;scheduleState&gt;SKD&lt;/scheduleState&gt;\\r\\n         &lt;departureAirport&gt;BOM&lt;/departureAirport&gt;\\r\\n         &lt;departureTime&gt;2024-05-02T07:35:00.000Z&lt;/departureTime&gt;\\r\\n         &lt;arrivalAirport&gt;DEL&lt;/arrivalAirport&gt;\\r\\n         &lt;arrivalTime&gt;2024-05-02T09:45:00.000Z&lt;/arrivalTime&gt;\\r\\n         &lt;aircraftRegistration&gt;ABCAD&lt;/aircraftRegistration&gt;\\r\\n         &lt;aircraftSubtype&gt;7MA&lt;/aircraftSubtype&gt;\\r\\n         &lt;aircraftVersion&gt;Y189&lt;/aircraftVersion&gt;\\r\\n         &lt;serviceType&gt;J&lt;/serviceType&gt;\\r\\n         &lt;nonOperational&gt;false&lt;/nonOperational&gt;\\r\\n         &lt;flifoCancel&gt;false&lt;/flifoCancel&gt;\\r\\n         &lt;sequenceNumber&gt;1&lt;/sequenceNumber&gt;\\r\\n         &lt;id&gt;104199&lt;/id&gt;\\r\\n      &lt;/leg&gt;\\r\\n   &lt;/newFlight&gt;\\r\\n&lt;/ns2:OSSChangeMessage&gt;</td>\n",
       "      <td>received</td>\n",
       "      <td>15f006af1588e82b</td>\n",
       "    </tr>\n",
       "    <tr>\n",
       "      <th>3874</th>\n",
       "      <td>33990350</td>\n",
       "      <td>2024-05-02 08:01:50</td>\n",
       "      <td>AB</td>\n",
       "      <td>2127</td>\n",
       "      <td>2</td>\n",
       "      <td>BOM</td>\n",
       "      <td>service-acco</td>\n",
       "      <td>ASMMsgProcessor</td>\n",
       "      <td>2024-05-02 08:01:50,890 INFO  [fd962196909664d8] [AB2127 /02 BOM | service-acco | ASMMsgProcessor                     |                                | Thread-50320 (ActiveMQ-client-global-threads)]  Received:</td>\n",
       "      <td>&lt;?xml version=\"1.0\" encoding=\"UTF-8\"?&gt;\\r\\n&lt;ns2:OSSChangeMessage xmlns:ns2=\"http://www.onesystem.com/iocc/oss/notification/OssChangeMessage-1.3.0\"&gt;\\r\\n   &lt;changeDescriptor&gt;\\r\\n      &lt;changeDetail&gt;\\r\\n         &lt;changeLocation&gt;/OSSChangeMessage/newFlight/leg[1]/mvtActual[1]/actualState&lt;/changeLocation&gt;\\r\\n         &lt;changeLocation&gt;/OSSChangeMessage/newFlight/leg[1]/mvtActual[1]/airborneTime&lt;/changeLocation&gt;\\r\\n         &lt;changeLocation&gt;/OSSChangeMessage/newFlight/leg[1]/mvtActual[1]/landingTime&lt;/changeLocation&gt;\\r\\n         &lt;changeLocation&gt;/OSSChangeMessage/newFlight/leg[1]/mvtActual[1]/onblockTime&lt;/changeLocation&gt;\\r\\n         &lt;changeDescription&gt;\\r\\n            &lt;movementState&gt;AIRBORNE&lt;/movementState&gt;\\r\\n         &lt;/changeDescription&gt;\\r\\n      &lt;/changeDetail&gt;\\r\\n   &lt;/changeDescriptor&gt;\\r\\n   &lt;oldFlight&gt;\\r\\n      &lt;identity&gt;\\r\\n         &lt;carrier&gt;AB&lt;/carrier&gt;\\r\\n         &lt;dayOfOrigin&gt;2024-05-02Z&lt;/dayOfOrigin&gt;\\r\\n         &lt;number&gt;2127&lt;/number&gt;\\r\\n         &lt;id&gt;49800&lt;/id&gt;\\r\\n         &lt;version&gt;15&lt;/version&gt;\\r\\n      &lt;/identity&gt;\\r\\n      &lt;leg&gt;\\r\\n         &lt;scheduleState&gt;SKD&lt;/scheduleState&gt;\\r\\n         &lt;departureAirport&gt;BOM&lt;/departureAirport&gt;\\r\\n         &lt;departureTime&gt;2024-05-02T07:35:00.000Z&lt;/departureTime&gt;\\r\\n         &lt;arrivalAirport&gt;DEL&lt;/arrivalAirport&gt;\\r\\n         &lt;arrivalTime&gt;2024-05-02T09:45:00.000Z&lt;/arrivalTime&gt;\\r\\n         &lt;aircraftRegistration&gt;ABCAM&lt;/aircraftRegistration&gt;\\r\\n         &lt;aircraftSubtype&gt;7AL&lt;/aircraftSubtype&gt;\\r\\n         &lt;aircraftVersion&gt;Y189&lt;/aircraftVersion&gt;\\r\\n         &lt;serviceType&gt;J&lt;/serviceType&gt;\\r\\n         &lt;nonOperational&gt;false&lt;/nonOperational&gt;\\r\\n         &lt;flifoCancel&gt;false&lt;/flifoCancel&gt;\\r\\n         &lt;sequenceNumber&gt;1&lt;/sequenceNumber&gt;\\r\\n         &lt;id&gt;104199&lt;/id&gt;\\r\\n         &lt;mvtActual&gt;\\r\\n            &lt;actualNumber&gt;1&lt;/actualNumber&gt;\\r\\n            &lt;actualState&gt;OFF_BLOCK&lt;/actualState&gt;\\r\\n            &lt;offblockTime&gt;2024-05-02T07:34:00.000Z&lt;/offblockTime&gt;\\r\\n            &lt;landingTime&gt;2024-05-02T09:46:00.000Z&lt;/landingTime&gt;\\r\\n            &lt;onblockTime&gt;2024-05-02T09:56:00.000Z&lt;/onblockTime&gt;\\r\\n            &lt;arrivalAirport&gt;DEL&lt;/arrivalAirport&gt;\\r\\n            &lt;id&gt;107642&lt;/id&gt;\\r\\n         &lt;/mvtActual&gt;\\r\\n      &lt;/leg&gt;\\r\\n   &lt;/oldFlight&gt;\\r\\n   &lt;newFlight&gt;\\r\\n      &lt;identity&gt;\\r\\n         &lt;carrier&gt;AB&lt;/carrier&gt;\\r\\n         &lt;dayOfOrigin&gt;2024-05-02Z&lt;/dayOfOrigin&gt;\\r\\n         &lt;number&gt;2127&lt;/number&gt;\\r\\n         &lt;id&gt;49800&lt;/id&gt;\\r\\n         &lt;version&gt;16&lt;/version&gt;\\r\\n      &lt;/identity&gt;\\r\\n      &lt;leg&gt;\\r\\n         &lt;scheduleState&gt;SKD&lt;/scheduleState&gt;\\r\\n         &lt;departureAirport&gt;BOM&lt;/departureAirport&gt;\\r\\n         &lt;departureTime&gt;2024-05-02T07:35:00.000Z&lt;/departureTime&gt;\\r\\n         &lt;arrivalAirport&gt;DEL&lt;/arrivalAirport&gt;\\r\\n         &lt;arrivalTime&gt;2024-05-02T09:45:00.000Z&lt;/arrivalTime&gt;\\r\\n         &lt;aircraftRegistration&gt;ABCAM&lt;/aircraftRegistration&gt;\\r\\n         &lt;aircraftSubtype&gt;7AL&lt;/aircraftSubtype&gt;\\r\\n         &lt;aircraftVersion&gt;Y189&lt;/aircraftVersion&gt;\\r\\n         &lt;serviceType&gt;J&lt;/serviceType&gt;\\r\\n         &lt;nonOperational&gt;false&lt;/nonOperational&gt;\\r\\n         &lt;flifoCancel&gt;false&lt;/flifoCancel&gt;\\r\\n         &lt;bestTimes&gt;\\r\\n            &lt;offblockTime&gt;\\r\\n               &lt;timeSource&gt;M&lt;/timeSource&gt;\\r\\n               &lt;timeSource&gt;S&lt;/timeSource&gt;\\r\\n               &lt;time&gt;2024-05-02T07:34:00.000Z&lt;/time&gt;\\r\\n            &lt;/offblockTime&gt;\\r\\n            &lt;airborneTime&gt;\\r\\n               &lt;timeSource&gt;M&lt;/timeSource&gt;\\r\\n               &lt;timeSource&gt;E&lt;/timeSource&gt;\\r\\n               &lt;time&gt;2024-05-02T09:42:00.000Z&lt;/time&gt;\\r\\n            &lt;/airborneTime&gt;\\r\\n            &lt;onblockTime&gt;\\r\\n               &lt;timeSource&gt;M&lt;/timeSource&gt;\\r\\n               &lt;timeSource&gt;E&lt;/timeSource&gt;\\r\\n               &lt;time&gt;2024-05-02T09:52:00.000Z&lt;/time&gt;\\r\\n            &lt;/onblockTime&gt;\\r\\n         &lt;/bestTimes&gt;\\r\\n         &lt;sequenceNumber&gt;1&lt;/sequenceNumber&gt;\\r\\n         &lt;id&gt;104199&lt;/id&gt;\\r\\n         &lt;mvtActual&gt;\\r\\n            &lt;actualNumber&gt;1&lt;/actualNumber&gt;\\r\\n            &lt;actualState&gt;AIRBORNE&lt;/actualState&gt;\\r\\n            &lt;offblockTime&gt;2024-05-02T07:34:00.000Z&lt;/offblockTime&gt;\\r\\n            &lt;airborneTime&gt;2024-05-02T08:00:00.000Z&lt;/airborneTime&gt;\\r\\n            &lt;landingTime&gt;2024-05-02T09:42:00.000Z&lt;/landingTime&gt;\\r\\n            &lt;onblockTime&gt;2024-05-02T09:52:00.000Z&lt;/onblockTime&gt;\\r\\n            &lt;arrivalAirport&gt;DEL&lt;/arrivalAirport&gt;\\r\\n            &lt;id&gt;107642&lt;/id&gt;\\r\\n         &lt;/mvtActual&gt;\\r\\n      &lt;/leg&gt;\\r\\n   &lt;/newFlight&gt;\\r\\n&lt;/ns2:OSSChangeMessage&gt;</td>\n",
       "      <td>received</td>\n",
       "      <td>fd962196909664d8</td>\n",
       "    </tr>\n",
       "    <tr>\n",
       "      <th>4770</th>\n",
       "      <td>33946948</td>\n",
       "      <td>2024-05-01 23:36:13</td>\n",
       "      <td>AB</td>\n",
       "      <td>2127</td>\n",
       "      <td>2</td>\n",
       "      <td>BOM</td>\n",
       "      <td>service-acco</td>\n",
       "      <td>ASMMsgProcessor</td>\n",
       "      <td>2024-05-01 23:36:13,364 INFO  [3cb4f40e7728d87b] [AB2127 /02 BOM | service-acco | ASMMsgProcessor                     |                                | Thread-50161 (ActiveMQ-client-global-threads)]  Received:</td>\n",
       "      <td>&lt;?xml version=\"1.0\" encoding=\"UTF-8\"?&gt;\\r\\n&lt;ns2:OSSChangeMessage xmlns:ns2=\"http://www.onesystem.com/iocc/oss/notification/OssChangeMessage-1.3.0\"&gt;\\r\\n   &lt;changeDescriptor&gt;\\r\\n      &lt;changeDetail&gt;\\r\\n         &lt;changeLocation&gt;/OSSChangeMessage/newFlight/leg[1]/mvtActual[1]/actualState&lt;/changeLocation&gt;\\r\\n         &lt;changeLocation&gt;/OSSChangeMessage/newFlight/leg[1]/mvtActual[1]/landingTime&lt;/changeLocation&gt;\\r\\n         &lt;changeLocation&gt;/OSSChangeMessage/newFlight/leg[1]/mvtActual[1]/arrivalAirport&lt;/changeLocation&gt;\\r\\n         &lt;changeDescription&gt;\\r\\n            &lt;movementState&gt;ESTIMATED_DEPARTURE&lt;/movementState&gt;\\r\\n         &lt;/changeDescription&gt;\\r\\n      &lt;/changeDetail&gt;\\r\\n   &lt;/changeDescriptor&gt;\\r\\n   &lt;oldFlight&gt;\\r\\n      &lt;identity&gt;\\r\\n         &lt;carrier&gt;AB&lt;/carrier&gt;\\r\\n         &lt;dayOfOrigin&gt;2024-05-02Z&lt;/dayOfOrigin&gt;\\r\\n         &lt;number&gt;2127&lt;/number&gt;\\r\\n         &lt;id&gt;49800&lt;/id&gt;\\r\\n         &lt;version&gt;10&lt;/version&gt;\\r\\n      &lt;/identity&gt;\\r\\n      &lt;leg&gt;\\r\\n         &lt;scheduleState&gt;SKD&lt;/scheduleState&gt;\\r\\n         &lt;departureAirport&gt;BOM&lt;/departureAirport&gt;\\r\\n         &lt;departureTime&gt;2024-05-02T07:35:00.000Z&lt;/departureTime&gt;\\r\\n         &lt;arrivalAirport&gt;DEL&lt;/arrivalAirport&gt;\\r\\n         &lt;arrivalTime&gt;2024-05-02T09:45:00.000Z&lt;/arrivalTime&gt;\\r\\n         &lt;aircraftRegistration&gt;ABCAM&lt;/aircraftRegistration&gt;\\r\\n         &lt;aircraftSubtype&gt;7AL&lt;/aircraftSubtype&gt;\\r\\n         &lt;aircraftVersion&gt;Y189&lt;/aircraftVersion&gt;\\r\\n         &lt;serviceType&gt;J&lt;/serviceType&gt;\\r\\n         &lt;nonOperational&gt;false&lt;/nonOperational&gt;\\r\\n         &lt;flifoCancel&gt;false&lt;/flifoCancel&gt;\\r\\n         &lt;sequenceNumber&gt;1&lt;/sequenceNumber&gt;\\r\\n         &lt;id&gt;104199&lt;/id&gt;\\r\\n      &lt;/leg&gt;\\r\\n   &lt;/oldFlight&gt;\\r\\n   &lt;newFlight&gt;\\r\\n      &lt;identity&gt;\\r\\n         &lt;carrier&gt;AB&lt;/carrier&gt;\\r\\n         &lt;dayOfOrigin&gt;2024-05-02Z&lt;/dayOfOrigin&gt;\\r\\n         &lt;number&gt;2127&lt;/number&gt;\\r\\n         &lt;id&gt;49800&lt;/id&gt;\\r\\n         &lt;version&gt;11&lt;/version&gt;\\r\\n      &lt;/identity&gt;\\r\\n      &lt;leg&gt;\\r\\n         &lt;scheduleState&gt;SKD&lt;/scheduleState&gt;\\r\\n         &lt;departureAirport&gt;BOM&lt;/departureAirport&gt;\\r\\n         &lt;departureTime&gt;2024-05-02T07:35:00.000Z&lt;/departureTime&gt;\\r\\n         &lt;arrivalAirport&gt;DEL&lt;/arrivalAirport&gt;\\r\\n         &lt;arrivalTime&gt;2024-05-02T09:45:00.000Z&lt;/arrivalTime&gt;\\r\\n         &lt;aircraftRegistration&gt;ABCAM&lt;/aircraftRegistration&gt;\\r\\n         &lt;aircraftSubtype&gt;7AL&lt;/aircraftSubtype&gt;\\r\\n         &lt;aircraftVersion&gt;Y189&lt;/aircraftVersion&gt;\\r\\n         &lt;serviceType&gt;J&lt;/serviceType&gt;\\r\\n         &lt;nonOperational&gt;false&lt;/nonOperational&gt;\\r\\n         &lt;flifoCancel&gt;false&lt;/flifoCancel&gt;\\r\\n         &lt;bestTimes&gt;\\r\\n            &lt;airborneTime&gt;\\r\\n               &lt;timeSource&gt;M&lt;/timeSource&gt;\\r\\n               &lt;timeSource&gt;E&lt;/timeSource&gt;\\r\\n               &lt;time&gt;2024-05-02T09:46:00.000Z&lt;/time&gt;\\r\\n            &lt;/airborneTime&gt;\\r\\n         &lt;/bestTimes&gt;\\r\\n         &lt;sequenceNumber&gt;1&lt;/sequenceNumber&gt;\\r\\n         &lt;id&gt;104199&lt;/id&gt;\\r\\n         &lt;mvtActual&gt;\\r\\n            &lt;actualNumber&gt;1&lt;/actualNumber&gt;\\r\\n            &lt;actualState&gt;ESTIMATED_DEPARTURE&lt;/actualState&gt;\\r\\n            &lt;landingTime&gt;2024-05-02T09:46:00.000Z&lt;/landingTime&gt;\\r\\n            &lt;arrivalAirport&gt;DEL&lt;/arrivalAirport&gt;\\r\\n            &lt;id&gt;0&lt;/id&gt;\\r\\n         &lt;/mvtActual&gt;\\r\\n      &lt;/leg&gt;\\r\\n   &lt;/newFlight&gt;\\r\\n&lt;/ns2:OSSChangeMessage&gt;</td>\n",
       "      <td>received</td>\n",
       "      <td>3cb4f40e7728d87b</td>\n",
       "    </tr>\n",
       "    <tr>\n",
       "      <th>5658</th>\n",
       "      <td>33999332</td>\n",
       "      <td>2024-05-02 09:45:23</td>\n",
       "      <td>AB</td>\n",
       "      <td>2127</td>\n",
       "      <td>2</td>\n",
       "      <td>BOM</td>\n",
       "      <td>service-acco</td>\n",
       "      <td>ASMMsgProcessor</td>\n",
       "      <td>2024-05-02 09:45:23,225 INFO  [cfe5c7aff039f5d0] [AB2127 /02 BOM | service-acco | ASMMsgProcessor                     |                                | Thread-50384 (ActiveMQ-client-global-threads)]  Received:</td>\n",
       "      <td>&lt;?xml version=\"1.0\" encoding=\"UTF-8\"?&gt;\\r\\n&lt;ns2:OSSChangeMessage xmlns:ns2=\"http://www.onesystem.com/iocc/oss/notification/OssChangeMessage-1.3.0\"&gt;\\r\\n   &lt;changeDescriptor&gt;\\r\\n      &lt;changeDetail&gt;\\r\\n         &lt;changeLocation&gt;/OSSChangeMessage/newFlight/leg[1]/mvtActual[1]/actualState&lt;/changeLocation&gt;\\r\\n         &lt;changeLocation&gt;/OSSChangeMessage/newFlight/leg[1]/mvtActual[1]/landingTime&lt;/changeLocation&gt;\\r\\n         &lt;changeLocation&gt;/OSSChangeMessage/newFlight/leg[1]/mvtActual[1]/onblockTime&lt;/changeLocation&gt;\\r\\n         &lt;changeDescription&gt;\\r\\n            &lt;movementState&gt;LANDED&lt;/movementState&gt;\\r\\n         &lt;/changeDescription&gt;\\r\\n      &lt;/changeDetail&gt;\\r\\n   &lt;/changeDescriptor&gt;\\r\\n   &lt;oldFlight&gt;\\r\\n      &lt;identity&gt;\\r\\n         &lt;carrier&gt;AB&lt;/carrier&gt;\\r\\n         &lt;dayOfOrigin&gt;2024-05-02Z&lt;/dayOfOrigin&gt;\\r\\n         &lt;number&gt;2127&lt;/number&gt;\\r\\n         &lt;id&gt;49800&lt;/id&gt;\\r\\n         &lt;version&gt;16&lt;/version&gt;\\r\\n      &lt;/identity&gt;\\r\\n      &lt;leg&gt;\\r\\n         &lt;scheduleState&gt;SKD&lt;/scheduleState&gt;\\r\\n         &lt;departureAirport&gt;BOM&lt;/departureAirport&gt;\\r\\n         &lt;departureTime&gt;2024-05-02T07:35:00.000Z&lt;/departureTime&gt;\\r\\n         &lt;arrivalAirport&gt;DEL&lt;/arrivalAirport&gt;\\r\\n         &lt;arrivalTime&gt;2024-05-02T09:45:00.000Z&lt;/arrivalTime&gt;\\r\\n         &lt;aircraftRegistration&gt;ABCAM&lt;/aircraftRegistration&gt;\\r\\n         &lt;aircraftSubtype&gt;7AL&lt;/aircraftSubtype&gt;\\r\\n         &lt;aircraftVersion&gt;Y189&lt;/aircraftVersion&gt;\\r\\n         &lt;serviceType&gt;J&lt;/serviceType&gt;\\r\\n         &lt;nonOperational&gt;false&lt;/nonOperational&gt;\\r\\n         &lt;flifoCancel&gt;false&lt;/flifoCancel&gt;\\r\\n         &lt;sequenceNumber&gt;1&lt;/sequenceNumber&gt;\\r\\n         &lt;id&gt;104199&lt;/id&gt;\\r\\n         &lt;mvtActual&gt;\\r\\n            &lt;actualNumber&gt;1&lt;/actualNumber&gt;\\r\\n            &lt;actualState&gt;AIRBORNE&lt;/actualState&gt;\\r\\n            &lt;offblockTime&gt;2024-05-02T07:34:00.000Z&lt;/offblockTime&gt;\\r\\n            &lt;airborneTime&gt;2024-05-02T08:00:00.000Z&lt;/airborneTime&gt;\\r\\n            &lt;landingTime&gt;2024-05-02T09:42:00.000Z&lt;/landingTime&gt;\\r\\n            &lt;onblockTime&gt;2024-05-02T09:52:00.000Z&lt;/onblockTime&gt;\\r\\n            &lt;arrivalAirport&gt;DEL&lt;/arrivalAirport&gt;\\r\\n            &lt;id&gt;107642&lt;/id&gt;\\r\\n         &lt;/mvtActual&gt;\\r\\n      &lt;/leg&gt;\\r\\n   &lt;/oldFlight&gt;\\r\\n   &lt;newFlight&gt;\\r\\n      &lt;identity&gt;\\r\\n         &lt;carrier&gt;AB&lt;/carrier&gt;\\r\\n         &lt;dayOfOrigin&gt;2024-05-02Z&lt;/dayOfOrigin&gt;\\r\\n         &lt;number&gt;2127&lt;/number&gt;\\r\\n         &lt;id&gt;49800&lt;/id&gt;\\r\\n         &lt;version&gt;17&lt;/version&gt;\\r\\n      &lt;/identity&gt;\\r\\n      &lt;leg&gt;\\r\\n         &lt;scheduleState&gt;SKD&lt;/scheduleState&gt;\\r\\n         &lt;departureAirport&gt;BOM&lt;/departureAirport&gt;\\r\\n         &lt;departureTime&gt;2024-05-02T07:35:00.000Z&lt;/departureTime&gt;\\r\\n         &lt;arrivalAirport&gt;DEL&lt;/arrivalAirport&gt;\\r\\n         &lt;arrivalTime&gt;2024-05-02T09:45:00.000Z&lt;/arrivalTime&gt;\\r\\n         &lt;aircraftRegistration&gt;ABCAM&lt;/aircraftRegistration&gt;\\r\\n         &lt;aircraftSubtype&gt;7AL&lt;/aircraftSubtype&gt;\\r\\n         &lt;aircraftVersion&gt;Y189&lt;/aircraftVersion&gt;\\r\\n         &lt;serviceType&gt;J&lt;/serviceType&gt;\\r\\n         &lt;nonOperational&gt;false&lt;/nonOperational&gt;\\r\\n         &lt;flifoCancel&gt;false&lt;/flifoCancel&gt;\\r\\n         &lt;bestTimes&gt;\\r\\n            &lt;offblockTime&gt;\\r\\n               &lt;timeSource&gt;M&lt;/timeSource&gt;\\r\\n               &lt;timeSource&gt;S&lt;/timeSource&gt;\\r\\n               &lt;time&gt;2024-05-02T07:34:00.000Z&lt;/time&gt;\\r\\n            &lt;/offblockTime&gt;\\r\\n            &lt;airborneTime&gt;\\r\\n               &lt;timeSource&gt;M&lt;/timeSource&gt;\\r\\n               &lt;timeSource&gt;S&lt;/timeSource&gt;\\r\\n               &lt;time&gt;2024-05-02T09:41:00.000Z&lt;/time&gt;\\r\\n            &lt;/airborneTime&gt;\\r\\n         &lt;/bestTimes&gt;\\r\\n         &lt;sequenceNumber&gt;1&lt;/sequenceNumber&gt;\\r\\n         &lt;id&gt;104199&lt;/id&gt;\\r\\n         &lt;mvtActual&gt;\\r\\n            &lt;actualNumber&gt;1&lt;/actualNumber&gt;\\r\\n            &lt;actualState&gt;LANDED&lt;/actualState&gt;\\r\\n            &lt;offblockTime&gt;2024-05-02T07:34:00.000Z&lt;/offblockTime&gt;\\r\\n            &lt;airborneTime&gt;2024-05-02T08:00:00.000Z&lt;/airborneTime&gt;\\r\\n            &lt;landingTime&gt;2024-05-02T09:41:00.000Z&lt;/landingTime&gt;\\r\\n            &lt;arrivalAirport&gt;DEL&lt;/arrivalAirport&gt;\\r\\n            &lt;id&gt;107642&lt;/id&gt;\\r\\n         &lt;/mvtActual&gt;\\r\\n      &lt;/leg&gt;\\r\\n   &lt;/newFlight&gt;\\r\\n&lt;/ns2:OSSChangeMessage&gt;</td>\n",
       "      <td>received</td>\n",
       "      <td>cfe5c7aff039f5d0</td>\n",
       "    </tr>\n",
       "  </tbody>\n",
       "</table>\n",
       "</div>"
      ],
      "text/plain": [
       "            id        creation_time airline_code  flight_number  flight_date  \\\n",
       "4     33902706  2024-05-01 09:14:41           AB           2127            2   \n",
       "285   33846055  2024-04-30 22:14:14           AB           2127            2   \n",
       "3874  33990350  2024-05-02 08:01:50           AB           2127            2   \n",
       "4770  33946948  2024-05-01 23:36:13           AB           2127            2   \n",
       "5658  33999332  2024-05-02 09:45:23           AB           2127            2   \n",
       "\n",
       "     departure_airport     user_name      action_name  \\\n",
       "4                  BOM  service-acco  ASMMsgProcessor   \n",
       "285                BOM  service-acco  ASMMsgProcessor   \n",
       "3874               BOM  service-acco  ASMMsgProcessor   \n",
       "4770               BOM  service-acco  ASMMsgProcessor   \n",
       "5658               BOM  service-acco  ASMMsgProcessor   \n",
       "\n",
       "                                                                                                                                                                                                             header_line  \\\n",
       "4     2024-05-01 09:14:41,884 INFO  [829566f527b588fa] [AB2127 /02 BOM | service-acco | ASMMsgProcessor                     |                                | Thread-49765 (ActiveMQ-client-global-threads)]  Received:   \n",
       "285   2024-04-30 22:14:14,006 INFO  [15f006af1588e82b] [AB2127 /02 BOM | service-acco | ASMMsgProcessor                     |                                | Thread-49452 (ActiveMQ-client-global-threads)]  Received:   \n",
       "3874  2024-05-02 08:01:50,890 INFO  [fd962196909664d8] [AB2127 /02 BOM | service-acco | ASMMsgProcessor                     |                                | Thread-50320 (ActiveMQ-client-global-threads)]  Received:   \n",
       "4770  2024-05-01 23:36:13,364 INFO  [3cb4f40e7728d87b] [AB2127 /02 BOM | service-acco | ASMMsgProcessor                     |                                | Thread-50161 (ActiveMQ-client-global-threads)]  Received:   \n",
       "5658  2024-05-02 09:45:23,225 INFO  [cfe5c7aff039f5d0] [AB2127 /02 BOM | service-acco | ASMMsgProcessor                     |                                | Thread-50384 (ActiveMQ-client-global-threads)]  Received:   \n",
       "\n",
       "                                                                                                                                                                                                                                                                                                                                                                                                                                                                                                                                                                                                                                                                                                                                                                                                                                                                                                                                                                                                                                                                                                                                                                                                                                                                                                                                                                                                                                                                                                                                                                                                                                                                                                                                                                                                                                                                                                                                                                                                                                                                                                                                                                                                                                                                                                                                                                                                                                                                                                                                                                                                                                                                                                                                                                                                                                                                                                                                                                                                                                                                                                                                                                                                                                                                                                                                                                                                                                                                                                                                                                                                                                                                                                                                                                                                                                                                                                                                                                                                                                                                                                                                                                                                                                                                                                                                                                                                                                                                                 entry_details  \\\n",
       "4                                                                                                                                                                                                                                                                                                                                                                                                                                                                                                                                                                                                                                                                                                                                                                                                                                                                                                                                                                                                                                                                                                                                                                                                                                                                                                                                                                                                                                                                                                                                                                                                                                                                                                                                                     <?xml version=\"1.0\" encoding=\"UTF-8\"?>\\r\\n<ns2:OSSChangeMessage xmlns:ns2=\"http://www.onesystem.com/iocc/oss/notification/OssChangeMessage-1.3.0\">\\r\\n   <changeDescriptor>\\r\\n      <changeDetail>\\r\\n         <changeLocation>/OSSChangeMessage/newFlight/leg[1]/aircraftRegistration</changeLocation>\\r\\n         <changeDescription>\\r\\n            <actionCode>EQT</actionCode>\\r\\n         </changeDescription>\\r\\n      </changeDetail>\\r\\n      <changeDetail>\\r\\n         <changeLocation>/OSSChangeMessage/newFlight/leg[1]/aircraftSubtype</changeLocation>\\r\\n         <changeDescription>\\r\\n            <actionCode>EQT</actionCode>\\r\\n         </changeDescription>\\r\\n      </changeDetail>\\r\\n   </changeDescriptor>\\r\\n   <oldFlight>\\r\\n      <identity>\\r\\n         <carrier>AB</carrier>\\r\\n         <dayOfOrigin>2024-05-02Z</dayOfOrigin>\\r\\n         <number>2127</number>\\r\\n         <id>49800</id>\\r\\n         <version>9</version>\\r\\n      </identity>\\r\\n      <leg>\\r\\n         <scheduleState>SKD</scheduleState>\\r\\n         <departureAirport>BOM</departureAirport>\\r\\n         <departureTime>2024-05-02T07:35:00.000Z</departureTime>\\r\\n         <arrivalAirport>DEL</arrivalAirport>\\r\\n         <arrivalTime>2024-05-02T09:45:00.000Z</arrivalTime>\\r\\n         <aircraftRegistration>ABCAD</aircraftRegistration>\\r\\n         <aircraftSubtype>7MA</aircraftSubtype>\\r\\n         <aircraftVersion>Y189</aircraftVersion>\\r\\n         <serviceType>J</serviceType>\\r\\n         <nonOperational>false</nonOperational>\\r\\n         <flifoCancel>false</flifoCancel>\\r\\n         <sequenceNumber>1</sequenceNumber>\\r\\n         <id>104199</id>\\r\\n      </leg>\\r\\n   </oldFlight>\\r\\n   <newFlight>\\r\\n      <identity>\\r\\n         <carrier>AB</carrier>\\r\\n         <dayOfOrigin>2024-05-02Z</dayOfOrigin>\\r\\n         <number>2127</number>\\r\\n         <id>49800</id>\\r\\n         <version>10</version>\\r\\n      </identity>\\r\\n      <leg>\\r\\n         <scheduleState>SKD</scheduleState>\\r\\n         <departureAirport>BOM</departureAirport>\\r\\n         <departureTime>2024-05-02T07:35:00.000Z</departureTime>\\r\\n         <arrivalAirport>DEL</arrivalAirport>\\r\\n         <arrivalTime>2024-05-02T09:45:00.000Z</arrivalTime>\\r\\n         <aircraftRegistration>ABCAM</aircraftRegistration>\\r\\n         <aircraftSubtype>7AL</aircraftSubtype>\\r\\n         <aircraftVersion>Y189</aircraftVersion>\\r\\n         <serviceType>J</serviceType>\\r\\n         <nonOperational>false</nonOperational>\\r\\n         <flifoCancel>false</flifoCancel>\\r\\n         <sequenceNumber>1</sequenceNumber>\\r\\n         <id>104199</id>\\r\\n      </leg>\\r\\n   </newFlight>\\r\\n</ns2:OSSChangeMessage>   \n",
       "285                                                                                                                                                                                                                                                                                                                                                                                                                                                                                                                                                                                                                                                                                                                                                                                                                                                                                                                                                                                                                                                                                                                                                                                                                                                                                                                                                                                                                                                                                                                                                                                                                                                                                                                                                                                                                                                                                                                                                                                                                  <?xml version=\"1.0\" encoding=\"UTF-8\"?>\\r\\n<ns2:OSSChangeMessage xmlns:ns2=\"http://www.onesystem.com/iocc/oss/notification/OssChangeMessage-1.3.0\">\\r\\n   <changeDescriptor>\\r\\n      <changeDetail>\\r\\n         <changeLocation>/OSSChangeMessage/newFlight/leg[1]/aircraftRegistration</changeLocation>\\r\\n         <changeDescription>\\r\\n            <actionCode>EQT</actionCode>\\r\\n         </changeDescription>\\r\\n      </changeDetail>\\r\\n   </changeDescriptor>\\r\\n   <oldFlight>\\r\\n      <identity>\\r\\n         <carrier>AB</carrier>\\r\\n         <dayOfOrigin>2024-05-02Z</dayOfOrigin>\\r\\n         <number>2127</number>\\r\\n         <id>49800</id>\\r\\n         <version>8</version>\\r\\n      </identity>\\r\\n      <leg>\\r\\n         <scheduleState>SKD</scheduleState>\\r\\n         <departureAirport>BOM</departureAirport>\\r\\n         <departureTime>2024-05-02T07:35:00.000Z</departureTime>\\r\\n         <arrivalAirport>DEL</arrivalAirport>\\r\\n         <arrivalTime>2024-05-02T09:45:00.000Z</arrivalTime>\\r\\n         <aircraftRegistration>ABCAG</aircraftRegistration>\\r\\n         <aircraftSubtype>7MA</aircraftSubtype>\\r\\n         <aircraftVersion>Y189</aircraftVersion>\\r\\n         <serviceType>J</serviceType>\\r\\n         <nonOperational>false</nonOperational>\\r\\n         <flifoCancel>false</flifoCancel>\\r\\n         <sequenceNumber>1</sequenceNumber>\\r\\n         <id>104199</id>\\r\\n      </leg>\\r\\n   </oldFlight>\\r\\n   <newFlight>\\r\\n      <identity>\\r\\n         <carrier>AB</carrier>\\r\\n         <dayOfOrigin>2024-05-02Z</dayOfOrigin>\\r\\n         <number>2127</number>\\r\\n         <id>49800</id>\\r\\n         <version>9</version>\\r\\n      </identity>\\r\\n      <leg>\\r\\n         <scheduleState>SKD</scheduleState>\\r\\n         <departureAirport>BOM</departureAirport>\\r\\n         <departureTime>2024-05-02T07:35:00.000Z</departureTime>\\r\\n         <arrivalAirport>DEL</arrivalAirport>\\r\\n         <arrivalTime>2024-05-02T09:45:00.000Z</arrivalTime>\\r\\n         <aircraftRegistration>ABCAD</aircraftRegistration>\\r\\n         <aircraftSubtype>7MA</aircraftSubtype>\\r\\n         <aircraftVersion>Y189</aircraftVersion>\\r\\n         <serviceType>J</serviceType>\\r\\n         <nonOperational>false</nonOperational>\\r\\n         <flifoCancel>false</flifoCancel>\\r\\n         <sequenceNumber>1</sequenceNumber>\\r\\n         <id>104199</id>\\r\\n      </leg>\\r\\n   </newFlight>\\r\\n</ns2:OSSChangeMessage>   \n",
       "3874  <?xml version=\"1.0\" encoding=\"UTF-8\"?>\\r\\n<ns2:OSSChangeMessage xmlns:ns2=\"http://www.onesystem.com/iocc/oss/notification/OssChangeMessage-1.3.0\">\\r\\n   <changeDescriptor>\\r\\n      <changeDetail>\\r\\n         <changeLocation>/OSSChangeMessage/newFlight/leg[1]/mvtActual[1]/actualState</changeLocation>\\r\\n         <changeLocation>/OSSChangeMessage/newFlight/leg[1]/mvtActual[1]/airborneTime</changeLocation>\\r\\n         <changeLocation>/OSSChangeMessage/newFlight/leg[1]/mvtActual[1]/landingTime</changeLocation>\\r\\n         <changeLocation>/OSSChangeMessage/newFlight/leg[1]/mvtActual[1]/onblockTime</changeLocation>\\r\\n         <changeDescription>\\r\\n            <movementState>AIRBORNE</movementState>\\r\\n         </changeDescription>\\r\\n      </changeDetail>\\r\\n   </changeDescriptor>\\r\\n   <oldFlight>\\r\\n      <identity>\\r\\n         <carrier>AB</carrier>\\r\\n         <dayOfOrigin>2024-05-02Z</dayOfOrigin>\\r\\n         <number>2127</number>\\r\\n         <id>49800</id>\\r\\n         <version>15</version>\\r\\n      </identity>\\r\\n      <leg>\\r\\n         <scheduleState>SKD</scheduleState>\\r\\n         <departureAirport>BOM</departureAirport>\\r\\n         <departureTime>2024-05-02T07:35:00.000Z</departureTime>\\r\\n         <arrivalAirport>DEL</arrivalAirport>\\r\\n         <arrivalTime>2024-05-02T09:45:00.000Z</arrivalTime>\\r\\n         <aircraftRegistration>ABCAM</aircraftRegistration>\\r\\n         <aircraftSubtype>7AL</aircraftSubtype>\\r\\n         <aircraftVersion>Y189</aircraftVersion>\\r\\n         <serviceType>J</serviceType>\\r\\n         <nonOperational>false</nonOperational>\\r\\n         <flifoCancel>false</flifoCancel>\\r\\n         <sequenceNumber>1</sequenceNumber>\\r\\n         <id>104199</id>\\r\\n         <mvtActual>\\r\\n            <actualNumber>1</actualNumber>\\r\\n            <actualState>OFF_BLOCK</actualState>\\r\\n            <offblockTime>2024-05-02T07:34:00.000Z</offblockTime>\\r\\n            <landingTime>2024-05-02T09:46:00.000Z</landingTime>\\r\\n            <onblockTime>2024-05-02T09:56:00.000Z</onblockTime>\\r\\n            <arrivalAirport>DEL</arrivalAirport>\\r\\n            <id>107642</id>\\r\\n         </mvtActual>\\r\\n      </leg>\\r\\n   </oldFlight>\\r\\n   <newFlight>\\r\\n      <identity>\\r\\n         <carrier>AB</carrier>\\r\\n         <dayOfOrigin>2024-05-02Z</dayOfOrigin>\\r\\n         <number>2127</number>\\r\\n         <id>49800</id>\\r\\n         <version>16</version>\\r\\n      </identity>\\r\\n      <leg>\\r\\n         <scheduleState>SKD</scheduleState>\\r\\n         <departureAirport>BOM</departureAirport>\\r\\n         <departureTime>2024-05-02T07:35:00.000Z</departureTime>\\r\\n         <arrivalAirport>DEL</arrivalAirport>\\r\\n         <arrivalTime>2024-05-02T09:45:00.000Z</arrivalTime>\\r\\n         <aircraftRegistration>ABCAM</aircraftRegistration>\\r\\n         <aircraftSubtype>7AL</aircraftSubtype>\\r\\n         <aircraftVersion>Y189</aircraftVersion>\\r\\n         <serviceType>J</serviceType>\\r\\n         <nonOperational>false</nonOperational>\\r\\n         <flifoCancel>false</flifoCancel>\\r\\n         <bestTimes>\\r\\n            <offblockTime>\\r\\n               <timeSource>M</timeSource>\\r\\n               <timeSource>S</timeSource>\\r\\n               <time>2024-05-02T07:34:00.000Z</time>\\r\\n            </offblockTime>\\r\\n            <airborneTime>\\r\\n               <timeSource>M</timeSource>\\r\\n               <timeSource>E</timeSource>\\r\\n               <time>2024-05-02T09:42:00.000Z</time>\\r\\n            </airborneTime>\\r\\n            <onblockTime>\\r\\n               <timeSource>M</timeSource>\\r\\n               <timeSource>E</timeSource>\\r\\n               <time>2024-05-02T09:52:00.000Z</time>\\r\\n            </onblockTime>\\r\\n         </bestTimes>\\r\\n         <sequenceNumber>1</sequenceNumber>\\r\\n         <id>104199</id>\\r\\n         <mvtActual>\\r\\n            <actualNumber>1</actualNumber>\\r\\n            <actualState>AIRBORNE</actualState>\\r\\n            <offblockTime>2024-05-02T07:34:00.000Z</offblockTime>\\r\\n            <airborneTime>2024-05-02T08:00:00.000Z</airborneTime>\\r\\n            <landingTime>2024-05-02T09:42:00.000Z</landingTime>\\r\\n            <onblockTime>2024-05-02T09:52:00.000Z</onblockTime>\\r\\n            <arrivalAirport>DEL</arrivalAirport>\\r\\n            <id>107642</id>\\r\\n         </mvtActual>\\r\\n      </leg>\\r\\n   </newFlight>\\r\\n</ns2:OSSChangeMessage>   \n",
       "4770                                                                                                                                                                                                                                                                                                                                                                                                                                                                                                                                                                                                                                                                                                                                                                                                                                                                                                                                                                                                                                                                                                                                                                                  <?xml version=\"1.0\" encoding=\"UTF-8\"?>\\r\\n<ns2:OSSChangeMessage xmlns:ns2=\"http://www.onesystem.com/iocc/oss/notification/OssChangeMessage-1.3.0\">\\r\\n   <changeDescriptor>\\r\\n      <changeDetail>\\r\\n         <changeLocation>/OSSChangeMessage/newFlight/leg[1]/mvtActual[1]/actualState</changeLocation>\\r\\n         <changeLocation>/OSSChangeMessage/newFlight/leg[1]/mvtActual[1]/landingTime</changeLocation>\\r\\n         <changeLocation>/OSSChangeMessage/newFlight/leg[1]/mvtActual[1]/arrivalAirport</changeLocation>\\r\\n         <changeDescription>\\r\\n            <movementState>ESTIMATED_DEPARTURE</movementState>\\r\\n         </changeDescription>\\r\\n      </changeDetail>\\r\\n   </changeDescriptor>\\r\\n   <oldFlight>\\r\\n      <identity>\\r\\n         <carrier>AB</carrier>\\r\\n         <dayOfOrigin>2024-05-02Z</dayOfOrigin>\\r\\n         <number>2127</number>\\r\\n         <id>49800</id>\\r\\n         <version>10</version>\\r\\n      </identity>\\r\\n      <leg>\\r\\n         <scheduleState>SKD</scheduleState>\\r\\n         <departureAirport>BOM</departureAirport>\\r\\n         <departureTime>2024-05-02T07:35:00.000Z</departureTime>\\r\\n         <arrivalAirport>DEL</arrivalAirport>\\r\\n         <arrivalTime>2024-05-02T09:45:00.000Z</arrivalTime>\\r\\n         <aircraftRegistration>ABCAM</aircraftRegistration>\\r\\n         <aircraftSubtype>7AL</aircraftSubtype>\\r\\n         <aircraftVersion>Y189</aircraftVersion>\\r\\n         <serviceType>J</serviceType>\\r\\n         <nonOperational>false</nonOperational>\\r\\n         <flifoCancel>false</flifoCancel>\\r\\n         <sequenceNumber>1</sequenceNumber>\\r\\n         <id>104199</id>\\r\\n      </leg>\\r\\n   </oldFlight>\\r\\n   <newFlight>\\r\\n      <identity>\\r\\n         <carrier>AB</carrier>\\r\\n         <dayOfOrigin>2024-05-02Z</dayOfOrigin>\\r\\n         <number>2127</number>\\r\\n         <id>49800</id>\\r\\n         <version>11</version>\\r\\n      </identity>\\r\\n      <leg>\\r\\n         <scheduleState>SKD</scheduleState>\\r\\n         <departureAirport>BOM</departureAirport>\\r\\n         <departureTime>2024-05-02T07:35:00.000Z</departureTime>\\r\\n         <arrivalAirport>DEL</arrivalAirport>\\r\\n         <arrivalTime>2024-05-02T09:45:00.000Z</arrivalTime>\\r\\n         <aircraftRegistration>ABCAM</aircraftRegistration>\\r\\n         <aircraftSubtype>7AL</aircraftSubtype>\\r\\n         <aircraftVersion>Y189</aircraftVersion>\\r\\n         <serviceType>J</serviceType>\\r\\n         <nonOperational>false</nonOperational>\\r\\n         <flifoCancel>false</flifoCancel>\\r\\n         <bestTimes>\\r\\n            <airborneTime>\\r\\n               <timeSource>M</timeSource>\\r\\n               <timeSource>E</timeSource>\\r\\n               <time>2024-05-02T09:46:00.000Z</time>\\r\\n            </airborneTime>\\r\\n         </bestTimes>\\r\\n         <sequenceNumber>1</sequenceNumber>\\r\\n         <id>104199</id>\\r\\n         <mvtActual>\\r\\n            <actualNumber>1</actualNumber>\\r\\n            <actualState>ESTIMATED_DEPARTURE</actualState>\\r\\n            <landingTime>2024-05-02T09:46:00.000Z</landingTime>\\r\\n            <arrivalAirport>DEL</arrivalAirport>\\r\\n            <id>0</id>\\r\\n         </mvtActual>\\r\\n      </leg>\\r\\n   </newFlight>\\r\\n</ns2:OSSChangeMessage>   \n",
       "5658                                                                                                                                                                                                                                                                                                                            <?xml version=\"1.0\" encoding=\"UTF-8\"?>\\r\\n<ns2:OSSChangeMessage xmlns:ns2=\"http://www.onesystem.com/iocc/oss/notification/OssChangeMessage-1.3.0\">\\r\\n   <changeDescriptor>\\r\\n      <changeDetail>\\r\\n         <changeLocation>/OSSChangeMessage/newFlight/leg[1]/mvtActual[1]/actualState</changeLocation>\\r\\n         <changeLocation>/OSSChangeMessage/newFlight/leg[1]/mvtActual[1]/landingTime</changeLocation>\\r\\n         <changeLocation>/OSSChangeMessage/newFlight/leg[1]/mvtActual[1]/onblockTime</changeLocation>\\r\\n         <changeDescription>\\r\\n            <movementState>LANDED</movementState>\\r\\n         </changeDescription>\\r\\n      </changeDetail>\\r\\n   </changeDescriptor>\\r\\n   <oldFlight>\\r\\n      <identity>\\r\\n         <carrier>AB</carrier>\\r\\n         <dayOfOrigin>2024-05-02Z</dayOfOrigin>\\r\\n         <number>2127</number>\\r\\n         <id>49800</id>\\r\\n         <version>16</version>\\r\\n      </identity>\\r\\n      <leg>\\r\\n         <scheduleState>SKD</scheduleState>\\r\\n         <departureAirport>BOM</departureAirport>\\r\\n         <departureTime>2024-05-02T07:35:00.000Z</departureTime>\\r\\n         <arrivalAirport>DEL</arrivalAirport>\\r\\n         <arrivalTime>2024-05-02T09:45:00.000Z</arrivalTime>\\r\\n         <aircraftRegistration>ABCAM</aircraftRegistration>\\r\\n         <aircraftSubtype>7AL</aircraftSubtype>\\r\\n         <aircraftVersion>Y189</aircraftVersion>\\r\\n         <serviceType>J</serviceType>\\r\\n         <nonOperational>false</nonOperational>\\r\\n         <flifoCancel>false</flifoCancel>\\r\\n         <sequenceNumber>1</sequenceNumber>\\r\\n         <id>104199</id>\\r\\n         <mvtActual>\\r\\n            <actualNumber>1</actualNumber>\\r\\n            <actualState>AIRBORNE</actualState>\\r\\n            <offblockTime>2024-05-02T07:34:00.000Z</offblockTime>\\r\\n            <airborneTime>2024-05-02T08:00:00.000Z</airborneTime>\\r\\n            <landingTime>2024-05-02T09:42:00.000Z</landingTime>\\r\\n            <onblockTime>2024-05-02T09:52:00.000Z</onblockTime>\\r\\n            <arrivalAirport>DEL</arrivalAirport>\\r\\n            <id>107642</id>\\r\\n         </mvtActual>\\r\\n      </leg>\\r\\n   </oldFlight>\\r\\n   <newFlight>\\r\\n      <identity>\\r\\n         <carrier>AB</carrier>\\r\\n         <dayOfOrigin>2024-05-02Z</dayOfOrigin>\\r\\n         <number>2127</number>\\r\\n         <id>49800</id>\\r\\n         <version>17</version>\\r\\n      </identity>\\r\\n      <leg>\\r\\n         <scheduleState>SKD</scheduleState>\\r\\n         <departureAirport>BOM</departureAirport>\\r\\n         <departureTime>2024-05-02T07:35:00.000Z</departureTime>\\r\\n         <arrivalAirport>DEL</arrivalAirport>\\r\\n         <arrivalTime>2024-05-02T09:45:00.000Z</arrivalTime>\\r\\n         <aircraftRegistration>ABCAM</aircraftRegistration>\\r\\n         <aircraftSubtype>7AL</aircraftSubtype>\\r\\n         <aircraftVersion>Y189</aircraftVersion>\\r\\n         <serviceType>J</serviceType>\\r\\n         <nonOperational>false</nonOperational>\\r\\n         <flifoCancel>false</flifoCancel>\\r\\n         <bestTimes>\\r\\n            <offblockTime>\\r\\n               <timeSource>M</timeSource>\\r\\n               <timeSource>S</timeSource>\\r\\n               <time>2024-05-02T07:34:00.000Z</time>\\r\\n            </offblockTime>\\r\\n            <airborneTime>\\r\\n               <timeSource>M</timeSource>\\r\\n               <timeSource>S</timeSource>\\r\\n               <time>2024-05-02T09:41:00.000Z</time>\\r\\n            </airborneTime>\\r\\n         </bestTimes>\\r\\n         <sequenceNumber>1</sequenceNumber>\\r\\n         <id>104199</id>\\r\\n         <mvtActual>\\r\\n            <actualNumber>1</actualNumber>\\r\\n            <actualState>LANDED</actualState>\\r\\n            <offblockTime>2024-05-02T07:34:00.000Z</offblockTime>\\r\\n            <airborneTime>2024-05-02T08:00:00.000Z</airborneTime>\\r\\n            <landingTime>2024-05-02T09:41:00.000Z</landingTime>\\r\\n            <arrivalAirport>DEL</arrivalAirport>\\r\\n            <id>107642</id>\\r\\n         </mvtActual>\\r\\n      </leg>\\r\\n   </newFlight>\\r\\n</ns2:OSSChangeMessage>   \n",
       "\n",
       "     header_category         header_id  \n",
       "4           received  829566f527b588fa  \n",
       "285         received  15f006af1588e82b  \n",
       "3874        received  fd962196909664d8  \n",
       "4770        received  3cb4f40e7728d87b  \n",
       "5658        received  cfe5c7aff039f5d0  "
      ]
     },
     "execution_count": 7,
     "metadata": {},
     "output_type": "execute_result"
    }
   ],
   "source": [
    "combined_trips[(combined_trips[\"flight_number\"] == 2127) & (combined_trips[\"flight_date\"] == 2)].head(5)"
   ]
  },
  {
   "cell_type": "code",
   "execution_count": 15,
   "metadata": {},
   "outputs": [
    {
     "data": {
      "text/plain": [
       "array(['BLR', 'BOM', 'DEL', 'GOX', 'IXB', 'COK', 'CCU', 'HYD', 'GAU',\n",
       "       'SXR', 'AMD', 'VNS', 'PNQ', 'LKO', 'AYJ', 'IXZ', 'GWL', 'BBI',\n",
       "       'DOH', 'IXA', 'MAA', 'SIN', 'DXB', 'SIG', 'RUP', 'DUB', 'LAX',\n",
       "       'ORK', 'LHR', 'IAD', 'MAD', 'MUC', 'MAN', 'AGP', 'YYZ', 'ORD',\n",
       "       'JFK', 'NOC', 'SFO', 'SNN', 'EWR', 'MCO', 'BDL', 'BOS', 'PHL',\n",
       "       'SEA', 'CLE', 'VCE', 'CDG', 'FAO', 'BGI', 'MSP', 'PGF', 'NAP',\n",
       "       'BOD', 'FCO', 'DUS', 'TLS', 'CMH', 'LPA', 'BVB', 'SSA', 'REC',\n",
       "       'MCZ', 'SLZ', 'NAT', 'STM', 'CGB', 'IMP', 'PVH', 'MAO', 'CGR',\n",
       "       'GRU', 'VIX', 'THE', 'MOC', 'SJP', 'FOR', 'GYN', 'UDI', 'CWB',\n",
       "       'CNF', 'POA', 'BSB', 'BEL', 'GIG', 'PPB', 'FLN', 'IGU', 'AJU',\n",
       "       'CGH', 'NVT', 'VCP', 'JDO', 'SDU', 'IPN', 'ORY', 'RAO', 'LIS',\n",
       "       'FEN', 'FLL', 'LDB', 'UBA', 'CAC', 'PNZ', 'JPA', 'BPS', 'IZA',\n",
       "       'ARU', 'VDC', 'JOI', 'JTC', 'MGF', 'PFB', 'CMG', 'CAW', 'URG',\n",
       "       'BYO', 'CKS', 'BVH', 'LEC', 'OPS', 'MAB', 'SJL', 'MII', 'OAL',\n",
       "       'MCP', 'IOS', 'EEA', 'PET', 'XAP', 'CPV', 'SMT', 'CXJ', 'AAX',\n",
       "       'BRA', 'FEC', 'ROO', 'GPB', 'AFL', 'PMG', 'JJG', 'MVD', 'ATM',\n",
       "       'PAV', 'PMW', 'ITB', 'CFB', 'TFF', 'GEL', 'MDZ', 'POJ', 'PIN',\n",
       "       'JPR', 'RIA', 'TBT', 'CUR', 'CLV', 'TJL', 'PDP', 'SSV', 'GNM',\n",
       "       'UNA', 'JJD', 'PHB', 'TMT', 'GVR', 'MVF', 'RVD', 'PGZ', 'PTO',\n",
       "       'RBB', 'MEU', 'TFL', 'VAG', 'LHN', 'MNX', 'ERN', 'ARX', 'BRB',\n",
       "       'HAM', 'RBR', 'RVY', 'SOD'], dtype=object)"
      ]
     },
     "execution_count": 15,
     "metadata": {},
     "output_type": "execute_result"
    }
   ],
   "source": [
    "combined_trips[\"departure_airport\"].unique()"
   ]
  },
  {
   "cell_type": "code",
   "execution_count": 14,
   "metadata": {},
   "outputs": [],
   "source": [
    "airport_flight_counts = combined_trips.groupby('departure_airport')['flight_number'].nunique().reset_index()\n",
    "airport_flight_counts.columns = ['departure_airport', 'unique_flight_numbers']"
   ]
  },
  {
   "cell_type": "code",
   "execution_count": 16,
   "metadata": {},
   "outputs": [],
   "source": [
    "import folium\n",
    "from src.utils import airport_coords\n",
    "# Initialize a map centered around a geographical location (Brazil in this case)\n",
    "map_center = [-14.2350, -51.9253]  # Center of Brazil\n",
    "m = folium.Map(location=map_center, zoom_start=4)\n",
    "\n",
    "# Add markers to the map\n",
    "for _, row in airport_flight_counts.iterrows():\n",
    "    airport = row['departure_airport']\n",
    "    count = row['unique_flight_numbers']\n",
    "    coords = airport_coords.get(airport)\n",
    "    if coords:\n",
    "        folium.Marker(\n",
    "            location=coords,\n",
    "            popup=f'{airport}: {count} unique flight numbers',\n",
    "            tooltip=f'{airport}: {count} unique flight numbers'\n",
    "        ).add_to(m)\n",
    "\n",
    "# Save the map to an HTML file\n",
    "m.save('airport_flight_map.html')"
   ]
  },
  {
   "cell_type": "code",
   "execution_count": null,
   "metadata": {},
   "outputs": [],
   "source": []
  }
 ],
 "metadata": {
  "kernelspec": {
   "display_name": ".venv",
   "language": "python",
   "name": "python3"
  },
  "language_info": {
   "codemirror_mode": {
    "name": "ipython",
    "version": 3
   },
   "file_extension": ".py",
   "mimetype": "text/x-python",
   "name": "python",
   "nbconvert_exporter": "python",
   "pygments_lexer": "ipython3",
   "version": "3.11.8"
  }
 },
 "nbformat": 4,
 "nbformat_minor": 2
}
